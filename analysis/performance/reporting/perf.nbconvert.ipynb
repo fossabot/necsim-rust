{
 "cells": [
  {
   "cell_type": "code",
   "execution_count": 1,
   "metadata": {
    "execution": {
     "iopub.execute_input": "2021-06-11T21:37:40.856557Z",
     "iopub.status.busy": "2021-06-11T21:37:40.855816Z",
     "iopub.status.idle": "2021-06-11T21:37:41.209655Z",
     "shell.execute_reply": "2021-06-11T21:37:41.210171Z"
    },
    "jupyter": {
     "source_hidden": true
    },
    "tags": []
   },
   "outputs": [],
   "source": [
    "import subprocess\n",
    "import shlex\n",
    "import json\n",
    "import re\n",
    "\n",
    "import numpy as np\n",
    "\n",
    "from pathlib import Path\n",
    "from IPython.display import display, Markdown"
   ]
  },
  {
   "cell_type": "code",
   "execution_count": 2,
   "metadata": {
    "execution": {
     "iopub.execute_input": "2021-06-11T21:37:41.214763Z",
     "iopub.status.busy": "2021-06-11T21:37:41.214025Z",
     "iopub.status.idle": "2021-06-11T21:37:41.215858Z",
     "shell.execute_reply": "2021-06-11T21:37:41.216339Z"
    },
    "jupyter": {
     "source_hidden": true
    }
   },
   "outputs": [],
   "source": [
    "CC_PATTERN = re.compile(r\"(?<!^)(?=[A-Z])\")"
   ]
  },
  {
   "cell_type": "code",
   "execution_count": 3,
   "metadata": {
    "execution": {
     "iopub.execute_input": "2021-06-11T21:37:41.219966Z",
     "iopub.status.busy": "2021-06-11T21:37:41.219354Z",
     "iopub.status.idle": "2021-06-11T21:37:43.565501Z",
     "shell.execute_reply": "2021-06-11T21:37:43.565900Z"
    },
    "jupyter": {
     "source_hidden": true
    }
   },
   "outputs": [],
   "source": [
    "target_directory = json.loads(subprocess.run(\"cargo metadata --format-version 1\".split(), capture_output=True).stdout)[\"target_directory\"]"
   ]
  },
  {
   "cell_type": "code",
   "execution_count": 4,
   "metadata": {
    "execution": {
     "iopub.execute_input": "2021-06-11T21:37:43.571696Z",
     "iopub.status.busy": "2021-06-11T21:37:43.571043Z",
     "iopub.status.idle": "2021-06-11T21:37:43.572930Z",
     "shell.execute_reply": "2021-06-11T21:37:43.573462Z"
    },
    "jupyter": {
     "source_hidden": true
    },
    "tags": []
   },
   "outputs": [],
   "source": [
    "def simulate_cpu_reporting_dynamic(\n",
    "    algorithm, speciation=0.001, seed=42, sample=1.0, radius=564, sigma=10.0, report_speciation=False, report_dispersal=False, output=\"profile\",\n",
    "):\n",
    "    if report_dispersal:\n",
    "        reporters = [\"Execution()\", \"Biodiversity()\", \"Counter()\"]\n",
    "    elif report_speciation:\n",
    "        reporters = [\"Execution()\", \"Biodiversity()\"]\n",
    "    else:\n",
    "        reporters = [\"Execution()\"]\n",
    "        \n",
    "    config = \"\".join(f\"\"\"\n",
    "    (\n",
    "        speciation: {speciation},\n",
    "        sample: {sample},\n",
    "        seed: {seed},\n",
    "\n",
    "        algorithm: {algorithm},\n",
    "\n",
    "        scenario: AlmostInfinite(\n",
    "            radius: {radius},\n",
    "            sigma: {sigma},\n",
    "        ),\n",
    "\n",
    "        reporters: [\n",
    "            Plugin(\n",
    "                library: \"{target_directory}/release/deps/libnecsim_plugins_common.so\",\n",
    "                reporters: [{', '.join(reporters)}]\n",
    "            )\n",
    "        ],\n",
    "    )\n",
    "    \"\"\".split()).replace(\",)\", \")\").replace(\",]\", \"]\")\n",
    "    \n",
    "    # Profile the full simulation using perf, then filter the events and output for the Firefox Profiler\n",
    "    print(\n",
    "        f\"perf record -F {997} --call-graph dwarf -g {target_directory}/release/rustcoalescence simulate '{config}'\" +\n",
    "        f\" && perf script -F +pid > {output}.perf\"\n",
    "    )"
   ]
  },
  {
   "cell_type": "code",
   "execution_count": 5,
   "metadata": {
    "execution": {
     "iopub.execute_input": "2021-06-11T21:37:43.579737Z",
     "iopub.status.busy": "2021-06-11T21:37:43.577233Z",
     "iopub.status.idle": "2021-06-11T21:37:46.289439Z",
     "shell.execute_reply": "2021-06-11T21:37:46.289822Z"
    },
    "jupyter": {
     "source_hidden": true
    },
    "tags": []
   },
   "outputs": [
    {
     "data": {
      "text/plain": [
       "CompletedProcess(args=['cargo', 'build', '--manifest-path', '/vol/bitbucket/ml5717/necsim-rust/target/../rustcoalescence/Cargo.toml', '--release', '--features', 'rustcoalescence-algorithms-monolithic,rustcoalescence-algorithms-independent,rustcoalescence-algorithms-cuda'], returncode=0, stdout='', stderr='    Finished release [optimized] target(s) in 2.51s\\n')"
      ]
     },
     "execution_count": 1,
     "metadata": {},
     "output_type": "execute_result"
    }
   ],
   "source": [
    "subprocess.run(shlex.split(\n",
    "    f\"cargo build --manifest-path {target_directory}/../rustcoalescence/Cargo.toml --release \"\n",
    "    + \"--features rustcoalescence-algorithms-monolithic,rustcoalescence-algorithms-independent,\"\n",
    "    + \"rustcoalescence-algorithms-cuda\"\n",
    "), check=True, capture_output=True, text=True);"
   ]
  },
  {
   "cell_type": "code",
   "execution_count": 6,
   "metadata": {
    "execution": {
     "iopub.execute_input": "2021-06-11T21:37:46.294590Z",
     "iopub.status.busy": "2021-06-11T21:37:46.294033Z",
     "iopub.status.idle": "2021-06-11T21:37:46.339480Z",
     "shell.execute_reply": "2021-06-11T21:37:46.338698Z"
    }
   },
   "outputs": [
    {
     "data": {
      "text/markdown": [
       "# RAM Information:"
      ],
      "text/plain": [
       "<IPython.core.display.Markdown object>"
      ]
     },
     "metadata": {},
     "output_type": "display_data"
    },
    {
     "data": {
      "text/markdown": [
       ">```\n",
       "              total        used        free      shared  buff/cache   available\n",
       ">Mem:       16319132      952440     7301168      271092     8065524    14758560\n",
       ">Swap:       4194300           0     4194300\n",
       ">```"
      ],
      "text/plain": [
       "<IPython.core.display.Markdown object>"
      ]
     },
     "metadata": {},
     "output_type": "display_data"
    },
    {
     "data": {
      "text/markdown": [
       "# CPU Information:"
      ],
      "text/plain": [
       "<IPython.core.display.Markdown object>"
      ]
     },
     "metadata": {},
     "output_type": "display_data"
    },
    {
     "data": {
      "text/markdown": [
       ">```\n",
       "Architecture:                    x86_64\n",
       ">CPU op-mode(s):                  32-bit, 64-bit\n",
       ">Byte Order:                      Little Endian\n",
       ">Address sizes:                   46 bits physical, 48 bits virtual\n",
       ">CPU(s):                          8\n",
       ">On-line CPU(s) list:             0-7\n",
       ">Thread(s) per core:              2\n",
       ">Core(s) per socket:              4\n",
       ">Socket(s):                       1\n",
       ">NUMA node(s):                    1\n",
       ">Vendor ID:                       GenuineIntel\n",
       ">CPU family:                      6\n",
       ">Model:                           62\n",
       ">Model name:                      Intel(R) Xeon(R) CPU E5-1620 v2 @ 3.70GHz\n",
       ">Stepping:                        4\n",
       ">CPU MHz:                         3242.610\n",
       ">CPU max MHz:                     3900.0000\n",
       ">CPU min MHz:                     1200.0000\n",
       ">BogoMIPS:                        7382.02\n",
       ">Virtualisation:                  VT-x\n",
       ">L1d cache:                       128 KiB\n",
       ">L1i cache:                       128 KiB\n",
       ">L2 cache:                        1 MiB\n",
       ">L3 cache:                        10 MiB\n",
       ">NUMA node0 CPU(s):               0-7\n",
       ">Vulnerability Itlb multihit:     KVM: Mitigation: VMX disabled\n",
       ">Vulnerability L1tf:              Mitigation; PTE Inversion; VMX conditional cache flushes, SMT vulnerable\n",
       ">Vulnerability Mds:               Mitigation; Clear CPU buffers; SMT vulnerable\n",
       ">Vulnerability Meltdown:          Mitigation; PTI\n",
       ">Vulnerability Spec store bypass: Mitigation; Speculative Store Bypass disabled via prctl and seccomp\n",
       ">Vulnerability Spectre v1:        Mitigation; usercopy/swapgs barriers and __user pointer sanitization\n",
       ">Vulnerability Spectre v2:        Mitigation; Full generic retpoline, IBPB conditional, IBRS_FW, STIBP conditional, RSB filling\n",
       ">Vulnerability Srbds:             Not affected\n",
       ">Vulnerability Tsx async abort:   Not affected\n",
       ">Flags:                           fpu vme de pse tsc msr pae mce cx8 apic sep mtrr pge mca cmov pat pse36 clflush dts acpi mmx fxsr sse sse2 ss ht tm pbe syscall nx pdpe1gb rdtscp lm constant_tsc arch_perfmon pebs bts rep_good nopl xtopology nonstop_tsc cpuid aperfmperf pni pclmulqdq dtes64 monitor ds_cpl vmx smx est tm2 ssse3 cx16 xtpr pdcm pcid dca sse4_1 sse4_2 x2apic popcnt tsc_deadline_timer aes xsave avx f16c rdrand lahf_lm cpuid_fault epb pti ssbd ibrs ibpb stibp tpr_shadow vnmi flexpriority ept vpid fsgsbase smep erms xsaveopt dtherm ida arat pln pts md_clear flush_l1d\n",
       ">```"
      ],
      "text/plain": [
       "<IPython.core.display.Markdown object>"
      ]
     },
     "metadata": {},
     "output_type": "display_data"
    }
   ],
   "source": [
    "display(Markdown(\"# RAM Information:\"))\n",
    "\n",
    "display(Markdown('>```\\n' + subprocess.run(\n",
    "    shlex.split(\"free\"), check=True, capture_output=True, text=True\n",
    ").stdout.replace('\\n', '\\n>') + '```'))\n",
    "\n",
    "display(Markdown(\"# CPU Information:\"))\n",
    "\n",
    "display(Markdown('>```\\n' + subprocess.run(\n",
    "    shlex.split(\"lscpu\"), check=True, capture_output=True, text=True\n",
    ").stdout.replace('\\n', '\\n>') + '```'))"
   ]
  },
  {
   "cell_type": "code",
   "execution_count": 7,
   "metadata": {
    "execution": {
     "iopub.execute_input": "2021-06-11T21:37:46.347988Z",
     "iopub.status.busy": "2021-06-11T21:37:46.347275Z",
     "iopub.status.idle": "2021-06-11T21:37:46.351046Z",
     "shell.execute_reply": "2021-06-11T21:37:46.351495Z"
    }
   },
   "outputs": [
    {
     "name": "stdout",
     "output_type": "stream",
     "text": [
      "perf record -F 997 --call-graph dwarf -g /vol/bitbucket/ml5717/necsim-rust/target/release/rustcoalescence simulate '(speciation:0.001,sample:1.0,seed:6487283364542318250,algorithm:Classical(),scenario:AlmostInfinite(radius:178,sigma:0.0),reporters:[Plugin(library:\"/vol/bitbucket/ml5717/necsim-rust/target/release/deps/libnecsim_plugins_common.so\",reporters:[Execution()])])' && perf script -F +pid > classical-progress.perf\n",
      "perf record -F 997 --call-graph dwarf -g /vol/bitbucket/ml5717/necsim-rust/target/release/rustcoalescence simulate '(speciation:0.001,sample:1.0,seed:6487283364542318250,algorithm:Classical(),scenario:AlmostInfinite(radius:178,sigma:0.0),reporters:[Plugin(library:\"/vol/bitbucket/ml5717/necsim-rust/target/release/deps/libnecsim_plugins_common.so\",reporters:[Execution(),Biodiversity()])])' && perf script -F +pid > classical-progress-speciation.perf\n",
      "perf record -F 997 --call-graph dwarf -g /vol/bitbucket/ml5717/necsim-rust/target/release/rustcoalescence simulate '(speciation:0.001,sample:1.0,seed:6487283364542318250,algorithm:Classical(),scenario:AlmostInfinite(radius:178,sigma:0.0),reporters:[Plugin(library:\"/vol/bitbucket/ml5717/necsim-rust/target/release/deps/libnecsim_plugins_common.so\",reporters:[Execution(),Biodiversity(),Counter()])])' && perf script -F +pid > classical-progress-speciation-dispersal.perf\n",
      "perf record -F 997 --call-graph dwarf -g /vol/bitbucket/ml5717/necsim-rust/target/release/rustcoalescence simulate '(speciation:0.001,sample:1.0,seed:6487283364542318250,algorithm:Gillespie(),scenario:AlmostInfinite(radius:178,sigma:0.0),reporters:[Plugin(library:\"/vol/bitbucket/ml5717/necsim-rust/target/release/deps/libnecsim_plugins_common.so\",reporters:[Execution()])])' && perf script -F +pid > gillespie-progress.perf\n",
      "perf record -F 997 --call-graph dwarf -g /vol/bitbucket/ml5717/necsim-rust/target/release/rustcoalescence simulate '(speciation:0.001,sample:1.0,seed:6487283364542318250,algorithm:Gillespie(),scenario:AlmostInfinite(radius:178,sigma:0.0),reporters:[Plugin(library:\"/vol/bitbucket/ml5717/necsim-rust/target/release/deps/libnecsim_plugins_common.so\",reporters:[Execution(),Biodiversity()])])' && perf script -F +pid > gillespie-progress-speciation.perf\n",
      "perf record -F 997 --call-graph dwarf -g /vol/bitbucket/ml5717/necsim-rust/target/release/rustcoalescence simulate '(speciation:0.001,sample:1.0,seed:6487283364542318250,algorithm:Gillespie(),scenario:AlmostInfinite(radius:178,sigma:0.0),reporters:[Plugin(library:\"/vol/bitbucket/ml5717/necsim-rust/target/release/deps/libnecsim_plugins_common.so\",reporters:[Execution(),Biodiversity(),Counter()])])' && perf script -F +pid > gillespie-progress-speciation-dispersal.perf\n",
      "perf record -F 997 --call-graph dwarf -g /vol/bitbucket/ml5717/necsim-rust/target/release/rustcoalescence simulate '(speciation:0.001,sample:1.0,seed:6487283364542318250,algorithm:SkippingGillespie(),scenario:AlmostInfinite(radius:178,sigma:0.0),reporters:[Plugin(library:\"/vol/bitbucket/ml5717/necsim-rust/target/release/deps/libnecsim_plugins_common.so\",reporters:[Execution()])])' && perf script -F +pid > skipping-gillespie-progress.perf\n",
      "perf record -F 997 --call-graph dwarf -g /vol/bitbucket/ml5717/necsim-rust/target/release/rustcoalescence simulate '(speciation:0.001,sample:1.0,seed:6487283364542318250,algorithm:SkippingGillespie(),scenario:AlmostInfinite(radius:178,sigma:0.0),reporters:[Plugin(library:\"/vol/bitbucket/ml5717/necsim-rust/target/release/deps/libnecsim_plugins_common.so\",reporters:[Execution(),Biodiversity()])])' && perf script -F +pid > skipping-gillespie-progress-speciation.perf\n",
      "perf record -F 997 --call-graph dwarf -g /vol/bitbucket/ml5717/necsim-rust/target/release/rustcoalescence simulate '(speciation:0.001,sample:1.0,seed:6487283364542318250,algorithm:SkippingGillespie(),scenario:AlmostInfinite(radius:178,sigma:0.0),reporters:[Plugin(library:\"/vol/bitbucket/ml5717/necsim-rust/target/release/deps/libnecsim_plugins_common.so\",reporters:[Execution(),Biodiversity(),Counter()])])' && perf script -F +pid > skipping-gillespie-progress-speciation-dispersal.perf\n",
      "perf record -F 997 --call-graph dwarf -g /vol/bitbucket/ml5717/necsim-rust/target/release/rustcoalescence simulate '(speciation:0.001,sample:1.0,seed:6487283364542318250,algorithm:Independent(),scenario:AlmostInfinite(radius:178,sigma:0.0),reporters:[Plugin(library:\"/vol/bitbucket/ml5717/necsim-rust/target/release/deps/libnecsim_plugins_common.so\",reporters:[Execution()])])' && perf script -F +pid > independent-progress.perf\n",
      "perf record -F 997 --call-graph dwarf -g /vol/bitbucket/ml5717/necsim-rust/target/release/rustcoalescence simulate '(speciation:0.001,sample:1.0,seed:6487283364542318250,algorithm:Independent(),scenario:AlmostInfinite(radius:178,sigma:0.0),reporters:[Plugin(library:\"/vol/bitbucket/ml5717/necsim-rust/target/release/deps/libnecsim_plugins_common.so\",reporters:[Execution(),Biodiversity()])])' && perf script -F +pid > independent-progress-speciation.perf\n",
      "perf record -F 997 --call-graph dwarf -g /vol/bitbucket/ml5717/necsim-rust/target/release/rustcoalescence simulate '(speciation:0.001,sample:1.0,seed:6487283364542318250,algorithm:Independent(),scenario:AlmostInfinite(radius:178,sigma:0.0),reporters:[Plugin(library:\"/vol/bitbucket/ml5717/necsim-rust/target/release/deps/libnecsim_plugins_common.so\",reporters:[Execution(),Biodiversity(),Counter()])])' && perf script -F +pid > independent-progress-speciation-dispersal.perf\n"
     ]
    }
   ],
   "source": [
    "seed = np.random.randint(0, np.iinfo(\"uint64\").max, dtype=\"uint64\")\n",
    "\n",
    "for algorithm in [\"Classical()\", \"Gillespie()\", \"SkippingGillespie()\", \"Independent()\"]:\n",
    "    for report_speciation, report_dispersal, output in [\n",
    "        (False, False, \"progress\"), (True, False, \"progress-speciation\"), (True, True, \"progress-speciation-dispersal\")\n",
    "    ]:\n",
    "        simulate_cpu_reporting_dynamic(\n",
    "            algorithm, speciation=0.001, sample=1.0, radius=178, sigma=0.0, seed=seed,\n",
    "            output=f\"{CC_PATTERN.sub('-', algorithm[:algorithm.find('(')]).lower()}-{output}\",\n",
    "            report_speciation=report_speciation, report_dispersal=report_dispersal,\n",
    "        )"
   ]
  },
  {
   "cell_type": "code",
   "execution_count": null,
   "metadata": {},
   "outputs": [],
   "source": []
  }
 ],
 "metadata": {
  "kernelspec": {
   "display_name": "Python 3",
   "language": "python",
   "name": "python3"
  },
  "language_info": {
   "codemirror_mode": {
    "name": "ipython",
    "version": 3
   },
   "file_extension": ".py",
   "mimetype": "text/x-python",
   "name": "python",
   "nbconvert_exporter": "python",
   "pygments_lexer": "ipython3",
   "version": "3.8.5"
  }
 },
 "nbformat": 4,
 "nbformat_minor": 5
}
