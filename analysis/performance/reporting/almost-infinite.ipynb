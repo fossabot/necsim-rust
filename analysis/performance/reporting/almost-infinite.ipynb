{
 "cells": [
  {
   "cell_type": "code",
   "execution_count": null,
   "id": "85acfeb7",
   "metadata": {
    "jupyter": {
     "source_hidden": true
    },
    "tags": []
   },
   "outputs": [],
   "source": [
    "import subprocess\n",
    "import shlex\n",
    "import re\n",
    "import json\n",
    "import pyinotify\n",
    "\n",
    "import numpy as np\n",
    "import multiprocessing as mp\n",
    "\n",
    "from pathlib import Path\n",
    "from scipy import stats\n",
    "from tqdm import tqdm\n",
    "from IPython.display import display, Markdown\n",
    "from tempfile import TemporaryDirectory"
   ]
  },
  {
   "cell_type": "code",
   "execution_count": null,
   "id": "8f9f5a64",
   "metadata": {
    "jupyter": {
     "source_hidden": true
    },
    "tags": []
   },
   "outputs": [],
   "source": [
    "EXECUTION_PATTERN = re.compile(r\"The simulation took:\\n - initialisation: ([^\\n]+)\\n - execution: ([^\\n]+)\\n - cleanup: ([^\\n]+)\\n\")"
   ]
  },
  {
   "cell_type": "code",
   "execution_count": null,
   "id": "18d7c08e-0a51-49ed-b4da-08fda48049dd",
   "metadata": {
    "jupyter": {
     "source_hidden": true
    },
    "tags": []
   },
   "outputs": [],
   "source": [
    "TIME_PATTERN = re.compile(r\"(\\d+(?:\\.\\d+)?)([^\\d]+)\")\n",
    "TIME_UNITS = {\n",
    "    \"ns\": 0.000000001,\n",
    "    \"µs\": 0.000001,\n",
    "    \"ms\": 0.001,\n",
    "    \"s\": 1.0,\n",
    "}\n",
    "\n",
    "def parse_time(time_str):\n",
    "    match = TIME_PATTERN.match(time_str)\n",
    "    \n",
    "    if match is None:\n",
    "        return None\n",
    "    \n",
    "    return float(match.group(1)) * TIME_UNITS[match.group(2)]"
   ]
  },
  {
   "cell_type": "code",
   "execution_count": null,
   "id": "839ac46d",
   "metadata": {
    "jupyter": {
     "source_hidden": true
    },
    "tags": []
   },
   "outputs": [],
   "source": [
    "target_directory = json.loads(subprocess.run(\"cargo metadata --format-version 1\".split(), capture_output=True).stdout)[\"target_directory\"]"
   ]
  },
  {
   "cell_type": "code",
   "execution_count": null,
   "id": "4d184d4d-e00e-4873-bf2b-5bbd1dc325b2",
   "metadata": {
    "jupyter": {
     "source_hidden": true
    },
    "tags": []
   },
   "outputs": [],
   "source": [
    "class EventLogSink(pyinotify.ProcessEvent):\n",
    "    def __init__(self, event_log):\n",
    "        Path(event_log).mkdir(parents=True, exist_ok=True)\n",
    "        \n",
    "        self.log_size = 0\n",
    "        \n",
    "        self.wm = pyinotify.WatchManager()\n",
    "        self.notifier = pyinotify.ThreadedNotifier(self.wm, self)\n",
    "        \n",
    "        self.notifier.start()\n",
    "        \n",
    "        self.wm.add_watch(event_log, pyinotify.IN_CREATE | pyinotify.IN_CLOSE_WRITE, rec=True)\n",
    "        \n",
    "    def stop(self):\n",
    "        self.notifier.stop()\n",
    "        \n",
    "        return self.log_size\n",
    "    \n",
    "    def process_IN_CREATE(self, event):\n",
    "        self.wm.add_watch(event.pathname, pyinotify.IN_CREATE | pyinotify.IN_CLOSE_WRITE)\n",
    "    \n",
    "    def process_IN_CLOSE_WRITE(self, event):\n",
    "        path = Path(event.pathname)\n",
    "        \n",
    "        if path.exists():\n",
    "            self.log_size += path.stat().st_size\n",
    "            \n",
    "            path.unlink()"
   ]
  },
  {
   "cell_type": "code",
   "execution_count": null,
   "id": "b4c55b7a",
   "metadata": {
    "jupyter": {
     "source_hidden": true
    },
    "tags": []
   },
   "outputs": [],
   "source": [
    "def simulate_reporting_dynamic(\n",
    "    algorithm, speciation=0.001, seed=42, sample=1.0, radius=564, sigma=10.0, report_speciation=False, report_dispersal=False, log=False\n",
    "):\n",
    "    if report_dispersal:\n",
    "        reporters = [\"Execution()\", \"Biodiversity()\", \"Counter()\"]\n",
    "    elif report_speciation:\n",
    "        reporters = [\"Execution()\", \"Biodiversity()\"]\n",
    "    else:\n",
    "        reporters = [\"Execution()\"]\n",
    "        \n",
    "    with TemporaryDirectory() as log_path:\n",
    "        event_log = EventLogSink(log_path)\n",
    "        \n",
    "        config = \"\".join(f\"\"\"\n",
    "        (\n",
    "            speciation: {speciation},\n",
    "            sample: {sample},\n",
    "            seed: {seed},\n",
    "\n",
    "            algorithm: {algorithm},\n",
    "\n",
    "            scenario: AlmostInfinite(\n",
    "                radius: {radius},\n",
    "                sigma: {sigma},\n",
    "            ),\n",
    "            \n",
    "            log: {f'\"{log_path}\"' if log else 'None'},\n",
    "\n",
    "            reporters: [\n",
    "                Plugin(\n",
    "                    library: \"{target_directory}/release/deps/libnecsim_plugins_common.so\",\n",
    "                    reporters: [{', '.join(reporters)}]\n",
    "                )\n",
    "            ],\n",
    "        )\n",
    "        \"\"\".split()).replace(\",)\", \")\").replace(\",]\", \"]\")\n",
    "\n",
    "        # Run the simulation\n",
    "        result = subprocess.run(shlex.split(\n",
    "            f\"{target_directory}/release/rustcoalescence simulate '{config}'\"\n",
    "        ), check=True, capture_output=True, text=True)\n",
    "        \n",
    "        event_log_size = event_log.stop()\n",
    "    \n",
    "    match = EXECUTION_PATTERN.search(result.stdout)\n",
    "    if match is None:\n",
    "        print(result.stdout)\n",
    "        print(result.stderr)\n",
    "    initialisation = parse_time(match.group(1))\n",
    "    execution = parse_time(match.group(2))\n",
    "    cleanup = parse_time(match.group(3))\n",
    "        \n",
    "    return initialisation, execution, cleanup, event_log_size"
   ]
  },
  {
   "cell_type": "code",
   "execution_count": null,
   "id": "401c264e-2ce7-435c-a56a-05f38825a810",
   "metadata": {
    "jupyter": {
     "source_hidden": true
    },
    "tags": []
   },
   "outputs": [],
   "source": [
    "def simulate_reporting_compiled(speciation=0.001, seed=42, sample=1.0, radius=564, sigma=10.0, report_speciation=False, report_dispersal=False):\n",
    "    if report_dispersal:\n",
    "        reporting = \"progress-speciation-dispersal\"\n",
    "    elif report_speciation:\n",
    "        reporting = \"progress-speciation\"\n",
    "    else:\n",
    "        reporting = \"progress-only\"\n",
    "        \n",
    "    # Run the simulation\n",
    "    result = subprocess.run(shlex.split(\n",
    "        f\"{target_directory}/release/analysis-performance-reporting --radius {radius} \" +\n",
    "        f\"--sample {sample} --seed {seed} --sigma {sigma} --speciation {speciation} {reporting}\"\n",
    "    ), check=True, capture_output=True, text=True)\n",
    "    \n",
    "    match = EXECUTION_PATTERN.search(result.stdout)\n",
    "    if match is None:\n",
    "        print(result.stdout)\n",
    "        print(result.stderr)\n",
    "    initialisation = parse_time(match.group(1))\n",
    "    execution = parse_time(match.group(2))\n",
    "    cleanup = parse_time(match.group(3))\n",
    "        \n",
    "    return initialisation, execution, cleanup"
   ]
  },
  {
   "cell_type": "code",
   "execution_count": null,
   "id": "8f940b1e",
   "metadata": {
    "jupyter": {
     "source_hidden": true
    },
    "tags": []
   },
   "outputs": [],
   "source": [
    "def batch_simulation_many_seeds(simulate, seeds, args=tuple(), kwargs=dict(), silent=False, processes=mp.cpu_count()):\n",
    "    results = []\n",
    "\n",
    "    with tqdm(total=len(seeds), disable=silent) as progress:\n",
    "        def update_progress(result):\n",
    "            results.append(result)\n",
    "\n",
    "            progress.update()\n",
    "        \n",
    "        def update_error(err):\n",
    "            print(err)\n",
    "\n",
    "        with mp.Pool(processes) as pool:\n",
    "            for seed in seeds:\n",
    "                pool.apply_async(simulate, args, {**kwargs, \"seed\": seed}, update_progress, update_error)\n",
    "\n",
    "            pool.close()\n",
    "            pool.join()\n",
    "    \n",
    "    return results"
   ]
  },
  {
   "cell_type": "code",
   "execution_count": null,
   "id": "755dcc29-367d-417d-9ae8-6d60fd966b3c",
   "metadata": {
    "jupyter": {
     "source_hidden": true
    },
    "tags": []
   },
   "outputs": [],
   "source": [
    "def format_bytes(b):\n",
    "    if b < 1e3:\n",
    "        return f\"{int(b)}B\"\n",
    "    elif b < 1e6:\n",
    "        return f\"{np.round(b / 1e3, 2)}kB\"\n",
    "    elif b < 1e9:\n",
    "        return f\"{np.round(b / 1e6, 2)}MB\"\n",
    "    elif b < 1e12:\n",
    "        return f\"{np.round(b / 1e9, 2)}GB\"\n",
    "    else:\n",
    "        return f\"{np.round(b / 1e12, 2)}TB\""
   ]
  },
  {
   "cell_type": "code",
   "execution_count": null,
   "id": "dc47c06d-a076-4a11-bfc6-5d26cd5c5ffb",
   "metadata": {
    "jupyter": {
     "source_hidden": true
    },
    "tags": []
   },
   "outputs": [],
   "source": [
    "subprocess.run(shlex.split(\n",
    "    f\"cargo build --manifest-path {target_directory}/../rustcoalescence/Cargo.toml --release \"\n",
    "    + \"--features rustcoalescence-algorithms-monolithic,rustcoalescence-algorithms-independent,\"\n",
    "    + \"rustcoalescence-algorithms-cuda\"\n",
    "), check=True, capture_output=True, text=True);\n",
    "\n",
    "subprocess.run(shlex.split(\n",
    "    \"cargo build --release\"\n",
    "), check=True, capture_output=True, text=True);"
   ]
  },
  {
   "cell_type": "code",
   "execution_count": null,
   "id": "489e99e6-cb05-42b9-8a26-6a2405322ff9",
   "metadata": {},
   "outputs": [],
   "source": [
    "display(Markdown(\"# RAM Information:\"))\n",
    "\n",
    "display(Markdown('>```\\n' + subprocess.run(\n",
    "    shlex.split(\"free\"), check=True, capture_output=True, text=True\n",
    ").stdout.replace('\\n', '\\n>') + '```'))\n",
    "\n",
    "display(Markdown(\"# CPU Information:\"))\n",
    "\n",
    "display(Markdown('>```\\n' + subprocess.run(\n",
    "    shlex.split(\"lscpu\"), check=True, capture_output=True, text=True\n",
    ").stdout.replace('\\n', '\\n>') + '```'))\n",
    "\n",
    "display(Markdown(\"# GPU Information:\"))\n",
    "\n",
    "display(Markdown('>```\\n' + subprocess.run(\n",
    "    shlex.split(\"nvidia-smi\"), check=True, capture_output=True, text=True\n",
    ").stdout.replace('\\n', '\\n>') + '```'))"
   ]
  },
  {
   "cell_type": "code",
   "execution_count": null,
   "id": "b54a6ffe-70d7-4cd3-b7bb-7cb70580f70d",
   "metadata": {},
   "outputs": [],
   "source": [
    "display(Markdown(\"# Reporting Performance:\"))\n",
    "\n",
    "seeds = np.random.randint(0, np.iinfo(\"uint64\").max, dtype=\"uint64\", size=160)\n",
    "\n",
    "for report_speciation, report_dispersal, title in [\n",
    "    (False, False, \"progress only\"), (True, False, \"progress + speciation\"), (True, True, \"progress + speciation + dispersal\")\n",
    "]:\n",
    "    display(Markdown(f\"## {title}:\"))\n",
    "    \n",
    "    initialisations, executions, cleanups, event_log_sizes = zip(*batch_simulation_many_seeds(\n",
    "        simulate_reporting_dynamic, seeds, args=(\"Classical()\",), kwargs=dict(\n",
    "            speciation=0.001, sample=1.0, radius=178, sigma=0.0, report_speciation=report_speciation, report_dispersal=report_dispersal\n",
    "        ), silent=False\n",
    "    ))\n",
    "    display(Markdown(f\"* Dynamic Plugins (CPU): {np.round(np.mean(executions), 2)}s ± {np.round(np.std(executions), 2)}s\"))\n",
    "\n",
    "    initialisations, executions, cleanups = zip(*batch_simulation_many_seeds(\n",
    "        simulate_reporting_compiled, seeds, args=(), kwargs=dict(\n",
    "            speciation=0.001, sample=1.0, radius=178, sigma=0.0, report_speciation=report_speciation, report_dispersal=report_dispersal\n",
    "        ), silent=False\n",
    "    ))\n",
    "    display(Markdown(f\"* Compiled Analysis (CPU): {np.round(np.mean(executions), 2)}s ± {np.round(np.std(executions), 2)}s\"))\n",
    "\n",
    "    initialisations, executions, cleanups, event_log_sizes = zip(*batch_simulation_many_seeds(\n",
    "        simulate_reporting_dynamic, seeds, args=(\"Classical()\",), kwargs=dict(\n",
    "            speciation=0.001, sample=1.0, radius=178, sigma=0.0, report_speciation=report_speciation, report_dispersal=report_dispersal, log=True\n",
    "        ), silent=False\n",
    "    ))\n",
    "    display(Markdown(f\"* Dynamic Plugins + Log (CPU): {np.round(np.mean(executions), 2)}s ± {np.round(np.std(executions), 2)}s [{format_bytes(np.mean(event_log_sizes))} ± {format_bytes(np.std(event_log_sizes))}]\"))\n",
    "    \n",
    "    initialisations, executions, cleanups, event_log_sizes = zip(*batch_simulation_many_seeds(\n",
    "        simulate_reporting_dynamic, seeds, args=(\"CUDA(ptx_jit:true, parallelism_mode:Monolithic(event_slice:10000000))\",), kwargs=dict(\n",
    "            speciation=0.001, sample=1.0, radius=178, sigma=0.0, report_speciation=report_speciation, report_dispersal=report_dispersal\n",
    "        ), silent=False, processes=1\n",
    "    ))\n",
    "    display(Markdown(f\"* Dynamic Plugins (GPU): {np.round(np.mean(executions), 2)}s ± {np.round(np.std(executions), 2)}s\"))"
   ]
  },
  {
   "cell_type": "code",
   "execution_count": null,
   "id": "afc9117b-736d-4fe8-ac75-d657c434a112",
   "metadata": {},
   "outputs": [],
   "source": []
  }
 ],
 "metadata": {
  "kernelspec": {
   "display_name": "Python 3",
   "language": "python",
   "name": "python3"
  },
  "language_info": {
   "codemirror_mode": {
    "name": "ipython",
    "version": 3
   },
   "file_extension": ".py",
   "mimetype": "text/x-python",
   "name": "python",
   "nbconvert_exporter": "python",
   "pygments_lexer": "ipython3",
   "version": "3.7.5"
  }
 },
 "nbformat": 4,
 "nbformat_minor": 5
}
