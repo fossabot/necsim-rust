{
 "cells": [
  {
   "cell_type": "code",
   "execution_count": 1,
   "metadata": {
    "execution": {
     "iopub.execute_input": "2021-06-05T11:50:39.374585Z",
     "iopub.status.busy": "2021-06-05T11:50:39.373804Z",
     "iopub.status.idle": "2021-06-05T11:50:39.715294Z",
     "shell.execute_reply": "2021-06-05T11:50:39.715693Z"
    },
    "jupyter": {
     "source_hidden": true
    },
    "tags": []
   },
   "outputs": [],
   "source": [
    "import subprocess\n",
    "import shlex\n",
    "import json\n",
    "\n",
    "import numpy as np\n",
    "\n",
    "from pathlib import Path\n",
    "from IPython.display import display, Markdown"
   ]
  },
  {
   "cell_type": "code",
   "execution_count": 2,
   "metadata": {
    "execution": {
     "iopub.execute_input": "2021-06-05T11:50:39.721750Z",
     "iopub.status.busy": "2021-06-05T11:50:39.721185Z",
     "iopub.status.idle": "2021-06-05T11:50:41.992735Z",
     "shell.execute_reply": "2021-06-05T11:50:41.993123Z"
    },
    "jupyter": {
     "source_hidden": true
    }
   },
   "outputs": [],
   "source": [
    "target_directory = json.loads(subprocess.run(\"cargo metadata --format-version 1\".split(), capture_output=True).stdout)[\"target_directory\"]"
   ]
  },
  {
   "cell_type": "code",
   "execution_count": 3,
   "metadata": {
    "execution": {
     "iopub.execute_input": "2021-06-05T11:50:41.996588Z",
     "iopub.status.busy": "2021-06-05T11:50:41.996116Z",
     "iopub.status.idle": "2021-06-05T11:50:41.997884Z",
     "shell.execute_reply": "2021-06-05T11:50:41.998260Z"
    },
    "jupyter": {
     "source_hidden": true
    }
   },
   "outputs": [],
   "source": [
    "def shlex_split_and_print(args):\n",
    "    print(args)\n",
    "    \n",
    "    return shlex.split(args)"
   ]
  },
  {
   "cell_type": "code",
   "execution_count": 4,
   "metadata": {
    "execution": {
     "iopub.execute_input": "2021-06-05T11:50:42.003830Z",
     "iopub.status.busy": "2021-06-05T11:50:42.003348Z",
     "iopub.status.idle": "2021-06-05T11:50:42.005555Z",
     "shell.execute_reply": "2021-06-05T11:50:42.005162Z"
    },
    "jupyter": {
     "source_hidden": true
    },
    "tags": []
   },
   "outputs": [],
   "source": [
    "def simulate_cuda_reporting_dynamic(\n",
    "    speciation=0.001, seed=42, sample=1.0, radius=564, sigma=10.0, report_speciation=False, report_dispersal=False, output=\"profile\", launches=10,\n",
    "):\n",
    "    if report_dispersal:\n",
    "        reporters = [\"Execution()\", \"Biodiversity()\", \"Counter()\"]\n",
    "    elif report_speciation:\n",
    "        reporters = [\"Execution()\", \"Biodiversity()\"]\n",
    "    else:\n",
    "        reporters = [\"Execution()\"]\n",
    "        \n",
    "    config = \"\".join(f\"\"\"\n",
    "    (\n",
    "        speciation: {speciation},\n",
    "        sample: {sample},\n",
    "        seed: {seed},\n",
    "\n",
    "        algorithm: CUDA(\n",
    "            ptx_jit: true,\n",
    "            parallelism_mode: Monolithic(event_slice: {10000000}),\n",
    "        ),\n",
    "\n",
    "        scenario: AlmostInfinite(\n",
    "            radius: {radius},\n",
    "            sigma: {sigma},\n",
    "        ),\n",
    "\n",
    "        reporters: [\n",
    "            Plugin(\n",
    "                library: \"{target_directory}/release/deps/libnecsim_plugins_common.so\",\n",
    "                reporters: [{', '.join(reporters)}]\n",
    "            )\n",
    "        ],\n",
    "    )\n",
    "    \"\"\".split()).replace(\",)\", \")\").replace(\",]\", \"]\")\n",
    "    \n",
    "    # Profile the first `launches` kernel executions using NVIDIA Nsight Compute\n",
    "    subprocess.run(shlex_split_and_print(\n",
    "        f\"/vol/cuda/10.0.130/NsightCompute-1.0/target/linux-desktop-glibc_2_11_3-glx-x64/nv-nsight-cu-cli --mode=launch-and-attach \" +\n",
    "        f\"-k simulate -c {launches} -o ~/ml5717/compute-{output} -f {target_directory}/release/rustcoalescence simulate '{config}'\"\n",
    "    ), capture_output=True, text=True)\n",
    "    \n",
    "    # Profile the full simulation using NVIDIA Nsight Systems\n",
    "    subprocess.run(shlex_split_and_print(\n",
    "        f\"/vol/cuda/11.1.0-cudnn8.0.4.30/nsight-systems-2020.3.4/bin/nsys profile -o ~/ml5717/nsys-{output} \" +\n",
    "        f\"-f true -t cuda {target_directory}/release/rustcoalescence simulate '{config}'\"\n",
    "    ), capture_output=True, text=True)"
   ]
  },
  {
   "cell_type": "code",
   "execution_count": 5,
   "metadata": {
    "execution": {
     "iopub.execute_input": "2021-06-05T11:50:42.010627Z",
     "iopub.status.busy": "2021-06-05T11:50:42.008420Z",
     "iopub.status.idle": "2021-06-05T11:50:44.858946Z",
     "shell.execute_reply": "2021-06-05T11:50:44.859384Z"
    },
    "jupyter": {
     "source_hidden": true
    },
    "tags": []
   },
   "outputs": [
    {
     "data": {
      "text/plain": [
       "CompletedProcess(args=['cargo', 'build', '--manifest-path', '/vol/bitbucket/ml5717/necsim-rust/target/../rustcoalescence/Cargo.toml', '--release', '--features', 'rustcoalescence-algorithms-monolithic,rustcoalescence-algorithms-independent,rustcoalescence-algorithms-cuda'], returncode=0, stdout='', stderr='    Finished release [optimized] target(s) in 2.65s\\n')"
      ]
     },
     "execution_count": 1,
     "metadata": {},
     "output_type": "execute_result"
    }
   ],
   "source": [
    "subprocess.run(shlex.split(\n",
    "    f\"cargo build --manifest-path {target_directory}/../rustcoalescence/Cargo.toml --release \"\n",
    "    + \"--features rustcoalescence-algorithms-monolithic,rustcoalescence-algorithms-independent,\"\n",
    "    + \"rustcoalescence-algorithms-cuda\"\n",
    "), check=True, capture_output=True, text=True);"
   ]
  },
  {
   "cell_type": "code",
   "execution_count": 6,
   "metadata": {
    "execution": {
     "iopub.execute_input": "2021-06-05T11:50:44.865750Z",
     "iopub.status.busy": "2021-06-05T11:50:44.865140Z",
     "iopub.status.idle": "2021-06-05T11:50:44.956857Z",
     "shell.execute_reply": "2021-06-05T11:50:44.957243Z"
    }
   },
   "outputs": [
    {
     "data": {
      "text/markdown": [
       "# RAM Information:"
      ],
      "text/plain": [
       "<IPython.core.display.Markdown object>"
      ]
     },
     "metadata": {},
     "output_type": "display_data"
    },
    {
     "data": {
      "text/markdown": [
       ">```\n",
       "              total        used        free      shared  buff/cache   available\n",
       ">Mem:       16319132     1231832     7291452      274476     7795848    14475768\n",
       ">Swap:       4194300           0     4194300\n",
       ">```"
      ],
      "text/plain": [
       "<IPython.core.display.Markdown object>"
      ]
     },
     "metadata": {},
     "output_type": "display_data"
    },
    {
     "data": {
      "text/markdown": [
       "# CPU Information:"
      ],
      "text/plain": [
       "<IPython.core.display.Markdown object>"
      ]
     },
     "metadata": {},
     "output_type": "display_data"
    },
    {
     "data": {
      "text/markdown": [
       ">```\n",
       "Architecture:                    x86_64\n",
       ">CPU op-mode(s):                  32-bit, 64-bit\n",
       ">Byte Order:                      Little Endian\n",
       ">Address sizes:                   46 bits physical, 48 bits virtual\n",
       ">CPU(s):                          8\n",
       ">On-line CPU(s) list:             0-7\n",
       ">Thread(s) per core:              2\n",
       ">Core(s) per socket:              4\n",
       ">Socket(s):                       1\n",
       ">NUMA node(s):                    1\n",
       ">Vendor ID:                       GenuineIntel\n",
       ">CPU family:                      6\n",
       ">Model:                           62\n",
       ">Model name:                      Intel(R) Xeon(R) CPU E5-1620 v2 @ 3.70GHz\n",
       ">Stepping:                        4\n",
       ">CPU MHz:                         3123.900\n",
       ">CPU max MHz:                     3900.0000\n",
       ">CPU min MHz:                     1200.0000\n",
       ">BogoMIPS:                        7382.37\n",
       ">Virtualisation:                  VT-x\n",
       ">L1d cache:                       128 KiB\n",
       ">L1i cache:                       128 KiB\n",
       ">L2 cache:                        1 MiB\n",
       ">L3 cache:                        10 MiB\n",
       ">NUMA node0 CPU(s):               0-7\n",
       ">Vulnerability Itlb multihit:     KVM: Mitigation: VMX disabled\n",
       ">Vulnerability L1tf:              Mitigation; PTE Inversion; VMX conditional cache flushes, SMT vulnerable\n",
       ">Vulnerability Mds:               Mitigation; Clear CPU buffers; SMT vulnerable\n",
       ">Vulnerability Meltdown:          Mitigation; PTI\n",
       ">Vulnerability Spec store bypass: Mitigation; Speculative Store Bypass disabled via prctl and seccomp\n",
       ">Vulnerability Spectre v1:        Mitigation; usercopy/swapgs barriers and __user pointer sanitization\n",
       ">Vulnerability Spectre v2:        Mitigation; Full generic retpoline, IBPB conditional, IBRS_FW, STIBP conditional, RSB filling\n",
       ">Vulnerability Srbds:             Not affected\n",
       ">Vulnerability Tsx async abort:   Not affected\n",
       ">Flags:                           fpu vme de pse tsc msr pae mce cx8 apic sep mtrr pge mca cmov pat pse36 clflush dts acpi mmx fxsr sse sse2 ss ht tm pbe syscall nx pdpe1gb rdtscp lm constant_tsc arch_perfmon pebs bts rep_good nopl xtopology nonstop_tsc cpuid aperfmperf pni pclmulqdq dtes64 monitor ds_cpl vmx smx est tm2 ssse3 cx16 xtpr pdcm pcid dca sse4_1 sse4_2 x2apic popcnt tsc_deadline_timer aes xsave avx f16c rdrand lahf_lm cpuid_fault epb pti ssbd ibrs ibpb stibp tpr_shadow vnmi flexpriority ept vpid fsgsbase smep erms xsaveopt dtherm ida arat pln pts md_clear flush_l1d\n",
       ">```"
      ],
      "text/plain": [
       "<IPython.core.display.Markdown object>"
      ]
     },
     "metadata": {},
     "output_type": "display_data"
    },
    {
     "data": {
      "text/markdown": [
       "# GPU Information:"
      ],
      "text/plain": [
       "<IPython.core.display.Markdown object>"
      ]
     },
     "metadata": {},
     "output_type": "display_data"
    },
    {
     "data": {
      "text/markdown": [
       ">```\n",
       "Sat Jun  5 12:50:44 2021       \n",
       ">+-----------------------------------------------------------------------------+\n",
       ">| NVIDIA-SMI 460.73.01    Driver Version: 460.73.01    CUDA Version: 11.2     |\n",
       ">|-------------------------------+----------------------+----------------------+\n",
       ">| GPU  Name        Persistence-M| Bus-Id        Disp.A | Volatile Uncorr. ECC |\n",
       ">| Fan  Temp  Perf  Pwr:Usage/Cap|         Memory-Usage | GPU-Util  Compute M. |\n",
       ">|                               |                      |               MIG M. |\n",
       ">|===============================+======================+======================|\n",
       ">|   0  GeForce GTX 1080    Off  | 00000000:05:00.0 Off |                  N/A |\n",
       ">| 27%   39C    P8     6W / 180W |     80MiB /  8119MiB |      0%      Default |\n",
       ">|                               |                      |                  N/A |\n",
       ">+-------------------------------+----------------------+----------------------+\n",
       ">                                                                               \n",
       ">+-----------------------------------------------------------------------------+\n",
       ">| Processes:                                                                  |\n",
       ">|  GPU   GI   CI        PID   Type   Process name                  GPU Memory |\n",
       ">|        ID   ID                                                   Usage      |\n",
       ">|=============================================================================|\n",
       ">|    0   N/A  N/A      4336      G   /usr/lib/xorg/Xorg                 75MiB |\n",
       ">+-----------------------------------------------------------------------------+\n",
       ">```"
      ],
      "text/plain": [
       "<IPython.core.display.Markdown object>"
      ]
     },
     "metadata": {},
     "output_type": "display_data"
    }
   ],
   "source": [
    "display(Markdown(\"# RAM Information:\"))\n",
    "\n",
    "display(Markdown('>```\\n' + subprocess.run(\n",
    "    shlex.split(\"free\"), check=True, capture_output=True, text=True\n",
    ").stdout.replace('\\n', '\\n>') + '```'))\n",
    "\n",
    "display(Markdown(\"# CPU Information:\"))\n",
    "\n",
    "display(Markdown('>```\\n' + subprocess.run(\n",
    "    shlex.split(\"lscpu\"), check=True, capture_output=True, text=True\n",
    ").stdout.replace('\\n', '\\n>') + '```'))\n",
    "\n",
    "display(Markdown(\"# GPU Information:\"))\n",
    "\n",
    "display(Markdown('>```\\n' + subprocess.run(\n",
    "    shlex.split(\"nvidia-smi\"), check=True, capture_output=True, text=True\n",
    ").stdout.replace('\\n', '\\n>') + '```'))"
   ]
  },
  {
   "cell_type": "code",
   "execution_count": 7,
   "metadata": {
    "execution": {
     "iopub.execute_input": "2021-06-05T11:50:44.965021Z",
     "iopub.status.busy": "2021-06-05T11:50:44.964449Z",
     "iopub.status.idle": "2021-06-05T11:51:18.991491Z",
     "shell.execute_reply": "2021-06-05T11:51:18.992091Z"
    }
   },
   "outputs": [
    {
     "name": "stdout",
     "output_type": "stream",
     "text": [
      "/vol/cuda/10.0.130/NsightCompute-1.0/target/linux-desktop-glibc_2_11_3-glx-x64/nv-nsight-cu-cli --mode=launch-and-attach -k simulate -c 10 -o ~/ml5717/compute-progress -f /vol/bitbucket/ml5717/necsim-rust/target/release/rustcoalescence simulate '(speciation:0.001,sample:1.0,seed:14729773322303406744,algorithm:CUDA(ptx_jit:true,parallelism_mode:Monolithic(event_slice:10000000)),scenario:AlmostInfinite(radius:178,sigma:0.0),reporters:[Plugin(library:\"/vol/bitbucket/ml5717/necsim-rust/target/release/deps/libnecsim_plugins_common.so\",reporters:[Execution()])])'\n",
      "/vol/cuda/11.1.0-cudnn8.0.4.30/nsight-systems-2020.3.4/bin/nsys profile -o ~/ml5717/nsys-progress -f true -t cuda /vol/bitbucket/ml5717/necsim-rust/target/release/rustcoalescence simulate '(speciation:0.001,sample:1.0,seed:14729773322303406744,algorithm:CUDA(ptx_jit:true,parallelism_mode:Monolithic(event_slice:10000000)),scenario:AlmostInfinite(radius:178,sigma:0.0),reporters:[Plugin(library:\"/vol/bitbucket/ml5717/necsim-rust/target/release/deps/libnecsim_plugins_common.so\",reporters:[Execution()])])'\n",
      "/vol/cuda/10.0.130/NsightCompute-1.0/target/linux-desktop-glibc_2_11_3-glx-x64/nv-nsight-cu-cli --mode=launch-and-attach -k simulate -c 10 -o ~/ml5717/compute-progress-speciation -f /vol/bitbucket/ml5717/necsim-rust/target/release/rustcoalescence simulate '(speciation:0.001,sample:1.0,seed:14729773322303406744,algorithm:CUDA(ptx_jit:true,parallelism_mode:Monolithic(event_slice:10000000)),scenario:AlmostInfinite(radius:178,sigma:0.0),reporters:[Plugin(library:\"/vol/bitbucket/ml5717/necsim-rust/target/release/deps/libnecsim_plugins_common.so\",reporters:[Execution(),Biodiversity()])])'\n",
      "/vol/cuda/11.1.0-cudnn8.0.4.30/nsight-systems-2020.3.4/bin/nsys profile -o ~/ml5717/nsys-progress-speciation -f true -t cuda /vol/bitbucket/ml5717/necsim-rust/target/release/rustcoalescence simulate '(speciation:0.001,sample:1.0,seed:14729773322303406744,algorithm:CUDA(ptx_jit:true,parallelism_mode:Monolithic(event_slice:10000000)),scenario:AlmostInfinite(radius:178,sigma:0.0),reporters:[Plugin(library:\"/vol/bitbucket/ml5717/necsim-rust/target/release/deps/libnecsim_plugins_common.so\",reporters:[Execution(),Biodiversity()])])'\n",
      "/vol/cuda/10.0.130/NsightCompute-1.0/target/linux-desktop-glibc_2_11_3-glx-x64/nv-nsight-cu-cli --mode=launch-and-attach -k simulate -c 10 -o ~/ml5717/compute-progress-speciation-dispersal -f /vol/bitbucket/ml5717/necsim-rust/target/release/rustcoalescence simulate '(speciation:0.001,sample:1.0,seed:14729773322303406744,algorithm:CUDA(ptx_jit:true,parallelism_mode:Monolithic(event_slice:10000000)),scenario:AlmostInfinite(radius:178,sigma:0.0),reporters:[Plugin(library:\"/vol/bitbucket/ml5717/necsim-rust/target/release/deps/libnecsim_plugins_common.so\",reporters:[Execution(),Biodiversity(),Counter()])])'\n",
      "/vol/cuda/11.1.0-cudnn8.0.4.30/nsight-systems-2020.3.4/bin/nsys profile -o ~/ml5717/nsys-progress-speciation-dispersal -f true -t cuda /vol/bitbucket/ml5717/necsim-rust/target/release/rustcoalescence simulate '(speciation:0.001,sample:1.0,seed:14729773322303406744,algorithm:CUDA(ptx_jit:true,parallelism_mode:Monolithic(event_slice:10000000)),scenario:AlmostInfinite(radius:178,sigma:0.0),reporters:[Plugin(library:\"/vol/bitbucket/ml5717/necsim-rust/target/release/deps/libnecsim_plugins_common.so\",reporters:[Execution(),Biodiversity(),Counter()])])'\n"
     ]
    }
   ],
   "source": [
    "seed = np.random.randint(0, np.iinfo(\"uint64\").max, dtype=\"uint64\")\n",
    "\n",
    "for report_speciation, report_dispersal, output in [\n",
    "    (False, False, \"progress\"), (True, False, \"progress-speciation\"), (True, True, \"progress-speciation-dispersal\")\n",
    "]:\n",
    "    simulate_cuda_reporting_dynamic(\n",
    "        speciation=0.001, sample=1.0, radius=178, sigma=0.0, seed=seed, output=output,\n",
    "        report_speciation=report_speciation, report_dispersal=report_dispersal,\n",
    "    )"
   ]
  },
  {
   "cell_type": "code",
   "execution_count": null,
   "metadata": {},
   "outputs": [],
   "source": []
  }
 ],
 "metadata": {
  "kernelspec": {
   "display_name": "Python 3",
   "language": "python",
   "name": "python3"
  },
  "language_info": {
   "codemirror_mode": {
    "name": "ipython",
    "version": 3
   },
   "file_extension": ".py",
   "mimetype": "text/x-python",
   "name": "python",
   "nbconvert_exporter": "python",
   "pygments_lexer": "ipython3",
   "version": "3.8.5"
  }
 },
 "nbformat": 4,
 "nbformat_minor": 5
}
