{
 "cells": [
  {
   "cell_type": "code",
   "execution_count": null,
   "metadata": {
    "jupyter": {
     "source_hidden": true
    },
    "tags": []
   },
   "outputs": [],
   "source": [
    "import subprocess\n",
    "import shlex\n",
    "import json\n",
    "import re\n",
    "\n",
    "import numpy as np\n",
    "\n",
    "from pathlib import Path\n",
    "from IPython.display import display, Markdown"
   ]
  },
  {
   "cell_type": "code",
   "execution_count": null,
   "metadata": {
    "jupyter": {
     "source_hidden": true
    }
   },
   "outputs": [],
   "source": [
    "CC_PATTERN = re.compile(r\"(?<!^)(?=[A-Z])\")"
   ]
  },
  {
   "cell_type": "code",
   "execution_count": null,
   "metadata": {
    "jupyter": {
     "source_hidden": true
    }
   },
   "outputs": [],
   "source": [
    "target_directory = json.loads(subprocess.run(\"cargo metadata --format-version 1\".split(), capture_output=True).stdout)[\"target_directory\"]"
   ]
  },
  {
   "cell_type": "code",
   "execution_count": null,
   "metadata": {
    "jupyter": {
     "source_hidden": true
    },
    "tags": []
   },
   "outputs": [],
   "source": [
    "def simulate_cpu_reporting_dynamic(\n",
    "    algorithm, speciation=0.001, seed=42, sample=1.0, radius=564, sigma=10.0, report_speciation=False, report_dispersal=False, output=\"profile\",\n",
    "):\n",
    "    if report_dispersal:\n",
    "        reporters = [\"Execution()\", \"Biodiversity()\", \"Counter()\"]\n",
    "    elif report_speciation:\n",
    "        reporters = [\"Execution()\", \"Biodiversity()\"]\n",
    "    else:\n",
    "        reporters = [\"Execution()\"]\n",
    "        \n",
    "    config = \"\".join(f\"\"\"\n",
    "    (\n",
    "        speciation: {speciation},\n",
    "        sample: {sample},\n",
    "        seed: {seed},\n",
    "\n",
    "        algorithm: {algorithm},\n",
    "\n",
    "        scenario: AlmostInfinite(\n",
    "            radius: {radius},\n",
    "            sigma: {sigma},\n",
    "        ),\n",
    "\n",
    "        reporters: [\n",
    "            Plugin(\n",
    "                library: \"{target_directory}/release/deps/libnecsim_plugins_common.so\",\n",
    "                reporters: [{', '.join(reporters)}]\n",
    "            )\n",
    "        ],\n",
    "    )\n",
    "    \"\"\".split()).replace(\",)\", \")\").replace(\",]\", \"]\")\n",
    "    \n",
    "    # Profile the full simulation using perf, then filter the events and output for the Firefox Profiler\n",
    "    print(\n",
    "        f\"perf record -F {997} --call-graph dwarf -g {target_directory}/release/rustcoalescence simulate '{config}'\" +\n",
    "        f\" && perf script -F +pid > {output}.perf\"\n",
    "    )"
   ]
  },
  {
   "cell_type": "code",
   "execution_count": null,
   "metadata": {
    "jupyter": {
     "source_hidden": true
    },
    "tags": []
   },
   "outputs": [],
   "source": [
    "subprocess.run(shlex.split(\n",
    "    f\"cargo build --manifest-path {target_directory}/../rustcoalescence/Cargo.toml --release \"\n",
    "    + \"--features rustcoalescence-algorithms-monolithic,rustcoalescence-algorithms-independent,\"\n",
    "    + \"rustcoalescence-algorithms-cuda\"\n",
    "), check=True, capture_output=True, text=True);"
   ]
  },
  {
   "cell_type": "code",
   "execution_count": null,
   "metadata": {},
   "outputs": [],
   "source": [
    "display(Markdown(\"# RAM Information:\"))\n",
    "\n",
    "display(Markdown('>```\\n' + subprocess.run(\n",
    "    shlex.split(\"free\"), check=True, capture_output=True, text=True\n",
    ").stdout.replace('\\n', '\\n>') + '```'))\n",
    "\n",
    "display(Markdown(\"# CPU Information:\"))\n",
    "\n",
    "display(Markdown('>```\\n' + subprocess.run(\n",
    "    shlex.split(\"lscpu\"), check=True, capture_output=True, text=True\n",
    ").stdout.replace('\\n', '\\n>') + '```'))"
   ]
  },
  {
   "cell_type": "code",
   "execution_count": null,
   "metadata": {},
   "outputs": [],
   "source": [
    "seed = np.random.randint(0, np.iinfo(\"uint64\").max, dtype=\"uint64\")\n",
    "\n",
    "for algorithm in [\"Classical()\", \"Gillespie()\", \"SkippingGillespie()\", \"Independent()\"]:\n",
    "    for report_speciation, report_dispersal, output in [\n",
    "        (False, False, \"progress\"), (True, False, \"progress-speciation\"), (True, True, \"progress-speciation-dispersal\")\n",
    "    ]:\n",
    "        simulate_cpu_reporting_dynamic(\n",
    "            algorithm, speciation=0.001, sample=1.0, radius=178, sigma=0.0, seed=seed,\n",
    "            output=f\"{CC_PATTERN.sub('-', algorithm[:algorithm.find('(')]).lower()}-{output}\",\n",
    "            report_speciation=report_speciation, report_dispersal=report_dispersal,\n",
    "        )"
   ]
  },
  {
   "cell_type": "code",
   "execution_count": null,
   "metadata": {},
   "outputs": [],
   "source": []
  }
 ],
 "metadata": {
  "kernelspec": {
   "display_name": "Python 3",
   "language": "python",
   "name": "python3"
  },
  "language_info": {
   "codemirror_mode": {
    "name": "ipython",
    "version": 3
   },
   "file_extension": ".py",
   "mimetype": "text/x-python",
   "name": "python",
   "nbconvert_exporter": "python",
   "pygments_lexer": "ipython3",
   "version": "3.8.5"
  }
 },
 "nbformat": 4,
 "nbformat_minor": 5
}
