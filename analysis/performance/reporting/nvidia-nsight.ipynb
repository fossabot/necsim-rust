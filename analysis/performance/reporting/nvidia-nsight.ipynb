{
 "cells": [
  {
   "cell_type": "code",
   "execution_count": null,
   "metadata": {
    "jupyter": {
     "source_hidden": true
    },
    "tags": []
   },
   "outputs": [],
   "source": [
    "import subprocess\n",
    "import shlex\n",
    "import json\n",
    "\n",
    "import numpy as np\n",
    "\n",
    "from pathlib import Path\n",
    "from IPython.display import display, Markdown"
   ]
  },
  {
   "cell_type": "code",
   "execution_count": null,
   "metadata": {
    "jupyter": {
     "source_hidden": true
    }
   },
   "outputs": [],
   "source": [
    "target_directory = json.loads(subprocess.run(\"cargo metadata --format-version 1\".split(), capture_output=True).stdout)[\"target_directory\"]"
   ]
  },
  {
   "cell_type": "code",
   "execution_count": null,
   "metadata": {
    "jupyter": {
     "source_hidden": true
    }
   },
   "outputs": [],
   "source": [
    "def shlex_split_and_print(args):\n",
    "    print(args)\n",
    "    \n",
    "    return shlex.split(args)"
   ]
  },
  {
   "cell_type": "code",
   "execution_count": null,
   "metadata": {
    "jupyter": {
     "source_hidden": true
    },
    "tags": []
   },
   "outputs": [],
   "source": [
    "def simulate_cuda_reporting_dynamic(\n",
    "    speciation=0.001, seed=42, sample=1.0, radius=564, sigma=10.0, report_speciation=False, report_dispersal=False, output=\"profile\", launches=10,\n",
    "):\n",
    "    if report_dispersal:\n",
    "        reporters = [\"Execution()\", \"Biodiversity()\", \"Counter()\"]\n",
    "    elif report_speciation:\n",
    "        reporters = [\"Execution()\", \"Biodiversity()\"]\n",
    "    else:\n",
    "        reporters = [\"Execution()\"]\n",
    "        \n",
    "    config = \"\".join(f\"\"\"\n",
    "    (\n",
    "        speciation: {speciation},\n",
    "        sample: {sample},\n",
    "        seed: {seed},\n",
    "\n",
    "        algorithm: CUDA(\n",
    "            ptx_jit: true,\n",
    "            parallelism_mode: Monolithic(event_slice: {10000000}),\n",
    "        ),\n",
    "\n",
    "        scenario: AlmostInfinite(\n",
    "            radius: {radius},\n",
    "            sigma: {sigma},\n",
    "        ),\n",
    "\n",
    "        reporters: [\n",
    "            Plugin(\n",
    "                library: \"{target_directory}/release/deps/libnecsim_plugins_common.so\",\n",
    "                reporters: [{', '.join(reporters)}]\n",
    "            )\n",
    "        ],\n",
    "    )\n",
    "    \"\"\".split()).replace(\",)\", \")\").replace(\",]\", \"]\")\n",
    "    \n",
    "    # Profile the first `launches` kernel executions using NVIDIA Nsight Compute\n",
    "    subprocess.run(shlex_split_and_print(\n",
    "        f\"/vol/cuda/10.0.130/NsightCompute-1.0/target/linux-desktop-glibc_2_11_3-glx-x64/nv-nsight-cu-cli --mode=launch-and-attach \" +\n",
    "        f\"-k simulate -c {launches} -o ~/ml5717/compute-{output} -f {target_directory}/release/rustcoalescence simulate '{config}'\"\n",
    "    ), capture_output=True, text=True)\n",
    "    \n",
    "    # Profile the full simulation using NVIDIA Nsight Systems\n",
    "    subprocess.run(shlex_split_and_print(\n",
    "        f\"/vol/cuda/11.1.0-cudnn8.0.4.30/nsight-systems-2020.3.4/bin/nsys profile -o ~/ml5717/nsys-{output} \" +\n",
    "        f\"-f true -t cuda {target_directory}/release/rustcoalescence simulate '{config}'\"\n",
    "    ), capture_output=True, text=True)"
   ]
  },
  {
   "cell_type": "code",
   "execution_count": null,
   "metadata": {
    "jupyter": {
     "source_hidden": true
    },
    "tags": []
   },
   "outputs": [],
   "source": [
    "subprocess.run(shlex.split(\n",
    "    f\"cargo build --manifest-path {target_directory}/../rustcoalescence/Cargo.toml --release \"\n",
    "    + \"--features rustcoalescence-algorithms-monolithic,rustcoalescence-algorithms-independent,\"\n",
    "    + \"rustcoalescence-algorithms-cuda\"\n",
    "), check=True, capture_output=True, text=True);"
   ]
  },
  {
   "cell_type": "code",
   "execution_count": null,
   "metadata": {},
   "outputs": [],
   "source": [
    "display(Markdown(\"# RAM Information:\"))\n",
    "\n",
    "display(Markdown('>```\\n' + subprocess.run(\n",
    "    shlex.split(\"free\"), check=True, capture_output=True, text=True\n",
    ").stdout.replace('\\n', '\\n>') + '```'))\n",
    "\n",
    "display(Markdown(\"# CPU Information:\"))\n",
    "\n",
    "display(Markdown('>```\\n' + subprocess.run(\n",
    "    shlex.split(\"lscpu\"), check=True, capture_output=True, text=True\n",
    ").stdout.replace('\\n', '\\n>') + '```'))\n",
    "\n",
    "display(Markdown(\"# GPU Information:\"))\n",
    "\n",
    "display(Markdown('>```\\n' + subprocess.run(\n",
    "    shlex.split(\"nvidia-smi\"), check=True, capture_output=True, text=True\n",
    ").stdout.replace('\\n', '\\n>') + '```'))"
   ]
  },
  {
   "cell_type": "code",
   "execution_count": null,
   "metadata": {},
   "outputs": [],
   "source": [
    "seed = np.random.randint(0, np.iinfo(\"uint64\").max, dtype=\"uint64\")\n",
    "\n",
    "for report_speciation, report_dispersal, output in [\n",
    "    (False, False, \"progress\"), (True, False, \"progress-speciation\"), (True, True, \"progress-speciation-dispersal\")\n",
    "]:\n",
    "    simulate_cuda_reporting_dynamic(\n",
    "        speciation=0.001, sample=1.0, radius=178, sigma=0.0, seed=seed, output=output,\n",
    "        report_speciation=report_speciation, report_dispersal=report_dispersal,\n",
    "    )"
   ]
  },
  {
   "cell_type": "code",
   "execution_count": null,
   "metadata": {},
   "outputs": [],
   "source": []
  }
 ],
 "metadata": {
  "kernelspec": {
   "display_name": "Python 3",
   "language": "python",
   "name": "python3"
  },
  "language_info": {
   "codemirror_mode": {
    "name": "ipython",
    "version": 3
   },
   "file_extension": ".py",
   "mimetype": "text/x-python",
   "name": "python",
   "nbconvert_exporter": "python",
   "pygments_lexer": "ipython3",
   "version": "3.8.5"
  }
 },
 "nbformat": 4,
 "nbformat_minor": 5
}
