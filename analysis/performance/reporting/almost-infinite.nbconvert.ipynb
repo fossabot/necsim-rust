{
 "cells": [
  {
   "cell_type": "code",
   "execution_count": 1,
   "id": "85acfeb7",
   "metadata": {
    "execution": {
     "iopub.execute_input": "2021-05-26T15:09:58.749811Z",
     "iopub.status.busy": "2021-05-26T15:09:58.748990Z",
     "iopub.status.idle": "2021-05-26T15:10:00.275567Z",
     "shell.execute_reply": "2021-05-26T15:10:00.276381Z"
    },
    "jupyter": {
     "source_hidden": true
    },
    "tags": []
   },
   "outputs": [],
   "source": [
    "import subprocess\n",
    "import shlex\n",
    "import re\n",
    "import json\n",
    "import pyinotify\n",
    "\n",
    "import numpy as np\n",
    "import multiprocessing as mp\n",
    "\n",
    "from pathlib import Path\n",
    "from scipy import stats\n",
    "from tqdm import tqdm\n",
    "from IPython.display import display, Markdown\n",
    "from tempfile import TemporaryDirectory"
   ]
  },
  {
   "cell_type": "code",
   "execution_count": 2,
   "id": "8f9f5a64",
   "metadata": {
    "execution": {
     "iopub.execute_input": "2021-05-26T15:10:00.282720Z",
     "iopub.status.busy": "2021-05-26T15:10:00.281660Z",
     "iopub.status.idle": "2021-05-26T15:10:00.284392Z",
     "shell.execute_reply": "2021-05-26T15:10:00.284991Z"
    },
    "jupyter": {
     "source_hidden": true
    },
    "tags": []
   },
   "outputs": [],
   "source": [
    "EXECUTION_PATTERN = re.compile(r\"The simulation took:\\n - initialisation: ([^\\n]+)\\n - execution: ([^\\n]+)\\n - cleanup: ([^\\n]+)\\n\")"
   ]
  },
  {
   "cell_type": "code",
   "execution_count": 3,
   "id": "18d7c08e-0a51-49ed-b4da-08fda48049dd",
   "metadata": {
    "execution": {
     "iopub.execute_input": "2021-05-26T15:10:00.291079Z",
     "iopub.status.busy": "2021-05-26T15:10:00.290192Z",
     "iopub.status.idle": "2021-05-26T15:10:00.292610Z",
     "shell.execute_reply": "2021-05-26T15:10:00.293118Z"
    },
    "jupyter": {
     "source_hidden": true
    },
    "tags": []
   },
   "outputs": [],
   "source": [
    "TIME_PATTERN = re.compile(r\"(\\d+(?:\\.\\d+)?)([^\\d]+)\")\n",
    "TIME_UNITS = {\n",
    "    \"ns\": 0.000000001,\n",
    "    \"µs\": 0.000001,\n",
    "    \"ms\": 0.001,\n",
    "    \"s\": 1.0,\n",
    "}\n",
    "\n",
    "def parse_time(time_str):\n",
    "    match = TIME_PATTERN.match(time_str)\n",
    "    \n",
    "    if match is None:\n",
    "        return None\n",
    "    \n",
    "    return float(match.group(1)) * TIME_UNITS[match.group(2)]"
   ]
  },
  {
   "cell_type": "code",
   "execution_count": 4,
   "id": "839ac46d",
   "metadata": {
    "execution": {
     "iopub.execute_input": "2021-05-26T15:10:00.299788Z",
     "iopub.status.busy": "2021-05-26T15:10:00.296789Z",
     "iopub.status.idle": "2021-05-26T15:10:02.445800Z",
     "shell.execute_reply": "2021-05-26T15:10:02.446192Z"
    },
    "jupyter": {
     "source_hidden": true
    },
    "tags": []
   },
   "outputs": [],
   "source": [
    "target_directory = json.loads(subprocess.run(\"cargo metadata --format-version 1\".split(), capture_output=True).stdout)[\"target_directory\"]"
   ]
  },
  {
   "cell_type": "code",
   "execution_count": 5,
   "id": "4d184d4d-e00e-4873-bf2b-5bbd1dc325b2",
   "metadata": {
    "execution": {
     "iopub.execute_input": "2021-05-26T15:10:02.452808Z",
     "iopub.status.busy": "2021-05-26T15:10:02.452019Z",
     "iopub.status.idle": "2021-05-26T15:10:02.454244Z",
     "shell.execute_reply": "2021-05-26T15:10:02.454732Z"
    },
    "jupyter": {
     "source_hidden": true
    },
    "tags": []
   },
   "outputs": [],
   "source": [
    "class EventLogSink(pyinotify.ProcessEvent):\n",
    "    def __init__(self, event_log):\n",
    "        Path(event_log).mkdir(parents=True, exist_ok=True)\n",
    "        \n",
    "        self.log_size = 0\n",
    "        \n",
    "        self.wm = pyinotify.WatchManager()\n",
    "        self.notifier = pyinotify.ThreadedNotifier(self.wm, self)\n",
    "        \n",
    "        self.notifier.start()\n",
    "        \n",
    "        self.wm.add_watch(event_log, pyinotify.IN_CREATE | pyinotify.IN_CLOSE_WRITE, rec=True)\n",
    "        \n",
    "    def stop(self):\n",
    "        self.notifier.stop()\n",
    "        \n",
    "        return self.log_size\n",
    "    \n",
    "    def process_IN_CREATE(self, event):\n",
    "        self.wm.add_watch(event.pathname, pyinotify.IN_CREATE | pyinotify.IN_CLOSE_WRITE)\n",
    "    \n",
    "    def process_IN_CLOSE_WRITE(self, event):\n",
    "        path = Path(event.pathname)\n",
    "        \n",
    "        if path.exists():\n",
    "            self.log_size += path.stat().st_size\n",
    "            \n",
    "            path.unlink()"
   ]
  },
  {
   "cell_type": "code",
   "execution_count": 6,
   "id": "b4c55b7a",
   "metadata": {
    "execution": {
     "iopub.execute_input": "2021-05-26T15:10:02.463312Z",
     "iopub.status.busy": "2021-05-26T15:10:02.462487Z",
     "iopub.status.idle": "2021-05-26T15:10:02.464748Z",
     "shell.execute_reply": "2021-05-26T15:10:02.465224Z"
    },
    "jupyter": {
     "source_hidden": true
    },
    "tags": []
   },
   "outputs": [],
   "source": [
    "def simulate_reporting_dynamic(\n",
    "    algorithm, speciation=0.001, seed=42, sample=1.0, radius=564, sigma=10.0, report_speciation=False, report_dispersal=False, log=False\n",
    "):\n",
    "    if report_dispersal:\n",
    "        reporters = [\"Execution()\", \"Biodiversity()\", \"Counter()\"]\n",
    "    elif report_speciation:\n",
    "        reporters = [\"Execution()\", \"Biodiversity()\"]\n",
    "    else:\n",
    "        reporters = [\"Execution()\"]\n",
    "        \n",
    "    with TemporaryDirectory() as log_path:\n",
    "        event_log = EventLogSink(log_path)\n",
    "        \n",
    "        config = \"\".join(f\"\"\"\n",
    "        (\n",
    "            speciation: {speciation},\n",
    "            sample: {sample},\n",
    "            seed: {seed},\n",
    "\n",
    "            algorithm: {algorithm},\n",
    "\n",
    "            scenario: AlmostInfinite(\n",
    "                radius: {radius},\n",
    "                sigma: {sigma},\n",
    "            ),\n",
    "            \n",
    "            log: {f'\"{log_path}\"' if log else 'None'},\n",
    "\n",
    "            reporters: [\n",
    "                Plugin(\n",
    "                    library: \"{target_directory}/release/deps/libnecsim_plugins_common.so\",\n",
    "                    reporters: [{', '.join(reporters)}]\n",
    "                )\n",
    "            ],\n",
    "        )\n",
    "        \"\"\".split()).replace(\",)\", \")\").replace(\",]\", \"]\")\n",
    "\n",
    "        # Run the simulation\n",
    "        result = subprocess.run(shlex.split(\n",
    "            f\"{target_directory}/release/rustcoalescence simulate '{config}'\"\n",
    "        ), check=True, capture_output=True, text=True)\n",
    "        \n",
    "        event_log_size = event_log.stop()\n",
    "    \n",
    "    match = EXECUTION_PATTERN.search(result.stdout)\n",
    "    if match is None:\n",
    "        print(result.stdout)\n",
    "        print(result.stderr)\n",
    "    initialisation = parse_time(match.group(1))\n",
    "    execution = parse_time(match.group(2))\n",
    "    cleanup = parse_time(match.group(3))\n",
    "        \n",
    "    return initialisation, execution, cleanup, event_log_size"
   ]
  },
  {
   "cell_type": "code",
   "execution_count": 7,
   "id": "401c264e-2ce7-435c-a56a-05f38825a810",
   "metadata": {
    "execution": {
     "iopub.execute_input": "2021-05-26T15:10:02.471813Z",
     "iopub.status.busy": "2021-05-26T15:10:02.471008Z",
     "iopub.status.idle": "2021-05-26T15:10:02.473312Z",
     "shell.execute_reply": "2021-05-26T15:10:02.473790Z"
    },
    "jupyter": {
     "source_hidden": true
    },
    "tags": []
   },
   "outputs": [],
   "source": [
    "def simulate_reporting_compiled(speciation=0.001, seed=42, sample=1.0, radius=564, sigma=10.0, report_speciation=False, report_dispersal=False):\n",
    "    if report_dispersal:\n",
    "        reporting = \"progress-speciation-dispersal\"\n",
    "    elif report_speciation:\n",
    "        reporting = \"progress-speciation\"\n",
    "    else:\n",
    "        reporting = \"progress-only\"\n",
    "        \n",
    "    # Run the simulation\n",
    "    result = subprocess.run(shlex.split(\n",
    "        f\"{target_directory}/release/analysis-performance-reporting --radius {radius} \" +\n",
    "        f\"--sample {sample} --seed {seed} --sigma {sigma} --speciation {speciation} {reporting}\"\n",
    "    ), check=True, capture_output=True, text=True)\n",
    "    \n",
    "    match = EXECUTION_PATTERN.search(result.stdout)\n",
    "    if match is None:\n",
    "        print(result.stdout)\n",
    "        print(result.stderr)\n",
    "    initialisation = parse_time(match.group(1))\n",
    "    execution = parse_time(match.group(2))\n",
    "    cleanup = parse_time(match.group(3))\n",
    "        \n",
    "    return initialisation, execution, cleanup"
   ]
  },
  {
   "cell_type": "code",
   "execution_count": 8,
   "id": "8f940b1e",
   "metadata": {
    "execution": {
     "iopub.execute_input": "2021-05-26T15:10:02.479739Z",
     "iopub.status.busy": "2021-05-26T15:10:02.479172Z",
     "iopub.status.idle": "2021-05-26T15:10:02.481073Z",
     "shell.execute_reply": "2021-05-26T15:10:02.481510Z"
    },
    "jupyter": {
     "source_hidden": true
    },
    "tags": []
   },
   "outputs": [],
   "source": [
    "def batch_simulation_many_seeds(simulate, seeds, args=tuple(), kwargs=dict(), silent=False, processes=mp.cpu_count()):\n",
    "    results = []\n",
    "\n",
    "    with tqdm(total=len(seeds), disable=silent) as progress:\n",
    "        def update_progress(result):\n",
    "            results.append(result)\n",
    "\n",
    "            progress.update()\n",
    "        \n",
    "        def update_error(err):\n",
    "            print(err)\n",
    "\n",
    "        with mp.Pool(processes) as pool:\n",
    "            for seed in seeds:\n",
    "                pool.apply_async(simulate, args, {**kwargs, \"seed\": seed}, update_progress, update_error)\n",
    "\n",
    "            pool.close()\n",
    "            pool.join()\n",
    "    \n",
    "    return results"
   ]
  },
  {
   "cell_type": "code",
   "execution_count": 9,
   "id": "755dcc29-367d-417d-9ae8-6d60fd966b3c",
   "metadata": {
    "execution": {
     "iopub.execute_input": "2021-05-26T15:10:02.486654Z",
     "iopub.status.busy": "2021-05-26T15:10:02.486001Z",
     "iopub.status.idle": "2021-05-26T15:10:02.488200Z",
     "shell.execute_reply": "2021-05-26T15:10:02.488720Z"
    },
    "jupyter": {
     "source_hidden": true
    },
    "tags": []
   },
   "outputs": [],
   "source": [
    "def format_bytes(b):\n",
    "    if b < 1e3:\n",
    "        return f\"{int(b)}B\"\n",
    "    elif b < 1e6:\n",
    "        return f\"{np.round(b / 1e3, 2)}kB\"\n",
    "    elif b < 1e9:\n",
    "        return f\"{np.round(b / 1e6, 2)}MB\"\n",
    "    elif b < 1e12:\n",
    "        return f\"{np.round(b / 1e9, 2)}GB\"\n",
    "    else:\n",
    "        return f\"{np.round(b / 1e12, 2)}TB\""
   ]
  },
  {
   "cell_type": "code",
   "execution_count": 10,
   "id": "dc47c06d-a076-4a11-bfc6-5d26cd5c5ffb",
   "metadata": {
    "execution": {
     "iopub.execute_input": "2021-05-26T15:10:02.495485Z",
     "iopub.status.busy": "2021-05-26T15:10:02.493091Z",
     "iopub.status.idle": "2021-05-26T15:10:28.792863Z",
     "shell.execute_reply": "2021-05-26T15:10:28.793246Z"
    },
    "jupyter": {
     "source_hidden": true
    },
    "tags": []
   },
   "outputs": [
    {
     "data": {
      "text/plain": [
       "CompletedProcess(args=['cargo', 'build', '--release'], returncode=0, stdout='', stderr='   Compiling necsim-plugins-common v0.1.0 (/vol/bitbucket/ml5717/necsim-rust/necsim/plugins/common)\\n   Compiling analysis-performance-reporting v0.1.0 (/vol/bitbucket/ml5717/necsim-rust/analysis/performance/reporting)\\n    Finished release [optimized] target(s) in 20.34s\\n')"
      ]
     },
     "execution_count": 1,
     "metadata": {},
     "output_type": "execute_result"
    }
   ],
   "source": [
    "subprocess.run(shlex.split(\n",
    "    f\"cargo build --manifest-path {target_directory}/../rustcoalescence/Cargo.toml --release \"\n",
    "    + \"--features rustcoalescence-algorithms-monolithic,rustcoalescence-algorithms-independent,\"\n",
    "    + \"rustcoalescence-algorithms-cuda\"\n",
    "), check=True, capture_output=True, text=True);\n",
    "\n",
    "subprocess.run(shlex.split(\n",
    "    \"cargo build --release\"\n",
    "), check=True, capture_output=True, text=True);"
   ]
  },
  {
   "cell_type": "code",
   "execution_count": 11,
   "id": "489e99e6-cb05-42b9-8a26-6a2405322ff9",
   "metadata": {
    "execution": {
     "iopub.execute_input": "2021-05-26T15:10:28.798208Z",
     "iopub.status.busy": "2021-05-26T15:10:28.797591Z",
     "iopub.status.idle": "2021-05-26T15:10:28.890145Z",
     "shell.execute_reply": "2021-05-26T15:10:28.889735Z"
    }
   },
   "outputs": [
    {
     "data": {
      "text/markdown": [
       "# RAM Information:"
      ],
      "text/plain": [
       "<IPython.core.display.Markdown object>"
      ]
     },
     "metadata": {},
     "output_type": "display_data"
    },
    {
     "data": {
      "text/markdown": [
       ">```\n",
       "              total        used        free      shared  buff/cache   available\n",
       ">Mem:       16317628      756196    10501748      253932     5059684    14970936\n",
       ">Swap:       4194300           0     4194300\n",
       ">```"
      ],
      "text/plain": [
       "<IPython.core.display.Markdown object>"
      ]
     },
     "metadata": {},
     "output_type": "display_data"
    },
    {
     "data": {
      "text/markdown": [
       "# CPU Information:"
      ],
      "text/plain": [
       "<IPython.core.display.Markdown object>"
      ]
     },
     "metadata": {},
     "output_type": "display_data"
    },
    {
     "data": {
      "text/markdown": [
       ">```\n",
       "Architecture:                    x86_64\n",
       ">CPU op-mode(s):                  32-bit, 64-bit\n",
       ">Byte Order:                      Little Endian\n",
       ">Address sizes:                   46 bits physical, 48 bits virtual\n",
       ">CPU(s):                          8\n",
       ">On-line CPU(s) list:             0-7\n",
       ">Thread(s) per core:              2\n",
       ">Core(s) per socket:              4\n",
       ">Socket(s):                       1\n",
       ">NUMA node(s):                    1\n",
       ">Vendor ID:                       GenuineIntel\n",
       ">CPU family:                      6\n",
       ">Model:                           62\n",
       ">Model name:                      Intel(R) Xeon(R) CPU E5-1620 v2 @ 3.70GHz\n",
       ">Stepping:                        4\n",
       ">CPU MHz:                         3363.090\n",
       ">CPU max MHz:                     3900.0000\n",
       ">CPU min MHz:                     1200.0000\n",
       ">BogoMIPS:                        7382.21\n",
       ">Virtualisation:                  VT-x\n",
       ">L1d cache:                       128 KiB\n",
       ">L1i cache:                       128 KiB\n",
       ">L2 cache:                        1 MiB\n",
       ">L3 cache:                        10 MiB\n",
       ">NUMA node0 CPU(s):               0-7\n",
       ">Vulnerability Itlb multihit:     KVM: Mitigation: VMX disabled\n",
       ">Vulnerability L1tf:              Mitigation; PTE Inversion; VMX conditional cache flushes, SMT vulnerable\n",
       ">Vulnerability Mds:               Mitigation; Clear CPU buffers; SMT vulnerable\n",
       ">Vulnerability Meltdown:          Mitigation; PTI\n",
       ">Vulnerability Spec store bypass: Mitigation; Speculative Store Bypass disabled via prctl and seccomp\n",
       ">Vulnerability Spectre v1:        Mitigation; usercopy/swapgs barriers and __user pointer sanitization\n",
       ">Vulnerability Spectre v2:        Mitigation; Full generic retpoline, IBPB conditional, IBRS_FW, STIBP conditional, RSB filling\n",
       ">Vulnerability Srbds:             Not affected\n",
       ">Vulnerability Tsx async abort:   Not affected\n",
       ">Flags:                           fpu vme de pse tsc msr pae mce cx8 apic sep mtrr pge mca cmov pat pse36 clflush dts acpi mmx fxsr sse sse2 ss ht tm pbe syscall nx pdpe1gb rdtscp lm constant_tsc arch_perfmon pebs bts rep_good nopl xtopology nonstop_tsc cpuid aperfmperf pni pclmulqdq dtes64 monitor ds_cpl vmx smx est tm2 ssse3 cx16 xtpr pdcm pcid dca sse4_1 sse4_2 x2apic popcnt tsc_deadline_timer aes xsave avx f16c rdrand lahf_lm cpuid_fault epb pti ssbd ibrs ibpb stibp tpr_shadow vnmi flexpriority ept vpid fsgsbase smep erms xsaveopt dtherm ida arat pln pts md_clear flush_l1d\n",
       ">```"
      ],
      "text/plain": [
       "<IPython.core.display.Markdown object>"
      ]
     },
     "metadata": {},
     "output_type": "display_data"
    },
    {
     "data": {
      "text/markdown": [
       "# GPU Information:"
      ],
      "text/plain": [
       "<IPython.core.display.Markdown object>"
      ]
     },
     "metadata": {},
     "output_type": "display_data"
    },
    {
     "data": {
      "text/markdown": [
       ">```\n",
       "Wed May 26 16:10:28 2021       \n",
       ">+-----------------------------------------------------------------------------+\n",
       ">| NVIDIA-SMI 460.39       Driver Version: 460.39       CUDA Version: 11.2     |\n",
       ">|-------------------------------+----------------------+----------------------+\n",
       ">| GPU  Name        Persistence-M| Bus-Id        Disp.A | Volatile Uncorr. ECC |\n",
       ">| Fan  Temp  Perf  Pwr:Usage/Cap|         Memory-Usage | GPU-Util  Compute M. |\n",
       ">|                               |                      |               MIG M. |\n",
       ">|===============================+======================+======================|\n",
       ">|   0  GeForce GTX 1080    Off  | 00000000:05:00.0  On |                  N/A |\n",
       ">| 34%   43C    P8     7W / 180W |     77MiB /  8119MiB |      0%      Default |\n",
       ">|                               |                      |                  N/A |\n",
       ">+-------------------------------+----------------------+----------------------+\n",
       ">                                                                               \n",
       ">+-----------------------------------------------------------------------------+\n",
       ">| Processes:                                                                  |\n",
       ">|  GPU   GI   CI        PID   Type   Process name                  GPU Memory |\n",
       ">|        ID   ID                                                   Usage      |\n",
       ">|=============================================================================|\n",
       ">|    0   N/A  N/A      1874      G   /usr/lib/xorg/Xorg                 74MiB |\n",
       ">+-----------------------------------------------------------------------------+\n",
       ">```"
      ],
      "text/plain": [
       "<IPython.core.display.Markdown object>"
      ]
     },
     "metadata": {},
     "output_type": "display_data"
    }
   ],
   "source": [
    "display(Markdown(\"# RAM Information:\"))\n",
    "\n",
    "display(Markdown('>```\\n' + subprocess.run(\n",
    "    shlex.split(\"free\"), check=True, capture_output=True, text=True\n",
    ").stdout.replace('\\n', '\\n>') + '```'))\n",
    "\n",
    "display(Markdown(\"# CPU Information:\"))\n",
    "\n",
    "display(Markdown('>```\\n' + subprocess.run(\n",
    "    shlex.split(\"lscpu\"), check=True, capture_output=True, text=True\n",
    ").stdout.replace('\\n', '\\n>') + '```'))\n",
    "\n",
    "display(Markdown(\"# GPU Information:\"))\n",
    "\n",
    "display(Markdown('>```\\n' + subprocess.run(\n",
    "    shlex.split(\"nvidia-smi\"), check=True, capture_output=True, text=True\n",
    ").stdout.replace('\\n', '\\n>') + '```'))"
   ]
  },
  {
   "cell_type": "code",
   "execution_count": 12,
   "id": "b54a6ffe-70d7-4cd3-b7bb-7cb70580f70d",
   "metadata": {
    "execution": {
     "iopub.execute_input": "2021-05-26T15:10:28.898250Z",
     "iopub.status.busy": "2021-05-26T15:10:28.897730Z",
     "iopub.status.idle": "2021-05-26T19:10:23.387886Z",
     "shell.execute_reply": "2021-05-26T19:10:23.388408Z"
    }
   },
   "outputs": [
    {
     "data": {
      "text/markdown": [
       "# Reporting Performance:"
      ],
      "text/plain": [
       "<IPython.core.display.Markdown object>"
      ]
     },
     "metadata": {},
     "output_type": "display_data"
    },
    {
     "data": {
      "text/markdown": [
       "## progress only:"
      ],
      "text/plain": [
       "<IPython.core.display.Markdown object>"
      ]
     },
     "metadata": {},
     "output_type": "display_data"
    },
    {
     "name": "stderr",
     "output_type": "stream",
     "text": [
      "100%|█████████████████████████████████████████████████████████████████████████████████████████████████████████████| 160/160 [17:15<00:00,  6.47s/it]\n"
     ]
    },
    {
     "data": {
      "text/markdown": [
       "* Dynamic Plugins (CPU): 51.62s ± 0.52s"
      ],
      "text/plain": [
       "<IPython.core.display.Markdown object>"
      ]
     },
     "metadata": {},
     "output_type": "display_data"
    },
    {
     "name": "stderr",
     "output_type": "stream",
     "text": [
      "100%|█████████████████████████████████████████████████████████████████████████████████████████████████████████████| 160/160 [17:10<00:00,  6.44s/it]\n"
     ]
    },
    {
     "data": {
      "text/markdown": [
       "* Compiled Analysis (CPU): 51.45s ± 0.44s"
      ],
      "text/plain": [
       "<IPython.core.display.Markdown object>"
      ]
     },
     "metadata": {},
     "output_type": "display_data"
    },
    {
     "name": "stderr",
     "output_type": "stream",
     "text": [
      "100%|█████████████████████████████████████████████████████████████████████████████████████████████████████████████| 160/160 [17:15<00:00,  6.47s/it]\n"
     ]
    },
    {
     "data": {
      "text/markdown": [
       "* Dynamic Plugins + Log (CPU): 51.64s ± 0.51s [0B ± 0B]"
      ],
      "text/plain": [
       "<IPython.core.display.Markdown object>"
      ]
     },
     "metadata": {},
     "output_type": "display_data"
    },
    {
     "name": "stderr",
     "output_type": "stream",
     "text": [
      "100%|█████████████████████████████████████████████████████████████████████████████████████████████████████████████| 160/160 [02:18<00:00,  1.15it/s]\n"
     ]
    },
    {
     "data": {
      "text/markdown": [
       "* Dynamic Plugins (GPU): 0.64s ± 0.01s"
      ],
      "text/plain": [
       "<IPython.core.display.Markdown object>"
      ]
     },
     "metadata": {},
     "output_type": "display_data"
    },
    {
     "data": {
      "text/markdown": [
       "## progress + speciation:"
      ],
      "text/plain": [
       "<IPython.core.display.Markdown object>"
      ]
     },
     "metadata": {},
     "output_type": "display_data"
    },
    {
     "name": "stderr",
     "output_type": "stream",
     "text": [
      "100%|█████████████████████████████████████████████████████████████████████████████████████████████████████████████| 160/160 [17:22<00:00,  6.52s/it]\n"
     ]
    },
    {
     "data": {
      "text/markdown": [
       "* Dynamic Plugins (CPU): 52.0s ± 0.49s"
      ],
      "text/plain": [
       "<IPython.core.display.Markdown object>"
      ]
     },
     "metadata": {},
     "output_type": "display_data"
    },
    {
     "name": "stderr",
     "output_type": "stream",
     "text": [
      "100%|█████████████████████████████████████████████████████████████████████████████████████████████████████████████| 160/160 [17:13<00:00,  6.46s/it]\n"
     ]
    },
    {
     "data": {
      "text/markdown": [
       "* Compiled Analysis (CPU): 51.55s ± 0.4s"
      ],
      "text/plain": [
       "<IPython.core.display.Markdown object>"
      ]
     },
     "metadata": {},
     "output_type": "display_data"
    },
    {
     "name": "stderr",
     "output_type": "stream",
     "text": [
      "100%|█████████████████████████████████████████████████████████████████████████████████████████████████████████████| 160/160 [17:17<00:00,  6.48s/it]\n"
     ]
    },
    {
     "data": {
      "text/markdown": [
       "* Dynamic Plugins + Log (CPU): 51.74s ± 0.36s [3.95MB ± 313.59kB]"
      ],
      "text/plain": [
       "<IPython.core.display.Markdown object>"
      ]
     },
     "metadata": {},
     "output_type": "display_data"
    },
    {
     "name": "stderr",
     "output_type": "stream",
     "text": [
      "100%|█████████████████████████████████████████████████████████████████████████████████████████████████████████████| 160/160 [02:42<00:00,  1.02s/it]\n"
     ]
    },
    {
     "data": {
      "text/markdown": [
       "* Dynamic Plugins (GPU): 0.64s ± 0.01s"
      ],
      "text/plain": [
       "<IPython.core.display.Markdown object>"
      ]
     },
     "metadata": {},
     "output_type": "display_data"
    },
    {
     "data": {
      "text/markdown": [
       "## progress + speciation + dispersal:"
      ],
      "text/plain": [
       "<IPython.core.display.Markdown object>"
      ]
     },
     "metadata": {},
     "output_type": "display_data"
    },
    {
     "name": "stderr",
     "output_type": "stream",
     "text": [
      "100%|█████████████████████████████████████████████████████████████████████████████████████████████████████████████| 160/160 [18:26<00:00,  6.92s/it]\n"
     ]
    },
    {
     "data": {
      "text/markdown": [
       "* Dynamic Plugins (CPU): 55.18s ± 0.57s"
      ],
      "text/plain": [
       "<IPython.core.display.Markdown object>"
      ]
     },
     "metadata": {},
     "output_type": "display_data"
    },
    {
     "name": "stderr",
     "output_type": "stream",
     "text": [
      "100%|█████████████████████████████████████████████████████████████████████████████████████████████████████████████| 160/160 [17:47<00:00,  6.67s/it]\n"
     ]
    },
    {
     "data": {
      "text/markdown": [
       "* Compiled Analysis (CPU): 53.24s ± 0.58s"
      ],
      "text/plain": [
       "<IPython.core.display.Markdown object>"
      ]
     },
     "metadata": {},
     "output_type": "display_data"
    },
    {
     "name": "stderr",
     "output_type": "stream",
     "text": [
      "100%|█████████████████████████████████████████████████████████████████████████████████████████████████████████████| 160/160 [25:05<00:00,  9.41s/it]\n"
     ]
    },
    {
     "data": {
      "text/markdown": [
       "* Dynamic Plugins + Log (CPU): 75.05s ± 0.48s [5.57GB ± 17.33MB]"
      ],
      "text/plain": [
       "<IPython.core.display.Markdown object>"
      ]
     },
     "metadata": {},
     "output_type": "display_data"
    },
    {
     "name": "stderr",
     "output_type": "stream",
     "text": [
      "100%|███████████████████████████████████████████████████████████████████████████████████████████████████████████| 160/160 [1:09:57<00:00, 26.23s/it]\n"
     ]
    },
    {
     "data": {
      "text/markdown": [
       "* Dynamic Plugins (GPU): 25.82s ± 0.24s"
      ],
      "text/plain": [
       "<IPython.core.display.Markdown object>"
      ]
     },
     "metadata": {},
     "output_type": "display_data"
    }
   ],
   "source": [
    "display(Markdown(\"# Reporting Performance:\"))\n",
    "\n",
    "seeds = np.random.randint(0, np.iinfo(\"uint64\").max, dtype=\"uint64\", size=160)\n",
    "\n",
    "for report_speciation, report_dispersal, title in [\n",
    "    (False, False, \"progress only\"), (True, False, \"progress + speciation\"), (True, True, \"progress + speciation + dispersal\")\n",
    "]:\n",
    "    display(Markdown(f\"## {title}:\"))\n",
    "    \n",
    "    initialisations, executions, cleanups, event_log_sizes = zip(*batch_simulation_many_seeds(\n",
    "        simulate_reporting_dynamic, seeds, args=(\"Classical()\",), kwargs=dict(\n",
    "            speciation=0.001, sample=1.0, radius=178, sigma=0.0, report_speciation=report_speciation, report_dispersal=report_dispersal\n",
    "        ), silent=False\n",
    "    ))\n",
    "    display(Markdown(f\"* Dynamic Plugins (CPU): {np.round(np.mean(executions), 2)}s ± {np.round(np.std(executions), 2)}s\"))\n",
    "\n",
    "    initialisations, executions, cleanups = zip(*batch_simulation_many_seeds(\n",
    "        simulate_reporting_compiled, seeds, args=(), kwargs=dict(\n",
    "            speciation=0.001, sample=1.0, radius=178, sigma=0.0, report_speciation=report_speciation, report_dispersal=report_dispersal\n",
    "        ), silent=False\n",
    "    ))\n",
    "    display(Markdown(f\"* Compiled Analysis (CPU): {np.round(np.mean(executions), 2)}s ± {np.round(np.std(executions), 2)}s\"))\n",
    "\n",
    "    initialisations, executions, cleanups, event_log_sizes = zip(*batch_simulation_many_seeds(\n",
    "        simulate_reporting_dynamic, seeds, args=(\"Classical()\",), kwargs=dict(\n",
    "            speciation=0.001, sample=1.0, radius=178, sigma=0.0, report_speciation=report_speciation, report_dispersal=report_dispersal, log=True\n",
    "        ), silent=False\n",
    "    ))\n",
    "    display(Markdown(f\"* Dynamic Plugins + Log (CPU): {np.round(np.mean(executions), 2)}s ± {np.round(np.std(executions), 2)}s [{format_bytes(np.mean(event_log_sizes))} ± {format_bytes(np.std(event_log_sizes))}]\"))\n",
    "    \n",
    "    initialisations, executions, cleanups, event_log_sizes = zip(*batch_simulation_many_seeds(\n",
    "        simulate_reporting_dynamic, seeds, args=(\"CUDA(ptx_jit:true, parallelism_mode:Monolithic(event_slice:10000000))\",), kwargs=dict(\n",
    "            speciation=0.001, sample=1.0, radius=178, sigma=0.0, report_speciation=report_speciation, report_dispersal=report_dispersal\n",
    "        ), silent=False, processes=1\n",
    "    ))\n",
    "    display(Markdown(f\"* Dynamic Plugins (GPU): {np.round(np.mean(executions), 2)}s ± {np.round(np.std(executions), 2)}s\"))"
   ]
  },
  {
   "cell_type": "code",
   "execution_count": null,
   "id": "afc9117b-736d-4fe8-ac75-d657c434a112",
   "metadata": {},
   "outputs": [],
   "source": []
  }
 ],
 "metadata": {
  "kernelspec": {
   "display_name": "Python 3",
   "language": "python",
   "name": "python3"
  },
  "language_info": {
   "codemirror_mode": {
    "name": "ipython",
    "version": 3
   },
   "file_extension": ".py",
   "mimetype": "text/x-python",
   "name": "python",
   "nbconvert_exporter": "python",
   "pygments_lexer": "ipython3",
   "version": "3.8.5"
  }
 },
 "nbformat": 4,
 "nbformat_minor": 5
}
