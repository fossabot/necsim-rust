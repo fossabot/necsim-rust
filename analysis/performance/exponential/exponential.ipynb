{
 "cells": [
  {
   "cell_type": "code",
   "execution_count": null,
   "id": "e30e2cbc",
   "metadata": {
    "jupyter": {
     "source_hidden": true
    },
    "tags": []
   },
   "outputs": [],
   "source": [
    "import subprocess\n",
    "import shlex\n",
    "import re\n",
    "import json\n",
    "\n",
    "import numpy as np\n",
    "\n",
    "from matplotlib import pyplot as plt\n",
    "from tqdm import tqdm\n",
    "from scipy import stats\n",
    "\n",
    "from IPython.display import display, Markdown"
   ]
  },
  {
   "cell_type": "code",
   "execution_count": null,
   "id": "9ae51bda",
   "metadata": {
    "jupyter": {
     "source_hidden": true
    },
    "tags": []
   },
   "outputs": [],
   "source": [
    "import matplotlib as mpl\n",
    "mpl.rcParams['figure.dpi'] = 400\n",
    "\n",
    "def show():\n",
    "    plt.savefig(f\"{show.fig_counter}.pdf\", dpi='figure', transparent=True, bbox_inches='tight')\n",
    "    show.fig_counter += 1\n",
    "    show.plt_show()\n",
    "\n",
    "show.fig_counter = 0\n",
    "show.plt_show = plt.show\n",
    "\n",
    "plt.show = show"
   ]
  },
  {
   "cell_type": "code",
   "execution_count": null,
   "id": "194da2dd",
   "metadata": {
    "jupyter": {
     "source_hidden": true
    },
    "tags": []
   },
   "outputs": [],
   "source": [
    "CC_PATTERN = re.compile(r\"(?<!^)(?=[A-Z])\")\n",
    "TIMING_PATTERN = re.compile(r\"\\((\\d+(?:\\.\\d+)?)s\\)\")"
   ]
  },
  {
   "cell_type": "code",
   "execution_count": null,
   "id": "68d4c3c0",
   "metadata": {
    "jupyter": {
     "source_hidden": true
    },
    "tags": []
   },
   "outputs": [],
   "source": [
    "target_directory = json.loads(subprocess.run(\"cargo metadata --format-version 1\".split(), capture_output=True).stdout)[\"target_directory\"]"
   ]
  },
  {
   "cell_type": "code",
   "execution_count": null,
   "id": "fdf90d63",
   "metadata": {
    "jupyter": {
     "source_hidden": true
    },
    "tags": []
   },
   "outputs": [],
   "source": [
    "subprocess.run(shlex.split(\"cargo build --release\"), check=True);"
   ]
  },
  {
   "cell_type": "code",
   "execution_count": null,
   "id": "c8092f19",
   "metadata": {
    "jupyter": {
     "source_hidden": true
    },
    "tags": []
   },
   "outputs": [],
   "source": [
    "def test_exponential_inter_event_timing(\n",
    "    mode, delta_t=1.0, lamda=0.5, seeds=[42], limit=10000000000, flags=[],\n",
    "):\n",
    "    factor = np.sqrt(10 ** abs(np.log10(lamda * delta_t)))\n",
    "    \n",
    "    scaled_limit = int(limit / factor)\n",
    "    \n",
    "    timings = []\n",
    "    \n",
    "    for seed in seeds:\n",
    "        output = subprocess.run(shlex.split(\n",
    "            f\"{target_directory}/release/analysis-performance-exponential --delta-t {delta_t} --seed {seed} \" +\n",
    "            f\"--lambda {lamda} --limit {scaled_limit} {' '.join(f'--{f}' for f in flags)} {CC_PATTERN.sub('-', mode).lower()}\"\n",
    "        ), check=True, capture_output=True, text=True).stdout\n",
    "        \n",
    "        timings.append(float(TIMING_PATTERN.search(output).group(1)) / scaled_limit)\n",
    "    \n",
    "    return timings"
   ]
  },
  {
   "cell_type": "code",
   "execution_count": null,
   "id": "5e858c3f",
   "metadata": {},
   "outputs": [],
   "source": [
    "display(Markdown(\"# RAM Information:\"))\n",
    "\n",
    "display(Markdown('>```\\n' + subprocess.run(\n",
    "    shlex.split(\"free\"), check=True, capture_output=True, text=True\n",
    ").stdout.replace('\\n', '\\n>') + '```'))\n",
    "\n",
    "display(Markdown(\"# CPU Information:\"))\n",
    "\n",
    "display(Markdown('>```\\n' + subprocess.run(\n",
    "    shlex.split(\"lscpu\"), check=True, capture_output=True, text=True\n",
    ").stdout.replace('\\n', '\\n>') + '```'))\n",
    "\n",
    "display(Markdown(\"# GPU Information:\"))\n",
    "\n",
    "display(Markdown('>```\\n' + subprocess.run(\n",
    "    shlex.split(\"nvidia-smi\"), check=True, capture_output=True, text=True\n",
    ").stdout.replace('\\n', '\\n>') + '```'))"
   ]
  },
  {
   "cell_type": "code",
   "execution_count": null,
   "id": "9096612a",
   "metadata": {},
   "outputs": [],
   "source": [
    "lambdas = [\n",
    "    0.001, 0.002, 0.003, 0.006, 0.01, 0.02, 0.03, 0.06, 0.1, 0.18,\n",
    "    0.32, 0.56, 1.0, 1.8, 3.2, 5.6, 10.0, 18.0, 32.0, 56.0, 100.0,\n",
    "    180.0, 320.0, 560.0, 1000.0,\n",
    "]\n",
    "\n",
    "seeds = np.random.randint(0, np.iinfo(\"uint64\").max, dtype=\"uint64\", size=10)\n",
    "\n",
    "# Different limits to account for GPU timeouts\n",
    "def limit_for_lambda(lamda):\n",
    "    if lamda < 1.0:\n",
    "        return 3162\n",
    "    \n",
    "    if lamda <= 100:\n",
    "        return 10000\n",
    "    \n",
    "    return 50000\n",
    "\n",
    "exp_times = [\n",
    "    test_exponential_inter_event_timing(\"Exponential\", lamda=lamda, seeds=seeds, limit=limit_for_lambda(lamda), flags=[\"cuda\"])\n",
    "    for lamda in lambdas\n",
    "]\n",
    "\n",
    "# Different limits to account for GPU timeouts\n",
    "def limit_for_lambda(lamda):\n",
    "    if lamda <= 100:\n",
    "        return 7500\n",
    "    \n",
    "    return 2500\n",
    "\n",
    "poi_times = [\n",
    "    test_exponential_inter_event_timing(\"Poisson\", lamda=lamda, seeds=seeds, limit=limit_for_lambda(lamda), flags=[\"cuda\"])\n",
    "    for lamda in lambdas\n",
    "]"
   ]
  },
  {
   "cell_type": "code",
   "execution_count": null,
   "id": "d2a69f96",
   "metadata": {
    "jupyter": {
     "source_hidden": true
    },
    "tags": []
   },
   "outputs": [],
   "source": [
    "plt.title(\"GPU Execution times of event time samplers (log-log)\")\n",
    "plt.xlabel(\"lambda\")\n",
    "plt.ylabel(\"time / sample [s]\")\n",
    "plt.xscale(\"log\")\n",
    "plt.yscale(\"log\")\n",
    "\n",
    "plt.plot(lambdas, np.median(exp_times, axis=1), label=\"ExpEventTimeSampler\")\n",
    "plt.fill_between(\n",
    "    lambdas,\n",
    "    np.mean(exp_times, axis=1) - np.std(exp_times, axis=1),\n",
    "    np.mean(exp_times, axis=1) + np.std(exp_times, axis=1),\n",
    "    color=plt.gca().lines[-1].get_color(), alpha=0.1\n",
    ")\n",
    "plt.plot(lambdas, np.median(poi_times, axis=1), label=\"PoissonEventTimeSampler\")\n",
    "plt.fill_between(\n",
    "    lambdas,\n",
    "    np.mean(poi_times, axis=1) - np.std(poi_times, axis=1),\n",
    "    np.mean(poi_times, axis=1) + np.std(poi_times, axis=1),\n",
    "    color=plt.gca().lines[-1].get_color(), alpha=0.2\n",
    ")\n",
    "plt.legend()\n",
    "plt.show()\n",
    "\n",
    "plt.title(\"Relative GPU execution performance of event time samplers (log-lin)\")\n",
    "plt.xlabel(\"lambda\")\n",
    "plt.ylabel(\"relative performance\")\n",
    "plt.xscale(\"log\")\n",
    "plt.plot(lambdas, [e / p for e, p in zip(np.mean(exp_times, axis=1), np.mean(poi_times, axis=1))], label=\"Exp / Poisson\")\n",
    "plt.legend()\n",
    "plt.show()"
   ]
  },
  {
   "cell_type": "code",
   "execution_count": null,
   "id": "95b50981",
   "metadata": {
    "tags": []
   },
   "outputs": [],
   "source": [
    "lambdas = [\n",
    "    0.001, 0.002, 0.003, 0.006, 0.01, 0.02, 0.03, 0.06, 0.1, 0.18,\n",
    "    0.32, 0.56, 1.0, 1.8, 3.2, 5.6, 10.0, 18.0, 32.0, 56.0, 100.0,\n",
    "    180.0, 320.0, 560.0, 1000.0, 1800, 3200, 5600, 10000,\n",
    "]\n",
    "\n",
    "seeds = np.random.randint(0, np.iinfo(\"uint64\").max, dtype=\"uint64\", size=10)\n",
    "\n",
    "exp_times = [\n",
    "    test_exponential_inter_event_timing(\"Exponential\", lamda=lamda, seeds=seeds, limit=1000000)\n",
    "    for lamda in lambdas\n",
    "]\n",
    "poi_times = [\n",
    "    test_exponential_inter_event_timing(\"Poisson\", lamda=lamda, seeds=seeds, limit=1000000)\n",
    "    for lamda in lambdas\n",
    "]"
   ]
  },
  {
   "cell_type": "code",
   "execution_count": null,
   "id": "40db02ea",
   "metadata": {
    "jupyter": {
     "source_hidden": true
    },
    "tags": []
   },
   "outputs": [],
   "source": [
    "plt.title(\"CPU Execution times of event time samplers (log-log)\")\n",
    "plt.xlabel(\"lambda\")\n",
    "plt.ylabel(\"time / sample [s]\")\n",
    "plt.xscale(\"log\")\n",
    "plt.yscale(\"log\")\n",
    "\n",
    "plt.plot(lambdas, np.median(exp_times, axis=1), label=\"ExpEventTimeSampler\")\n",
    "plt.fill_between(\n",
    "    lambdas,\n",
    "    np.mean(exp_times, axis=1) - np.std(exp_times, axis=1),\n",
    "    np.mean(exp_times, axis=1) + np.std(exp_times, axis=1),\n",
    "    color=plt.gca().lines[-1].get_color(), alpha=0.1\n",
    ")\n",
    "plt.plot(lambdas, np.median(poi_times, axis=1), label=\"PoissonEventTimeSampler\")\n",
    "plt.fill_between(\n",
    "    lambdas,\n",
    "    np.mean(poi_times, axis=1) - np.std(poi_times, axis=1),\n",
    "    np.mean(poi_times, axis=1) + np.std(poi_times, axis=1),\n",
    "    color=plt.gca().lines[-1].get_color(), alpha=0.2\n",
    ")\n",
    "plt.legend()\n",
    "plt.show()\n",
    "\n",
    "plt.title(\"Relative CPU execution performance of event time samplers (log-lin)\")\n",
    "plt.xlabel(\"lambda\")\n",
    "plt.ylabel(\"relative performance\")\n",
    "plt.xscale(\"log\")\n",
    "plt.plot(lambdas, [e / p for e, p in zip(np.mean(exp_times, axis=1), np.mean(poi_times, axis=1))], label=\"Exp / Poisson\")\n",
    "plt.legend()\n",
    "plt.show()"
   ]
  },
  {
   "cell_type": "code",
   "execution_count": null,
   "id": "20b3bae2",
   "metadata": {},
   "outputs": [],
   "source": []
  }
 ],
 "metadata": {
  "kernelspec": {
   "display_name": "Python 3",
   "language": "python",
   "name": "python3"
  },
  "language_info": {
   "codemirror_mode": {
    "name": "ipython",
    "version": 3
   },
   "file_extension": ".py",
   "mimetype": "text/x-python",
   "name": "python",
   "nbconvert_exporter": "python",
   "pygments_lexer": "ipython3",
   "version": "3.7.5"
  }
 },
 "nbformat": 4,
 "nbformat_minor": 5
}
