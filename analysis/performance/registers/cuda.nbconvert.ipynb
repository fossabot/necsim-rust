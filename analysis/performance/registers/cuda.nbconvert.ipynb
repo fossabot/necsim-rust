{
 "cells": [
  {
   "cell_type": "code",
   "execution_count": 1,
   "id": "012de09e",
   "metadata": {
    "execution": {
     "iopub.execute_input": "2021-05-27T05:27:53.409401Z",
     "iopub.status.busy": "2021-05-27T05:27:53.408893Z",
     "iopub.status.idle": "2021-05-27T05:27:55.415324Z",
     "shell.execute_reply": "2021-05-27T05:27:55.415930Z"
    },
    "jupyter": {
     "source_hidden": true
    },
    "tags": []
   },
   "outputs": [],
   "source": [
    "import subprocess\n",
    "import shlex\n",
    "import re\n",
    "import json\n",
    "\n",
    "import numpy as np\n",
    "\n",
    "from IPython.display import display, Markdown"
   ]
  },
  {
   "cell_type": "code",
   "execution_count": 2,
   "id": "f6c0ad90",
   "metadata": {
    "execution": {
     "iopub.execute_input": "2021-05-27T05:27:55.420986Z",
     "iopub.status.busy": "2021-05-27T05:27:55.419861Z",
     "iopub.status.idle": "2021-05-27T05:27:55.422464Z",
     "shell.execute_reply": "2021-05-27T05:27:55.422059Z"
    },
    "jupyter": {
     "source_hidden": true
    },
    "tags": []
   },
   "outputs": [],
   "source": [
    "REGISTERS_PATTERN = re.compile(r\"NumRegisters: Ok\\((\\d+)\\)\")\n",
    "MAX_THREADS_PATTERN = re.compile(r\"MaxThreadsPerBlock: Ok\\((\\d+)\\)\")\n",
    "LOCAL_BYTES_PATTERN = re.compile(r\"LocalSizeBytes: Ok\\((\\d+)\\)\")"
   ]
  },
  {
   "cell_type": "code",
   "execution_count": 3,
   "id": "21b5a712",
   "metadata": {
    "execution": {
     "iopub.execute_input": "2021-05-27T05:27:55.427687Z",
     "iopub.status.busy": "2021-05-27T05:27:55.427075Z",
     "iopub.status.idle": "2021-05-27T05:28:08.907999Z",
     "shell.execute_reply": "2021-05-27T05:28:08.908393Z"
    },
    "jupyter": {
     "source_hidden": true
    },
    "tags": []
   },
   "outputs": [],
   "source": [
    "target_directory = json.loads(subprocess.run(\"cargo metadata --format-version 1\".split(), capture_output=True).stdout)[\"target_directory\"]"
   ]
  },
  {
   "cell_type": "code",
   "execution_count": 4,
   "id": "e50a13cf",
   "metadata": {
    "execution": {
     "iopub.execute_input": "2021-05-27T05:28:08.919150Z",
     "iopub.status.busy": "2021-05-27T05:28:08.918403Z",
     "iopub.status.idle": "2021-05-27T05:28:08.920505Z",
     "shell.execute_reply": "2021-05-27T05:28:08.920878Z"
    },
    "jupyter": {
     "source_hidden": true
    },
    "tags": []
   },
   "outputs": [],
   "source": [
    "def simulate_registers_monolithic(scenario, sample=1.0, speciation=False, dispersal=False):\n",
    "    if dispersal is True:\n",
    "        reporters = \"Counter()\"\n",
    "    elif speciation is True:\n",
    "        reporters = \"Biodiversity()\"\n",
    "    else:\n",
    "        reporters = \"\"\n",
    "    \n",
    "    config = \"\".join(f\"\"\"\n",
    "    (\n",
    "        speciation: 1.0,\n",
    "        sample: {sample},\n",
    "        seed: 42,\n",
    "\n",
    "        algorithm: CUDA(ptx_jit: true),\n",
    "\n",
    "        scenario: {scenario},\n",
    "\n",
    "        reporters: [\n",
    "            Plugin(\n",
    "                library: \"{target_directory}/release/deps/libnecsim_plugins_common.so\",\n",
    "                reporters: [{reporters}]\n",
    "            )\n",
    "        ],\n",
    "    )\n",
    "    \"\"\".split()).replace(\",)\", \")\").replace(\",]\", \"]\")\n",
    "\n",
    "    # Run the simulation\n",
    "    result = subprocess.run(shlex.split(\n",
    "        \"cargo run --release --features rustcoalescence-algorithms-cuda \"\n",
    "        + f\"--quiet -- simulate '{config}'\"\n",
    "    ), check=True, capture_output=True, text=True)\n",
    "    \n",
    "    match = REGISTERS_PATTERN.search(result.stdout)\n",
    "    if match is None:\n",
    "        print(result.stdout)\n",
    "        print(result.stderr)\n",
    "    registers_no_jit = int(match.group(1))\n",
    "    \n",
    "    match = REGISTERS_PATTERN.search(result.stdout, match.end())\n",
    "    if match is None:\n",
    "        print(result.stdout)\n",
    "        print(result.stderr)\n",
    "    registers_with_jit = int(match.group(1))\n",
    "    \n",
    "    match = MAX_THREADS_PATTERN.search(result.stdout)\n",
    "    if match is None:\n",
    "        print(result.stdout)\n",
    "        print(result.stderr)\n",
    "    max_threads_no_jit = int(match.group(1))\n",
    "    \n",
    "    match = MAX_THREADS_PATTERN.search(result.stdout, match.end())\n",
    "    if match is None:\n",
    "        print(result.stdout)\n",
    "        print(result.stderr)\n",
    "    max_threads_with_jit = int(match.group(1))\n",
    "    \n",
    "    match = LOCAL_BYTES_PATTERN.search(result.stdout)\n",
    "    if match is None:\n",
    "        print(result.stdout)\n",
    "        print(result.stderr)\n",
    "    local_bytes_no_jit = int(match.group(1))\n",
    "    \n",
    "    match = LOCAL_BYTES_PATTERN.search(result.stdout, match.end())\n",
    "    if match is None:\n",
    "        print(result.stdout)\n",
    "        print(result.stderr)\n",
    "    local_bytes_with_jit = int(match.group(1))\n",
    "        \n",
    "    return (registers_no_jit, registers_with_jit), (max_threads_no_jit, max_threads_with_jit), (local_bytes_no_jit, local_bytes_with_jit)"
   ]
  },
  {
   "cell_type": "code",
   "execution_count": 5,
   "id": "c87a5008-f8c1-47c1-9ecf-8c5aea0810df",
   "metadata": {
    "execution": {
     "iopub.execute_input": "2021-05-27T05:28:08.924076Z",
     "iopub.status.busy": "2021-05-27T05:28:08.923601Z",
     "iopub.status.idle": "2021-05-27T05:28:08.979172Z",
     "shell.execute_reply": "2021-05-27T05:28:08.978704Z"
    }
   },
   "outputs": [
    {
     "data": {
      "text/markdown": [
       "# GPU Information:"
      ],
      "text/plain": [
       "<IPython.core.display.Markdown object>"
      ]
     },
     "metadata": {},
     "output_type": "display_data"
    },
    {
     "data": {
      "text/markdown": [
       ">```\n",
       "Thu May 27 06:28:08 2021       \n",
       ">+-----------------------------------------------------------------------------+\n",
       ">| NVIDIA-SMI 460.73.01    Driver Version: 460.73.01    CUDA Version: 11.2     |\n",
       ">|-------------------------------+----------------------+----------------------+\n",
       ">| GPU  Name        Persistence-M| Bus-Id        Disp.A | Volatile Uncorr. ECC |\n",
       ">| Fan  Temp  Perf  Pwr:Usage/Cap|         Memory-Usage | GPU-Util  Compute M. |\n",
       ">|                               |                      |               MIG M. |\n",
       ">|===============================+======================+======================|\n",
       ">|   0  GeForce GTX 1080    Off  | 00000000:05:00.0  On |                  N/A |\n",
       ">| 27%   38C    P8     7W / 180W |     82MiB /  8119MiB |      0%      Default |\n",
       ">|                               |                      |                  N/A |\n",
       ">+-------------------------------+----------------------+----------------------+\n",
       ">                                                                               \n",
       ">+-----------------------------------------------------------------------------+\n",
       ">| Processes:                                                                  |\n",
       ">|  GPU   GI   CI        PID   Type   Process name                  GPU Memory |\n",
       ">|        ID   ID                                                   Usage      |\n",
       ">|=============================================================================|\n",
       ">|    0   N/A  N/A      4336      G   /usr/lib/xorg/Xorg                 79MiB |\n",
       ">+-----------------------------------------------------------------------------+\n",
       ">```"
      ],
      "text/plain": [
       "<IPython.core.display.Markdown object>"
      ]
     },
     "metadata": {},
     "output_type": "display_data"
    }
   ],
   "source": [
    "display(Markdown(\"# GPU Information:\"))\n",
    "\n",
    "display(Markdown('>```\\n' + subprocess.run(\n",
    "    shlex.split(\"nvidia-smi\"), check=True, capture_output=True, text=True\n",
    ").stdout.replace('\\n', '\\n>') + '```'))"
   ]
  },
  {
   "cell_type": "code",
   "execution_count": 6,
   "id": "cc243bdb",
   "metadata": {
    "execution": {
     "iopub.execute_input": "2021-05-27T05:28:08.986256Z",
     "iopub.status.busy": "2021-05-27T05:28:08.985571Z",
     "iopub.status.idle": "2021-05-27T05:28:58.139051Z",
     "shell.execute_reply": "2021-05-27T05:28:58.139558Z"
    }
   },
   "outputs": [
    {
     "data": {
      "text/markdown": [
       "# CUDA Algorithm Register Usage + PTX JIT effect: *\\#registers(\\#threads)*"
      ],
      "text/plain": [
       "<IPython.core.display.Markdown object>"
      ]
     },
     "metadata": {},
     "output_type": "display_data"
    },
    {
     "data": {
      "text/markdown": [
       "## NonSpatial:"
      ],
      "text/plain": [
       "<IPython.core.display.Markdown object>"
      ]
     },
     "metadata": {},
     "output_type": "display_data"
    },
    {
     "data": {
      "text/markdown": [
       "* progress events only: 70(896) -> 54(1024)"
      ],
      "text/plain": [
       "<IPython.core.display.Markdown object>"
      ]
     },
     "metadata": {},
     "output_type": "display_data"
    },
    {
     "data": {
      "text/markdown": [
       "* progress \\+ speciation events: 70(896) -> 54(1024)"
      ],
      "text/plain": [
       "<IPython.core.display.Markdown object>"
      ]
     },
     "metadata": {},
     "output_type": "display_data"
    },
    {
     "data": {
      "text/markdown": [
       "* progress \\+ speciation \\+ dispersal events: 75(768) -> 54(1024)"
      ],
      "text/plain": [
       "<IPython.core.display.Markdown object>"
      ]
     },
     "metadata": {},
     "output_type": "display_data"
    },
    {
     "data": {
      "text/markdown": [
       "## SpatiallyImplicit:"
      ],
      "text/plain": [
       "<IPython.core.display.Markdown object>"
      ]
     },
     "metadata": {},
     "output_type": "display_data"
    },
    {
     "data": {
      "text/markdown": [
       "* progress events only: 77(768) -> 53(1024)"
      ],
      "text/plain": [
       "<IPython.core.display.Markdown object>"
      ]
     },
     "metadata": {},
     "output_type": "display_data"
    },
    {
     "data": {
      "text/markdown": [
       "* progress \\+ speciation events: 77(768) -> 53(1024)"
      ],
      "text/plain": [
       "<IPython.core.display.Markdown object>"
      ]
     },
     "metadata": {},
     "output_type": "display_data"
    },
    {
     "data": {
      "text/markdown": [
       "* progress \\+ speciation \\+ dispersal events: 87(640) -> 56(1024)"
      ],
      "text/plain": [
       "<IPython.core.display.Markdown object>"
      ]
     },
     "metadata": {},
     "output_type": "display_data"
    },
    {
     "data": {
      "text/markdown": [
       "## AlmostInfinite:"
      ],
      "text/plain": [
       "<IPython.core.display.Markdown object>"
      ]
     },
     "metadata": {},
     "output_type": "display_data"
    },
    {
     "data": {
      "text/markdown": [
       "* progress events only: 68(896) -> 57(1024)"
      ],
      "text/plain": [
       "<IPython.core.display.Markdown object>"
      ]
     },
     "metadata": {},
     "output_type": "display_data"
    },
    {
     "data": {
      "text/markdown": [
       "* progress \\+ speciation events: 68(896) -> 57(1024)"
      ],
      "text/plain": [
       "<IPython.core.display.Markdown object>"
      ]
     },
     "metadata": {},
     "output_type": "display_data"
    },
    {
     "data": {
      "text/markdown": [
       "* progress \\+ speciation \\+ dispersal events: 74(768) -> 56(1024)"
      ],
      "text/plain": [
       "<IPython.core.display.Markdown object>"
      ]
     },
     "metadata": {},
     "output_type": "display_data"
    },
    {
     "data": {
      "text/markdown": [
       "## SpatiallyExplicit:"
      ],
      "text/plain": [
       "<IPython.core.display.Markdown object>"
      ]
     },
     "metadata": {},
     "output_type": "display_data"
    },
    {
     "data": {
      "text/markdown": [
       "* progress events only: 88(640) -> 54(1024)"
      ],
      "text/plain": [
       "<IPython.core.display.Markdown object>"
      ]
     },
     "metadata": {},
     "output_type": "display_data"
    },
    {
     "data": {
      "text/markdown": [
       "* progress \\+ speciation events: 88(640) -> 54(1024)"
      ],
      "text/plain": [
       "<IPython.core.display.Markdown object>"
      ]
     },
     "metadata": {},
     "output_type": "display_data"
    },
    {
     "data": {
      "text/markdown": [
       "* progress \\+ speciation \\+ dispersal events: 90(640) -> 60(1024)"
      ],
      "text/plain": [
       "<IPython.core.display.Markdown object>"
      ]
     },
     "metadata": {},
     "output_type": "display_data"
    }
   ],
   "source": [
    "display(Markdown(\"# CUDA Algorithm Register Usage + PTX JIT effect: *\\#registers(\\#threads)*\"))\n",
    "\n",
    "for scenario, sample in [\n",
    "    (f\"NonSpatial(area: ({100}, {100}), deme: {100})\", 0.00001),\n",
    "    (f\"\"\"SpatiallyImplicit(\n",
    "        local_area: ({100}, {100}), local_deme: {100},\n",
    "        meta_area: ({100}, {100}), meta_deme: {100},\n",
    "        migration: {0.1}\n",
    "    )\"\"\", 0.00001),\n",
    "    (f\"AlmostInfinite(radius: {564}, sigma: {10.0})\", 0.00001),\n",
    "    (f\"\"\"SpatiallyExplicit(\n",
    "        habitat: \"{target_directory}/../maps/madingley/fg0size12/habitat.tif\",\n",
    "        dispersal: \"{target_directory}/../maps/madingley/fg0size12/dispersal.tif\"\n",
    "    )\"\"\", 0.00000001),\n",
    "]:\n",
    "    display(Markdown(f\"## {scenario[:scenario.find('(')]}:\"))\n",
    "    \n",
    "    for speciation, dispersal, name in [\n",
    "        (False, False, \"progress events only\"),\n",
    "        (True, False, \"progress \\+ speciation events\"),\n",
    "        (True, True, \"progress \\+ speciation \\+ dispersal events\")\n",
    "    ]:\n",
    "        registers, max_threads, local_bytes = simulate_registers_monolithic(\n",
    "            scenario, sample=sample, speciation=speciation, dispersal=dispersal\n",
    "        )\n",
    "        \n",
    "        assert local_bytes[0] == 0\n",
    "        assert local_bytes[1] == 0\n",
    "        \n",
    "        display(Markdown(f\"* {name}: {registers[0]}({max_threads[0]}) -> {registers[1]}({max_threads[1]})\"))"
   ]
  },
  {
   "cell_type": "code",
   "execution_count": null,
   "id": "152a1003",
   "metadata": {},
   "outputs": [],
   "source": []
  }
 ],
 "metadata": {
  "kernelspec": {
   "display_name": "Python 3",
   "language": "python",
   "name": "python3"
  },
  "language_info": {
   "codemirror_mode": {
    "name": "ipython",
    "version": 3
   },
   "file_extension": ".py",
   "mimetype": "text/x-python",
   "name": "python",
   "nbconvert_exporter": "python",
   "pygments_lexer": "ipython3",
   "version": "3.8.5"
  }
 },
 "nbformat": 4,
 "nbformat_minor": 5
}
