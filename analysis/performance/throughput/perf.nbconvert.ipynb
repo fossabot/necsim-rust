{
 "cells": [
  {
   "cell_type": "code",
   "execution_count": 1,
   "metadata": {
    "execution": {
     "iopub.execute_input": "2021-06-12T08:06:09.585918Z",
     "iopub.status.busy": "2021-06-12T08:06:09.585079Z",
     "iopub.status.idle": "2021-06-12T08:06:09.927133Z",
     "shell.execute_reply": "2021-06-12T08:06:09.927601Z"
    },
    "jupyter": {
     "source_hidden": true
    },
    "tags": []
   },
   "outputs": [],
   "source": [
    "import subprocess\n",
    "import shlex\n",
    "import json\n",
    "import re\n",
    "\n",
    "import numpy as np\n",
    "\n",
    "from pathlib import Path\n",
    "from IPython.display import display, Markdown"
   ]
  },
  {
   "cell_type": "code",
   "execution_count": 2,
   "metadata": {
    "execution": {
     "iopub.execute_input": "2021-06-12T08:06:09.931444Z",
     "iopub.status.busy": "2021-06-12T08:06:09.930900Z",
     "iopub.status.idle": "2021-06-12T08:06:09.933122Z",
     "shell.execute_reply": "2021-06-12T08:06:09.933545Z"
    },
    "jupyter": {
     "source_hidden": true
    }
   },
   "outputs": [],
   "source": [
    "CC_PATTERN = re.compile(r\"(?<!^)(?<![A-Z])(?=[A-Z])\")"
   ]
  },
  {
   "cell_type": "code",
   "execution_count": 3,
   "metadata": {
    "execution": {
     "iopub.execute_input": "2021-06-12T08:06:09.939965Z",
     "iopub.status.busy": "2021-06-12T08:06:09.937399Z",
     "iopub.status.idle": "2021-06-12T08:06:12.461648Z",
     "shell.execute_reply": "2021-06-12T08:06:12.462017Z"
    },
    "jupyter": {
     "source_hidden": true
    }
   },
   "outputs": [],
   "source": [
    "target_directory = json.loads(subprocess.run(\"cargo metadata --format-version 1\".split(), capture_output=True).stdout)[\"target_directory\"]"
   ]
  },
  {
   "cell_type": "code",
   "execution_count": 4,
   "metadata": {
    "execution": {
     "iopub.execute_input": "2021-06-12T08:06:12.466698Z",
     "iopub.status.busy": "2021-06-12T08:06:12.466215Z",
     "iopub.status.idle": "2021-06-12T08:06:12.468673Z",
     "shell.execute_reply": "2021-06-12T08:06:12.468147Z"
    },
    "jupyter": {
     "source_hidden": true
    },
    "tags": []
   },
   "outputs": [],
   "source": [
    "def simulate_cpu_reporting_dynamic(\n",
    "    algorithm, scenario, speciation=0.001, seed=42, sample=1.0, output=\"profile\",\n",
    "):\n",
    "    config = \"\".join(f\"\"\"\n",
    "    (\n",
    "        speciation: {speciation},\n",
    "        sample: {sample},\n",
    "        seed: {seed},\n",
    "\n",
    "        algorithm: {algorithm},\n",
    "\n",
    "        scenario: {scenario},\n",
    "\n",
    "        reporters: [\n",
    "            Plugin(\n",
    "                library: \"{target_directory}/release/deps/libnecsim_plugins_common.so\",\n",
    "                reporters: [Counter(), Execution()]\n",
    "            )\n",
    "        ],\n",
    "    )\n",
    "    \"\"\".split()).replace(\",)\", \")\").replace(\",]\", \"]\")\n",
    "    \n",
    "    # Profile the full simulation using perf, then filter the events and output for the Firefox Profiler\n",
    "    print(\n",
    "        f\"perf record -F {997} --call-graph dwarf -g {target_directory}/release/rustcoalescence simulate '{config}'\" +\n",
    "        f\" && perf script -F +pid > {output}.perf && sleep {5}\"\n",
    "    )"
   ]
  },
  {
   "cell_type": "code",
   "execution_count": 5,
   "metadata": {
    "execution": {
     "iopub.execute_input": "2021-06-12T08:06:12.474278Z",
     "iopub.status.busy": "2021-06-12T08:06:12.472352Z",
     "iopub.status.idle": "2021-06-12T08:06:15.290623Z",
     "shell.execute_reply": "2021-06-12T08:06:15.291003Z"
    },
    "jupyter": {
     "source_hidden": true
    },
    "tags": []
   },
   "outputs": [
    {
     "data": {
      "text/plain": [
       "CompletedProcess(args=['cargo', 'build', '--manifest-path', '/vol/bitbucket/ml5717/necsim-rust/target/../rustcoalescence/Cargo.toml', '--release', '--features', 'rustcoalescence-algorithms-monolithic,rustcoalescence-algorithms-independent,rustcoalescence-algorithms-cuda'], returncode=0, stdout='', stderr='    Finished release [optimized] target(s) in 2.55s\\n')"
      ]
     },
     "execution_count": 1,
     "metadata": {},
     "output_type": "execute_result"
    }
   ],
   "source": [
    "subprocess.run(shlex.split(\n",
    "    f\"cargo build --manifest-path {target_directory}/../rustcoalescence/Cargo.toml --release \"\n",
    "    + \"--features rustcoalescence-algorithms-monolithic,rustcoalescence-algorithms-independent,\"\n",
    "    + \"rustcoalescence-algorithms-cuda\"\n",
    "), check=True, capture_output=True, text=True);"
   ]
  },
  {
   "cell_type": "code",
   "execution_count": 6,
   "metadata": {
    "execution": {
     "iopub.execute_input": "2021-06-12T08:06:15.302056Z",
     "iopub.status.busy": "2021-06-12T08:06:15.300606Z",
     "iopub.status.idle": "2021-06-12T08:06:15.394612Z",
     "shell.execute_reply": "2021-06-12T08:06:15.394103Z"
    }
   },
   "outputs": [
    {
     "data": {
      "text/markdown": [
       "# RAM Information:"
      ],
      "text/plain": [
       "<IPython.core.display.Markdown object>"
      ]
     },
     "metadata": {},
     "output_type": "display_data"
    },
    {
     "data": {
      "text/markdown": [
       ">```\n",
       "              total        used        free      shared  buff/cache   available\n",
       ">Mem:       16319132      584424    15107060        2812      627648    15420552\n",
       ">Swap:       4194300      664288     3530012\n",
       ">```"
      ],
      "text/plain": [
       "<IPython.core.display.Markdown object>"
      ]
     },
     "metadata": {},
     "output_type": "display_data"
    },
    {
     "data": {
      "text/markdown": [
       "# CPU Information:"
      ],
      "text/plain": [
       "<IPython.core.display.Markdown object>"
      ]
     },
     "metadata": {},
     "output_type": "display_data"
    },
    {
     "data": {
      "text/markdown": [
       ">```\n",
       "Architecture:                    x86_64\n",
       ">CPU op-mode(s):                  32-bit, 64-bit\n",
       ">Byte Order:                      Little Endian\n",
       ">Address sizes:                   46 bits physical, 48 bits virtual\n",
       ">CPU(s):                          8\n",
       ">On-line CPU(s) list:             0-7\n",
       ">Thread(s) per core:              2\n",
       ">Core(s) per socket:              4\n",
       ">Socket(s):                       1\n",
       ">NUMA node(s):                    1\n",
       ">Vendor ID:                       GenuineIntel\n",
       ">CPU family:                      6\n",
       ">Model:                           62\n",
       ">Model name:                      Intel(R) Xeon(R) CPU E5-1620 v2 @ 3.70GHz\n",
       ">Stepping:                        4\n",
       ">CPU MHz:                         3600.179\n",
       ">CPU max MHz:                     3900.0000\n",
       ">CPU min MHz:                     1200.0000\n",
       ">BogoMIPS:                        7382.02\n",
       ">Virtualisation:                  VT-x\n",
       ">L1d cache:                       128 KiB\n",
       ">L1i cache:                       128 KiB\n",
       ">L2 cache:                        1 MiB\n",
       ">L3 cache:                        10 MiB\n",
       ">NUMA node0 CPU(s):               0-7\n",
       ">Vulnerability Itlb multihit:     KVM: Mitigation: VMX disabled\n",
       ">Vulnerability L1tf:              Mitigation; PTE Inversion; VMX conditional cache flushes, SMT vulnerable\n",
       ">Vulnerability Mds:               Mitigation; Clear CPU buffers; SMT vulnerable\n",
       ">Vulnerability Meltdown:          Mitigation; PTI\n",
       ">Vulnerability Spec store bypass: Mitigation; Speculative Store Bypass disabled via prctl and seccomp\n",
       ">Vulnerability Spectre v1:        Mitigation; usercopy/swapgs barriers and __user pointer sanitization\n",
       ">Vulnerability Spectre v2:        Mitigation; Full generic retpoline, IBPB conditional, IBRS_FW, STIBP conditional, RSB filling\n",
       ">Vulnerability Srbds:             Not affected\n",
       ">Vulnerability Tsx async abort:   Not affected\n",
       ">Flags:                           fpu vme de pse tsc msr pae mce cx8 apic sep mtrr pge mca cmov pat pse36 clflush dts acpi mmx fxsr sse sse2 ss ht tm pbe syscall nx pdpe1gb rdtscp lm constant_tsc arch_perfmon pebs bts rep_good nopl xtopology nonstop_tsc cpuid aperfmperf pni pclmulqdq dtes64 monitor ds_cpl vmx smx est tm2 ssse3 cx16 xtpr pdcm pcid dca sse4_1 sse4_2 x2apic popcnt tsc_deadline_timer aes xsave avx f16c rdrand lahf_lm cpuid_fault epb pti ssbd ibrs ibpb stibp tpr_shadow vnmi flexpriority ept vpid fsgsbase smep erms xsaveopt dtherm ida arat pln pts md_clear flush_l1d\n",
       ">```"
      ],
      "text/plain": [
       "<IPython.core.display.Markdown object>"
      ]
     },
     "metadata": {},
     "output_type": "display_data"
    },
    {
     "data": {
      "text/markdown": [
       "# GPU Information:"
      ],
      "text/plain": [
       "<IPython.core.display.Markdown object>"
      ]
     },
     "metadata": {},
     "output_type": "display_data"
    },
    {
     "data": {
      "text/markdown": [
       ">```\n",
       "Sat Jun 12 09:06:15 2021       \n",
       ">+-----------------------------------------------------------------------------+\n",
       ">| NVIDIA-SMI 460.80       Driver Version: 460.80       CUDA Version: 11.2     |\n",
       ">|-------------------------------+----------------------+----------------------+\n",
       ">| GPU  Name        Persistence-M| Bus-Id        Disp.A | Volatile Uncorr. ECC |\n",
       ">| Fan  Temp  Perf  Pwr:Usage/Cap|         Memory-Usage | GPU-Util  Compute M. |\n",
       ">|                               |                      |               MIG M. |\n",
       ">|===============================+======================+======================|\n",
       ">|   0  GeForce GTX 1080    Off  | 00000000:05:00.0 Off |                  N/A |\n",
       ">| 28%   36C    P8     6W / 180W |     84MiB /  8119MiB |      1%      Default |\n",
       ">|                               |                      |                  N/A |\n",
       ">+-------------------------------+----------------------+----------------------+\n",
       ">                                                                               \n",
       ">+-----------------------------------------------------------------------------+\n",
       ">| Processes:                                                                  |\n",
       ">|  GPU   GI   CI        PID   Type   Process name                  GPU Memory |\n",
       ">|        ID   ID                                                   Usage      |\n",
       ">|=============================================================================|\n",
       ">|    0   N/A  N/A      5240      G   /usr/lib/xorg/Xorg                 79MiB |\n",
       ">+-----------------------------------------------------------------------------+\n",
       ">```"
      ],
      "text/plain": [
       "<IPython.core.display.Markdown object>"
      ]
     },
     "metadata": {},
     "output_type": "display_data"
    }
   ],
   "source": [
    "display(Markdown(\"# RAM Information:\"))\n",
    "\n",
    "display(Markdown('>```\\n' + subprocess.run(\n",
    "    shlex.split(\"free\"), check=True, capture_output=True, text=True\n",
    ").stdout.replace('\\n', '\\n>') + '```'))\n",
    "\n",
    "display(Markdown(\"# CPU Information:\"))\n",
    "\n",
    "display(Markdown('>```\\n' + subprocess.run(\n",
    "    shlex.split(\"lscpu\"), check=True, capture_output=True, text=True\n",
    ").stdout.replace('\\n', '\\n>') + '```'))\n",
    "\n",
    "display(Markdown(\"# GPU Information:\"))\n",
    "\n",
    "display(Markdown('>```\\n' + subprocess.run(\n",
    "    shlex.split(\"nvidia-smi\"), check=True, capture_output=True, text=True\n",
    ").stdout.replace('\\n', '\\n>') + '```'))"
   ]
  },
  {
   "cell_type": "code",
   "execution_count": 7,
   "metadata": {
    "execution": {
     "iopub.execute_input": "2021-06-12T08:06:15.403625Z",
     "iopub.status.busy": "2021-06-12T08:06:15.403006Z",
     "iopub.status.idle": "2021-06-12T08:06:15.406702Z",
     "shell.execute_reply": "2021-06-12T08:06:15.407148Z"
    }
   },
   "outputs": [
    {
     "name": "stdout",
     "output_type": "stream",
     "text": [
      "perf record -F 997 --call-graph dwarf -g /vol/bitbucket/ml5717/necsim-rust/target/release/rustcoalescence simulate '(speciation:0.001,sample:1.0,seed:4541177398991462090,algorithm:Classical(),scenario:NonSpatial(area:(100,100),deme:100),reporters:[Plugin(library:\"/vol/bitbucket/ml5717/necsim-rust/target/release/deps/libnecsim_plugins_common.so\",reporters:[Counter(),Execution()])])' && perf script -F +pid > classical-non-spatial.perf && sleep 5\n",
      "perf record -F 997 --call-graph dwarf -g /vol/bitbucket/ml5717/necsim-rust/target/release/rustcoalescence simulate '(speciation:0.001,sample:1.0,seed:4541177398991462090,algorithm:Classical(),scenario:AlmostInfinite(radius:564,sigma:10.0),reporters:[Plugin(library:\"/vol/bitbucket/ml5717/necsim-rust/target/release/deps/libnecsim_plugins_common.so\",reporters:[Counter(),Execution()])])' && perf script -F +pid > classical-almost-infinite.perf && sleep 5\n",
      "perf record -F 997 --call-graph dwarf -g /vol/bitbucket/ml5717/necsim-rust/target/release/rustcoalescence simulate '(speciation:0.001,sample:2.5e-05,seed:4541177398991462090,algorithm:Classical(),scenario:SpatiallyExplicit(habitat:\"/vol/bitbucket/ml5717/necsim-rust/target/../maps/madingley/fg0size12/habitat.tif\",dispersal:\"/vol/bitbucket/ml5717/necsim-rust/target/../maps/madingley/fg0size12/dispersal.tif\"),reporters:[Plugin(library:\"/vol/bitbucket/ml5717/necsim-rust/target/release/deps/libnecsim_plugins_common.so\",reporters:[Counter(),Execution()])])' && perf script -F +pid > classical-spatially-explicit.perf && sleep 5\n",
      "perf record -F 997 --call-graph dwarf -g /vol/bitbucket/ml5717/necsim-rust/target/release/rustcoalescence simulate '(speciation:0.001,sample:1.0,seed:4541177398991462090,algorithm:Gillespie(),scenario:NonSpatial(area:(100,100),deme:100),reporters:[Plugin(library:\"/vol/bitbucket/ml5717/necsim-rust/target/release/deps/libnecsim_plugins_common.so\",reporters:[Counter(),Execution()])])' && perf script -F +pid > gillespie-non-spatial.perf && sleep 5\n",
      "perf record -F 997 --call-graph dwarf -g /vol/bitbucket/ml5717/necsim-rust/target/release/rustcoalescence simulate '(speciation:0.001,sample:1.0,seed:4541177398991462090,algorithm:Gillespie(),scenario:AlmostInfinite(radius:564,sigma:10.0),reporters:[Plugin(library:\"/vol/bitbucket/ml5717/necsim-rust/target/release/deps/libnecsim_plugins_common.so\",reporters:[Counter(),Execution()])])' && perf script -F +pid > gillespie-almost-infinite.perf && sleep 5\n",
      "perf record -F 997 --call-graph dwarf -g /vol/bitbucket/ml5717/necsim-rust/target/release/rustcoalescence simulate '(speciation:0.001,sample:2.5e-05,seed:4541177398991462090,algorithm:Gillespie(),scenario:SpatiallyExplicit(habitat:\"/vol/bitbucket/ml5717/necsim-rust/target/../maps/madingley/fg0size12/habitat.tif\",dispersal:\"/vol/bitbucket/ml5717/necsim-rust/target/../maps/madingley/fg0size12/dispersal.tif\"),reporters:[Plugin(library:\"/vol/bitbucket/ml5717/necsim-rust/target/release/deps/libnecsim_plugins_common.so\",reporters:[Counter(),Execution()])])' && perf script -F +pid > gillespie-spatially-explicit.perf && sleep 5\n",
      "perf record -F 997 --call-graph dwarf -g /vol/bitbucket/ml5717/necsim-rust/target/release/rustcoalescence simulate '(speciation:0.001,sample:1.0,seed:4541177398991462090,algorithm:SkippingGillespie(),scenario:NonSpatial(area:(100,100),deme:100),reporters:[Plugin(library:\"/vol/bitbucket/ml5717/necsim-rust/target/release/deps/libnecsim_plugins_common.so\",reporters:[Counter(),Execution()])])' && perf script -F +pid > skipping-gillespie-non-spatial.perf && sleep 5\n",
      "perf record -F 997 --call-graph dwarf -g /vol/bitbucket/ml5717/necsim-rust/target/release/rustcoalescence simulate '(speciation:0.001,sample:1.0,seed:4541177398991462090,algorithm:SkippingGillespie(),scenario:AlmostInfinite(radius:564,sigma:10.0),reporters:[Plugin(library:\"/vol/bitbucket/ml5717/necsim-rust/target/release/deps/libnecsim_plugins_common.so\",reporters:[Counter(),Execution()])])' && perf script -F +pid > skipping-gillespie-almost-infinite.perf && sleep 5\n",
      "perf record -F 997 --call-graph dwarf -g /vol/bitbucket/ml5717/necsim-rust/target/release/rustcoalescence simulate '(speciation:0.001,sample:2.5e-05,seed:4541177398991462090,algorithm:SkippingGillespie(),scenario:SpatiallyExplicit(habitat:\"/vol/bitbucket/ml5717/necsim-rust/target/../maps/madingley/fg0size12/habitat.tif\",dispersal:\"/vol/bitbucket/ml5717/necsim-rust/target/../maps/madingley/fg0size12/dispersal.tif\"),reporters:[Plugin(library:\"/vol/bitbucket/ml5717/necsim-rust/target/release/deps/libnecsim_plugins_common.so\",reporters:[Counter(),Execution()])])' && perf script -F +pid > skipping-gillespie-spatially-explicit.perf && sleep 5\n",
      "perf record -F 997 --call-graph dwarf -g /vol/bitbucket/ml5717/necsim-rust/target/release/rustcoalescence simulate '(speciation:0.001,sample:1.0,seed:4541177398991462090,algorithm:Independent(dedup_cache:Relative(factor:1.0),delta_t:2.0,parallelism_mode:Monolithic(event_slice:1000000)),scenario:NonSpatial(area:(100,100),deme:100),reporters:[Plugin(library:\"/vol/bitbucket/ml5717/necsim-rust/target/release/deps/libnecsim_plugins_common.so\",reporters:[Counter(),Execution()])])' && perf script -F +pid > independent-non-spatial.perf && sleep 5\n",
      "perf record -F 997 --call-graph dwarf -g /vol/bitbucket/ml5717/necsim-rust/target/release/rustcoalescence simulate '(speciation:0.001,sample:1.0,seed:4541177398991462090,algorithm:Independent(dedup_cache:Relative(factor:1.0),delta_t:2.0,parallelism_mode:Monolithic(event_slice:1000000)),scenario:AlmostInfinite(radius:564,sigma:10.0),reporters:[Plugin(library:\"/vol/bitbucket/ml5717/necsim-rust/target/release/deps/libnecsim_plugins_common.so\",reporters:[Counter(),Execution()])])' && perf script -F +pid > independent-almost-infinite.perf && sleep 5\n",
      "perf record -F 997 --call-graph dwarf -g /vol/bitbucket/ml5717/necsim-rust/target/release/rustcoalescence simulate '(speciation:0.001,sample:2.5e-05,seed:4541177398991462090,algorithm:Independent(dedup_cache:Relative(factor:1.0),delta_t:2.0,parallelism_mode:Monolithic(event_slice:1000000)),scenario:SpatiallyExplicit(habitat:\"/vol/bitbucket/ml5717/necsim-rust/target/../maps/madingley/fg0size12/habitat.tif\",dispersal:\"/vol/bitbucket/ml5717/necsim-rust/target/../maps/madingley/fg0size12/dispersal.tif\"),reporters:[Plugin(library:\"/vol/bitbucket/ml5717/necsim-rust/target/release/deps/libnecsim_plugins_common.so\",reporters:[Counter(),Execution()])])' && perf script -F +pid > independent-spatially-explicit.perf && sleep 5\n",
      "perf record -F 997 --call-graph dwarf -g /vol/bitbucket/ml5717/necsim-rust/target/release/rustcoalescence simulate '(speciation:0.001,sample:1.0,seed:4541177398991462090,algorithm:CUDA(ptx_jit:true,dedup_cache:Relative(factor:1.0),delta_t:2.0,parallelism_mode:Monolithic(event_slice:1000000)),scenario:NonSpatial(area:(100,100),deme:100),reporters:[Plugin(library:\"/vol/bitbucket/ml5717/necsim-rust/target/release/deps/libnecsim_plugins_common.so\",reporters:[Counter(),Execution()])])' && perf script -F +pid > cuda-non-spatial.perf && sleep 5\n",
      "perf record -F 997 --call-graph dwarf -g /vol/bitbucket/ml5717/necsim-rust/target/release/rustcoalescence simulate '(speciation:0.001,sample:1.0,seed:4541177398991462090,algorithm:CUDA(ptx_jit:true,dedup_cache:Relative(factor:1.0),delta_t:2.0,parallelism_mode:Monolithic(event_slice:1000000)),scenario:AlmostInfinite(radius:564,sigma:10.0),reporters:[Plugin(library:\"/vol/bitbucket/ml5717/necsim-rust/target/release/deps/libnecsim_plugins_common.so\",reporters:[Counter(),Execution()])])' && perf script -F +pid > cuda-almost-infinite.perf && sleep 5\n",
      "perf record -F 997 --call-graph dwarf -g /vol/bitbucket/ml5717/necsim-rust/target/release/rustcoalescence simulate '(speciation:0.001,sample:2.5e-05,seed:4541177398991462090,algorithm:CUDA(ptx_jit:true,dedup_cache:Relative(factor:1.0),delta_t:2.0,parallelism_mode:Monolithic(event_slice:1000000)),scenario:SpatiallyExplicit(habitat:\"/vol/bitbucket/ml5717/necsim-rust/target/../maps/madingley/fg0size12/habitat.tif\",dispersal:\"/vol/bitbucket/ml5717/necsim-rust/target/../maps/madingley/fg0size12/dispersal.tif\"),reporters:[Plugin(library:\"/vol/bitbucket/ml5717/necsim-rust/target/release/deps/libnecsim_plugins_common.so\",reporters:[Counter(),Execution()])])' && perf script -F +pid > cuda-spatially-explicit.perf && sleep 5\n"
     ]
    }
   ],
   "source": [
    "seed = np.random.randint(0, np.iinfo(\"uint64\").max, dtype=\"uint64\")\n",
    "\n",
    "for algorithm in [\n",
    "    \"Classical()\", \"Gillespie()\", \"SkippingGillespie()\",\n",
    "    f\"\"\"Independent(\n",
    "        dedup_cache: Relative(factor: {1.0}),\n",
    "        delta_t: {2.0},\n",
    "        parallelism_mode: Monolithic(event_slice: {100*100*100})\n",
    "    )\"\"\",\n",
    "    f\"\"\"CUDA(\n",
    "        ptx_jit: true,\n",
    "        dedup_cache: Relative(factor: {1.0}),\n",
    "        delta_t: {2.0},\n",
    "        parallelism_mode: Monolithic(event_slice: {100*100*100})\n",
    "    )\"\"\"\n",
    "]:\n",
    "    for scenario, sample in [\n",
    "        (f\"NonSpatial(area: ({100}, {100}), deme: {100})\", 1.0),\n",
    "        (f\"AlmostInfinite(radius: {564}, sigma: {10.0})\", 1.0),\n",
    "        (f\"\"\"SpatiallyExplicit(\n",
    "            habitat: \"{target_directory}/../maps/madingley/fg0size12/habitat.tif\",\n",
    "            dispersal: \"{target_directory}/../maps/madingley/fg0size12/dispersal.tif\"\n",
    "        )\"\"\", 0.000025),\n",
    "    ]:\n",
    "        simulate_cpu_reporting_dynamic(\n",
    "            algorithm, scenario, speciation=0.001, sample=sample, seed=seed,\n",
    "            output=(\n",
    "                CC_PATTERN.sub('-', algorithm[:algorithm.find('(')]).lower() + \"-\" +\n",
    "                CC_PATTERN.sub('-', scenario[:scenario.find('(')]).lower()\n",
    "            ),\n",
    "        )"
   ]
  },
  {
   "cell_type": "code",
   "execution_count": null,
   "metadata": {},
   "outputs": [],
   "source": []
  }
 ],
 "metadata": {
  "kernelspec": {
   "display_name": "Python 3",
   "language": "python",
   "name": "python3"
  },
  "language_info": {
   "codemirror_mode": {
    "name": "ipython",
    "version": 3
   },
   "file_extension": ".py",
   "mimetype": "text/x-python",
   "name": "python",
   "nbconvert_exporter": "python",
   "pygments_lexer": "ipython3",
   "version": "3.8.5"
  }
 },
 "nbformat": 4,
 "nbformat_minor": 5
}
