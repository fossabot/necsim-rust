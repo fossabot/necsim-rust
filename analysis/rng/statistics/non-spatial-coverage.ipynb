{
 "cells": [
  {
   "cell_type": "code",
   "execution_count": null,
   "id": "00f4963d-b558-433d-b632-7cc823f24069",
   "metadata": {
    "jupyter": {
     "source_hidden": true
    },
    "tags": []
   },
   "outputs": [],
   "source": [
    "import csv\n",
    "import subprocess\n",
    "import shlex\n",
    "import json\n",
    "\n",
    "import numpy as np\n",
    "\n",
    "from io import StringIO\n",
    "from matplotlib import pyplot as plt\n",
    "from scipy.stats import chisquare, kstest, norm, combine_pvalues\n",
    "from IPython.display import display, Markdown\n",
    "from tqdm import tqdm"
   ]
  },
  {
   "cell_type": "code",
   "execution_count": null,
   "id": "1c8f1418-4bed-484e-8771-f8a15215e96b",
   "metadata": {
    "jupyter": {
     "source_hidden": true
    },
    "tags": []
   },
   "outputs": [],
   "source": [
    "import matplotlib as mpl\n",
    "mpl.rcParams['figure.dpi'] = 400\n",
    "\n",
    "def show():\n",
    "    plt.savefig(f\"non-spatial-coverage.{show.fig_counter}.pdf\", dpi='figure', transparent=True, bbox_inches='tight')\n",
    "    show.fig_counter += 1\n",
    "    show.plt_show()\n",
    "\n",
    "show.fig_counter = 0\n",
    "show.plt_show = plt.show\n",
    "\n",
    "plt.show = show"
   ]
  },
  {
   "cell_type": "code",
   "execution_count": null,
   "id": "25047ac2-a488-4311-a490-5e8048f81e56",
   "metadata": {
    "jupyter": {
     "source_hidden": true
    },
    "tags": []
   },
   "outputs": [],
   "source": [
    "target_directory = json.loads(subprocess.run(\"cargo metadata --format-version 1\".split(), capture_output=True).stdout)[\"target_directory\"]"
   ]
  },
  {
   "cell_type": "markdown",
   "id": "4c9efa6a-2c02-4708-8c25-06f6e8fae21d",
   "metadata": {},
   "source": [
    "# Non-spatial Dispersal Coverage Test"
   ]
  },
  {
   "cell_type": "code",
   "execution_count": null,
   "id": "a4177cce-66a0-403d-90ab-9a1dbc20b49d",
   "metadata": {
    "jupyter": {
     "source_hidden": true
    },
    "tags": []
   },
   "outputs": [],
   "source": [
    "def test_nonspatial_dispersal_coverage(\n",
    "    algorithm, speciation=0.001, seeds=[42], size=100, sample=1.0\n",
    "):\n",
    "    total_pvalues = []\n",
    "    total_locations = []\n",
    "    \n",
    "    for seed in tqdm(seeds):\n",
    "        # Configure the simulation\n",
    "        config = \"\".join(\"\"\"\n",
    "        (\n",
    "            speciation: {speciation},\n",
    "            seed: {seed},\n",
    "            sample: {sample},\n",
    "\n",
    "            algorithm: {algorithm}(),\n",
    "\n",
    "            scenario: NonSpatial(\n",
    "                area: ({size}, {size}),\n",
    "                deme: {size},\n",
    "            ),\n",
    "\n",
    "            reporters: [\n",
    "                Plugin(\n",
    "                    library: \"{target_directory}/release/deps/libnecsim_plugins_statistics.so\",\n",
    "                    reporters: [\n",
    "                        GlobalCoverage(output: \"{output_file}\"),\n",
    "                    ],\n",
    "                ),\n",
    "            ],\n",
    "        )\n",
    "        \"\"\".format(\n",
    "            target_directory=target_directory, output_file=\"/dev/fd/2\",\n",
    "            algorithm=algorithm, speciation=speciation, seed=seed, sample=sample, size=size,\n",
    "        ).split()).replace(\",)\", \")\").replace(\",]\", \"]\")\n",
    "\n",
    "        # Run the simulation\n",
    "        locations_io = StringIO(subprocess.run(shlex.split(\n",
    "            \"cargo run --release --features rustcoalescence-algorithms-monolithic,\"\n",
    "            + f\"rustcoalescence-algorithms-independent --quiet -- simulate '{config}'\"\n",
    "        ), check=True, capture_output=True, text=True).stderr)\n",
    "\n",
    "        # Read in the dispersal locations\n",
    "        locations = []\n",
    "        with locations_io:\n",
    "            reader = csv.reader(locations_io)\n",
    "            next(reader)\n",
    "\n",
    "            for row in reader:\n",
    "                locations.append((int(row[3]), int(row[4]), int(row[5])))\n",
    "        locations = np.array(locations)\n",
    "\n",
    "        # Calculate the goodness of fit of the dispersal coverage\n",
    "        gof = chisquare(np.histogramdd(locations, bins=(\n",
    "            range(0, size+1), range(0, size+1), range(0, size+1)\n",
    "        ))[0].flatten())\n",
    "        \n",
    "        total_pvalues.append(gof.pvalue)\n",
    "        total_locations.append(locations)\n",
    "    \n",
    "    gof_statistic, gof_pvalue = combine_pvalues(total_pvalues)\n",
    "    \n",
    "    if gof_pvalue <= 0.01 or gof_pvalue >= 0.99:\n",
    "        display(Markdown(f\"## <span style='color:purple'><u>{algorithm}</u></span>\"))\n",
    "    elif gof_pvalue <= 0.05 or gof_pvalue >= 0.95:\n",
    "        display(Markdown(f\"## <span style='color:red'><u>{algorithm}</u></span>\"))\n",
    "    elif gof_pvalue <= 0.1 or gof_pvalue >= 0.9:\n",
    "        display(Markdown(f\"## <span style='color:orange'>*{algorithm}*</span>\"))\n",
    "    else:\n",
    "        display(Markdown(f\"## <span style='color:green'>{algorithm}</span>\"))\n",
    "    \n",
    "    display(Markdown(\"#### Fisher’s combined Chi-squared test:\"))\n",
    "    display(Markdown(f\"* p-value: {gof_pvalue}\\n* statistic: {gof_statistic}\"))\n",
    "    \n",
    "    plt.title(\"Distribution of p-values\")\n",
    "    plt.xlabel(\"p\")\n",
    "    plt.ylabel(\"pdf\")\n",
    "    plt.hist(total_pvalues, density=True)\n",
    "    plt.show()\n",
    "    \n",
    "    display(Markdown(\"#### Dispersal Histograms:\"))\n",
    "    \n",
    "    locations = np.concatenate(total_locations)\n",
    "    \n",
    "    # Draw the 1d and 2d dispersal coverage histograms\n",
    "    fig, ((ax1, ax2, ax3), (ax4, ax5, ax6)) = plt.subplots(2, 3, figsize=(20, 10))\n",
    "    \n",
    "    ax1.set_title(\"Dispersal histogram x\")\n",
    "    ax1.set_xlabel(\"x\")\n",
    "    ax1.set_ylabel(\"pmf\")\n",
    "    ax1.hist(locations[:,0], bins=range(0, size+1), density=True)\n",
    "    \n",
    "    ax2.set_title(\"Dispersal histogram y\")\n",
    "    ax2.set_xlabel(\"y\")\n",
    "    ax2.set_ylabel(\"pmf\")\n",
    "    ax2.hist(locations[:,1], bins=range(0, size+1), density=True)\n",
    "    \n",
    "    ax3.set_title(\"Dispersal histogram index\")\n",
    "    ax3.set_xlabel(\"index\")\n",
    "    ax3.set_ylabel(\"pmf\")\n",
    "    ax3.hist(locations[:,2], bins=range(0, size+1), density=True)\n",
    "\n",
    "    ax4.set_title(\"Dispersal histogram x-y\")\n",
    "    ax4.set_xlabel(\"x\")\n",
    "    ax4.set_ylabel(\"y\")\n",
    "    hist1 = ax4.hist2d(locations[:,0], locations[:,1],\n",
    "                       bins=(range(0, size+1), range(0, size+1)),\n",
    "                       density=True)\n",
    "    fig.colorbar(hist1[3], ax=ax4)\n",
    "\n",
    "    ax5.set_title(\"Dispersal histogram x-index\")\n",
    "    ax5.set_xlabel(\"x\")\n",
    "    ax5.set_ylabel(\"index\")\n",
    "    hist2 = ax5.hist2d(locations[:,0], locations[:,2],\n",
    "                       bins=(range(0, size+1), range(0, size+1)),\n",
    "                       density=True)\n",
    "    fig.colorbar(hist2[3], ax=ax5)\n",
    "\n",
    "    ax6.set_title(\"Dispersal histogram y-index\")\n",
    "    ax6.set_xlabel(\"y\")\n",
    "    ax6.set_ylabel(\"index\")\n",
    "    hist3 = ax6.hist2d(locations[:,1], locations[:,2],\n",
    "                       bins=(range(0, size+1), range(0, size+1)),\n",
    "                       density=True)\n",
    "    fig.colorbar(hist3[3], ax=ax6)\n",
    "\n",
    "    plt.show()\n",
    "    \n",
    "    display(Markdown(f\"#### Parameters:\\n* seeds: {seeds}\"))\n",
    "    \n",
    "    display(Markdown(f\"#### Configuration:\\n```rust\\n{config}\\n```\"))"
   ]
  },
  {
   "cell_type": "code",
   "execution_count": null,
   "id": "d5446e65-892d-4243-8651-30f159bbbaef",
   "metadata": {
    "tags": []
   },
   "outputs": [],
   "source": [
    "for algorithm in [\"Classical\", \"Gillespie\", \"SkippingGillespie\", \"Independent\"]:\n",
    "    seeds = np.random.randint(0, np.iinfo(\"uint64\").max, dtype=\"uint64\", size=1000)\n",
    "    \n",
    "    test_nonspatial_dispersal_coverage(\n",
    "        algorithm, size=25, seeds=seeds, sample=0.01, speciation=0.0001\n",
    "    )"
   ]
  },
  {
   "cell_type": "code",
   "execution_count": null,
   "id": "affadc09-30d0-4a2f-9b99-96c243a315b7",
   "metadata": {},
   "outputs": [],
   "source": []
  }
 ],
 "metadata": {
  "kernelspec": {
   "display_name": "Python 3",
   "language": "python",
   "name": "python3"
  },
  "language_info": {
   "codemirror_mode": {
    "name": "ipython",
    "version": 3
   },
   "file_extension": ".py",
   "mimetype": "text/x-python",
   "name": "python",
   "nbconvert_exporter": "python",
   "pygments_lexer": "ipython3",
   "version": "3.7.5"
  }
 },
 "nbformat": 4,
 "nbformat_minor": 5
}
