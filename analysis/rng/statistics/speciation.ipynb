{
 "cells": [
  {
   "cell_type": "code",
   "execution_count": null,
   "id": "c62ab6ab-872b-4c56-8f95-e44eb4207022",
   "metadata": {
    "jupyter": {
     "source_hidden": true
    },
    "tags": []
   },
   "outputs": [],
   "source": [
    "import csv\n",
    "import subprocess\n",
    "import shlex\n",
    "import json\n",
    "\n",
    "import numpy as np\n",
    "\n",
    "from io import StringIO\n",
    "from matplotlib import pyplot as plt\n",
    "from scipy.stats import kstest, expon, combine_pvalues\n",
    "from IPython.display import display, Markdown\n",
    "from tqdm import tqdm"
   ]
  },
  {
   "cell_type": "code",
   "execution_count": null,
   "id": "3dc5b735-85a0-4690-9ed8-aacfa92027d1",
   "metadata": {
    "jupyter": {
     "source_hidden": true
    },
    "tags": []
   },
   "outputs": [],
   "source": [
    "import matplotlib as mpl\n",
    "mpl.rcParams['figure.dpi'] = 400\n",
    "\n",
    "def show():\n",
    "    plt.savefig(f\"speciation.{show.fig_counter}.pdf\", dpi='figure', transparent=True, bbox_inches='tight')\n",
    "    show.fig_counter += 1\n",
    "    show.plt_show()\n",
    "\n",
    "show.fig_counter = 0\n",
    "show.plt_show = plt.show\n",
    "\n",
    "plt.show = show"
   ]
  },
  {
   "cell_type": "code",
   "execution_count": null,
   "id": "03b376eb-ac9d-47e2-98bd-d7485048283d",
   "metadata": {
    "jupyter": {
     "source_hidden": true
    },
    "tags": []
   },
   "outputs": [],
   "source": [
    "target_directory = json.loads(subprocess.run(\"cargo metadata --format-version 1\".split(), capture_output=True).stdout)[\"target_directory\"]"
   ]
  },
  {
   "cell_type": "markdown",
   "id": "626b6485-b44d-4c13-81c1-9386da659edb",
   "metadata": {},
   "source": [
    "# Speciation Time Test"
   ]
  },
  {
   "cell_type": "code",
   "execution_count": null,
   "id": "af4c456f-9e5e-4ebf-bf29-1fb850977a0c",
   "metadata": {
    "jupyter": {
     "source_hidden": true
    },
    "tags": []
   },
   "outputs": [],
   "source": [
    "def test_speciation_time(\n",
    "    algorithm, speciation=0.001, seeds=[42], radius=25, sample=1.0\n",
    "):\n",
    "    total_pvalues = []\n",
    "    total_speciations = []\n",
    "    \n",
    "    for seed in tqdm(seeds):\n",
    "        # Configure the simulation\n",
    "        # (tested on almost infinite with sigma 0 to avoid bias from coalescence)\n",
    "        config = \"\".join(\"\"\"\n",
    "        (\n",
    "            speciation: {speciation},\n",
    "            seed: {seed},\n",
    "            sample: {sample},\n",
    "\n",
    "            algorithm: {algorithm}(),\n",
    "\n",
    "            scenario: AlmostInfinite(\n",
    "                radius: {radius},\n",
    "                sigma: 0.0,\n",
    "            ),\n",
    "\n",
    "            reporters: [\n",
    "                Plugin(\n",
    "                    library: \"{target_directory}/release/deps/libnecsim_plugins_statistics.so\",\n",
    "                    reporters: [\n",
    "                        GlobalSpeciation(output: \"{output_file}\"),\n",
    "                    ],\n",
    "                ),\n",
    "            ],\n",
    "        )\n",
    "        \"\"\".format(\n",
    "            target_directory=target_directory, output_file=\"/dev/fd/2\",\n",
    "            algorithm=algorithm, speciation=speciation, seed=seed, sample=sample, radius=radius,\n",
    "        ).split()).replace(\",)\", \")\").replace(\",]\", \"]\")\n",
    "\n",
    "        # Run the simulation\n",
    "        speciations_io = StringIO(subprocess.run(shlex.split(\n",
    "            \"cargo run --release --features rustcoalescence-algorithms-monolithic,\"\n",
    "            + f\"rustcoalescence-algorithms-independent --quiet -- simulate '{config}'\"\n",
    "        ), check=True, capture_output=True, text=True).stderr)\n",
    "\n",
    "        # Read in the speciation times\n",
    "        speciations = []\n",
    "        with speciations_io:\n",
    "            reader = csv.reader(speciations_io)\n",
    "            next(reader)\n",
    "\n",
    "            for row in reader:\n",
    "                speciations.append(float(row[0]))\n",
    "        speciations = np.array(speciations)\n",
    "\n",
    "        # Calculate in the dispersal locations\n",
    "        gof = kstest(speciations, expon(loc=0.0, scale=2.0/speciation).cdf)\n",
    "        \n",
    "        total_pvalues.append(gof.pvalue)\n",
    "        total_speciations.append(speciations)\n",
    "    \n",
    "    gof_statistic, gof_pvalue = combine_pvalues(total_pvalues)\n",
    "    \n",
    "    if gof_pvalue <= 0.01 or gof_pvalue >= 0.99:\n",
    "        display(Markdown(f\"## <span style='color:purple'><u>{algorithm}</u></span>\"))\n",
    "    elif gof_pvalue <= 0.05 or gof_pvalue >= 0.95:\n",
    "        display(Markdown(f\"## <span style='color:red'><u>{algorithm}</u></span>\"))\n",
    "    elif gof_pvalue <= 0.1 or gof_pvalue >= 0.9:\n",
    "        display(Markdown(f\"## <span style='color:orange'>*{algorithm}*</span>\"))\n",
    "    else:\n",
    "        display(Markdown(f\"## <span style='color:green'>{algorithm}</span>\"))\n",
    "    \n",
    "    display(Markdown(\"#### Fisher’s combined KS test:\"))\n",
    "    display(Markdown(f\"\\n* p-value: {gof_pvalue}\\n* statistic: {gof_statistic}\"))\n",
    "    \n",
    "    plt.title(\"Distribution of p-values\")\n",
    "    plt.xlabel(\"p\")\n",
    "    plt.ylabel(\"pdf\")\n",
    "    plt.hist(total_pvalues, density=True)\n",
    "    plt.show()\n",
    "    \n",
    "    display(Markdown(\"#### Speciation histograms:\"))\n",
    "    \n",
    "    speciations = np.concatenate(total_speciations)\n",
    "    \n",
    "    # Draw the speciation time histograms\n",
    "    fig, (ax1, ax2) = plt.subplots(1, 2, figsize=(15, 5))\n",
    "    \n",
    "    x = np.linspace(np.min(speciations), np.max(speciations), 1000)\n",
    "    loc, scale = expon.fit(speciations)\n",
    "    \n",
    "    ax1.set_title(f\"Individual speciation times PDF\")\n",
    "    ax1.set_xlabel(\"speciation time\")\n",
    "    ax1.set_ylabel(\"pdf\")\n",
    "    ax1.plot(x, expon.pdf(x, 0.0, 2.0/speciation), color='red', linewidth=2, alpha=0.5, label=f\"expected: loc=0.0 lambda={speciation * 0.5}\")\n",
    "    ax1.hist(speciations, bins = 1000, density=True, label=f\"observed: loc≈{round(loc, 3)} lambda≈{round(1.0/scale, 3)}\")\n",
    "    ax1.legend()\n",
    "    \n",
    "    ax2.set_title(f\"Individual speciation times CDF\")\n",
    "    ax2.set_xlabel(\"speciation time\")\n",
    "    ax2.set_ylabel(\"cdf\")\n",
    "    ax2.plot(x, expon.cdf(x, 0.0, 2.0/speciation), color='red', linewidth=2, alpha=0.5, label=f\"expected: loc=0.0 lambda={speciation * 0.5}\")\n",
    "    ax2.hist(speciations, bins = 1000, density=True, cumulative=True, label=f\"observed: loc≈{round(loc, 3)} lambda≈{round(1.0/scale, 3)}\")\n",
    "    ax2.legend()\n",
    "\n",
    "    plt.show()\n",
    "    \n",
    "    display(Markdown(f\"#### Parameters:\\n* seeds: {seeds}\"))\n",
    "    \n",
    "    display(Markdown(f\"#### Configuration:\\n```rust\\n{config}\\n```\"))"
   ]
  },
  {
   "cell_type": "code",
   "execution_count": null,
   "id": "5278352e-0726-4f32-8762-f1a30a41b590",
   "metadata": {},
   "outputs": [],
   "source": [
    "for algorithm in [\"Classical\", \"Gillespie\", \"SkippingGillespie\", \"Independent\"]:\n",
    "    seeds = np.random.randint(0, np.iinfo(\"uint64\").max, dtype=\"uint64\", size=1000)\n",
    "    \n",
    "    test_speciation_time(algorithm, speciation=0.01, seeds=seeds, radius=500, sample=0.001)"
   ]
  },
  {
   "cell_type": "code",
   "execution_count": null,
   "id": "392c33d1-feaa-4298-a48e-8570d1002ae9",
   "metadata": {},
   "outputs": [],
   "source": []
  }
 ],
 "metadata": {
  "kernelspec": {
   "display_name": "Python 3",
   "language": "python",
   "name": "python3"
  },
  "language_info": {
   "codemirror_mode": {
    "name": "ipython",
    "version": 3
   },
   "file_extension": ".py",
   "mimetype": "text/x-python",
   "name": "python",
   "nbconvert_exporter": "python",
   "pygments_lexer": "ipython3",
   "version": "3.7.5"
  }
 },
 "nbformat": 4,
 "nbformat_minor": 5
}
