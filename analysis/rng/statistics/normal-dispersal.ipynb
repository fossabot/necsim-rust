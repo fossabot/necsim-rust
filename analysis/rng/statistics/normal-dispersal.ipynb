{
 "cells": [
  {
   "cell_type": "code",
   "execution_count": null,
   "id": "00f4963d-b558-433d-b632-7cc823f24069",
   "metadata": {
    "jupyter": {
     "source_hidden": true
    },
    "tags": []
   },
   "outputs": [],
   "source": [
    "import csv\n",
    "import subprocess\n",
    "import shlex\n",
    "import json\n",
    "\n",
    "import numpy as np\n",
    "\n",
    "from io import StringIO\n",
    "from matplotlib import pyplot as plt\n",
    "from scipy.stats import chisquare, norm, combine_pvalues\n",
    "from IPython.display import display, Markdown\n",
    "from tqdm import tqdm"
   ]
  },
  {
   "cell_type": "code",
   "execution_count": null,
   "id": "19c07a09-befc-4d57-9880-668015703d60",
   "metadata": {
    "jupyter": {
     "source_hidden": true
    },
    "tags": []
   },
   "outputs": [],
   "source": [
    "import matplotlib as mpl\n",
    "mpl.rcParams['figure.dpi'] = 400\n",
    "\n",
    "def show():\n",
    "    plt.savefig(f\"normal-dispersal.{show.fig_counter}.pdf\", dpi='figure', transparent=True, bbox_inches='tight')\n",
    "    show.fig_counter += 1\n",
    "    show.plt_show()\n",
    "\n",
    "show.fig_counter = 0\n",
    "show.plt_show = plt.show\n",
    "\n",
    "plt.show = show"
   ]
  },
  {
   "cell_type": "code",
   "execution_count": null,
   "id": "25047ac2-a488-4311-a490-5e8048f81e56",
   "metadata": {
    "jupyter": {
     "source_hidden": true
    },
    "tags": []
   },
   "outputs": [],
   "source": [
    "target_directory = json.loads(subprocess.run(\"cargo metadata --format-version 1\".split(), capture_output=True).stdout)[\"target_directory\"]"
   ]
  },
  {
   "cell_type": "markdown",
   "id": "7b00decf-97a4-461b-95ac-e64e176ca5c4",
   "metadata": {},
   "source": [
    "# Normal Dispersal Kernel Test"
   ]
  },
  {
   "cell_type": "code",
   "execution_count": null,
   "id": "d5f23a77-7fce-4b62-b96b-7b509dddc34d",
   "metadata": {
    "jupyter": {
     "source_hidden": true
    },
    "tags": []
   },
   "outputs": [],
   "source": [
    "def test_normal_dispersal_kernel(\n",
    "    algorithm, speciation=0.001, seeds=[42], sample=1.0, radius=0, sigma=100.0,\n",
    "):\n",
    "    total_pvalues_x = []\n",
    "    total_pvalues_y = []\n",
    "    total_location_deltas = []\n",
    "    \n",
    "    sigma_3 = int(3*sigma)\n",
    "    step = int(max(sigma_3*2 / 100, 1))\n",
    "    \n",
    "    cdf = norm(loc=0.0, scale=sigma).cdf\n",
    "    \n",
    "    expected_freq = np.array([cdf(np.round(x) + step - 0.5) - cdf(np.round(x) - 0.5) for x in range(-sigma_3, sigma_3+1, step)])\n",
    "    \n",
    "    for seed in seeds:\n",
    "        # Configure the simulation\n",
    "        config = \"\".join(\"\"\"\n",
    "        (\n",
    "            speciation: {speciation},\n",
    "            seed: {seed},\n",
    "            sample: {sample},\n",
    "\n",
    "            algorithm: {algorithm}(),\n",
    "\n",
    "            scenario: AlmostInfinite(\n",
    "                radius: {radius},\n",
    "                sigma: {sigma},\n",
    "            ),\n",
    "\n",
    "            reporters: [\n",
    "                Plugin(\n",
    "                    library: \"{target_directory}/release/deps/libnecsim_plugins_statistics.so\",\n",
    "                    reporters: [\n",
    "                        GlobalCoverage(output: \"{output_file}\"),\n",
    "                    ],\n",
    "                ),\n",
    "            ],\n",
    "        )\n",
    "        \"\"\".format(\n",
    "            target_directory=target_directory, output_file=\"/dev/fd/2\",\n",
    "            algorithm=algorithm, speciation=speciation, seed=seed, sample=sample,\n",
    "            radius=radius, sigma=sigma,\n",
    "        ).split()).replace(\",)\", \")\").replace(\",]\", \"]\")\n",
    "\n",
    "        # Run the simulation\n",
    "        locations_io = StringIO(subprocess.run(shlex.split(\n",
    "            \"cargo run --release --features rustcoalescence-algorithms-monolithic,\"\n",
    "            + f\"rustcoalescence-algorithms-independent --quiet -- simulate '{config}'\"\n",
    "        ), check=True, capture_output=True, text=True).stderr)\n",
    "\n",
    "        # Read in the dispersal locations\n",
    "        location_deltas = []\n",
    "        with locations_io:\n",
    "            reader = csv.reader(locations_io)\n",
    "            next(reader)\n",
    "\n",
    "            for row in reader:\n",
    "                location_deltas.append((int(row[3]) - int(row[0]), int(row[4]) - int(row[1])))\n",
    "        location_deltas = np.array(location_deltas)\n",
    "\n",
    "        hist_x = np.histogram(location_deltas[:,0], bins=[x - 0.5 for x in range(-sigma_3, sigma_3+1+step, step)])[0]\n",
    "        hist_y = np.histogram(location_deltas[:,1], bins=[x - 0.5 for x in range(-sigma_3, sigma_3+1+step, step)])[0]\n",
    "        \n",
    "        # Calculate the goodness of fit of the dispersal kernel\n",
    "        gof_x = chisquare(hist_x, expected_freq * len(location_deltas))\n",
    "        gof_y = chisquare(hist_y, expected_freq * len(location_deltas))\n",
    "        \n",
    "        total_pvalues_x.append(gof_x.pvalue)\n",
    "        total_pvalues_y.append(gof_y.pvalue)\n",
    "        total_location_deltas.append(location_deltas)\n",
    "    \n",
    "    gof_x_statistic, gof_x_pvalue = combine_pvalues(total_pvalues_x)\n",
    "    gof_y_statistic, gof_y_pvalue = combine_pvalues(total_pvalues_y)\n",
    "    \n",
    "    if gof_x_pvalue <= 0.01 or gof_x_pvalue >= 0.99 or gof_y_pvalue <= 0.01 or gof_y_pvalue >= 0.99:\n",
    "        display(Markdown(f\"## <span style='color:purple'><u>{algorithm}</u></span>\"))\n",
    "    elif gof_x_pvalue <= 0.05 or gof_x_pvalue >= 0.95 or gof_y_pvalue <= 0.05 or gof_y_pvalue >= 0.95:\n",
    "        display(Markdown(f\"## <span style='color:red'><u>{algorithm}</u></span>\"))\n",
    "    elif gof_x_pvalue <= 0.1 or gof_x_pvalue >= 0.9 or gof_y_pvalue <= 0.1 or gof_y_pvalue >= 0.9:\n",
    "        display(Markdown(f\"## <span style='color:orange'>*{algorithm}*</span>\"))\n",
    "    else:\n",
    "        display(Markdown(f\"## <span style='color:green'>{algorithm}</span>\"))\n",
    "        \n",
    "    display(Markdown(\"#### Fisher’s combined Chi-squared test:\"))\n",
    "    display(Markdown(f\"* x-axis p-value: {gof_x_pvalue}\\n* x-axis statistic: {gof_x_statistic}\"))\n",
    "    display(Markdown(f\"* y-axis p-value: {gof_y_pvalue}\\n* y-axis statistic: {gof_y_statistic}\"))\n",
    "    \n",
    "    fig, (ax1, ax2) = plt.subplots(1, 2)\n",
    "    ax1.set_title(\"Distribution of x-axis p-values\")\n",
    "    ax1.set_xlabel(\"p\")\n",
    "    ax1.set_ylabel(\"pdf\")\n",
    "    ax1.hist(total_pvalues_x, density=True)\n",
    "    ax2.set_title(\"Distribution of y-axis p-values\")\n",
    "    ax2.set_xlabel(\"p\")\n",
    "    ax2.set_ylabel(\"pdf\")\n",
    "    ax2.hist(total_pvalues_y, density=True)\n",
    "    plt.show()\n",
    "    \n",
    "    display(Markdown(\"#### Dispersal Histograms:\"))\n",
    "    \n",
    "    location_deltas = np.concatenate(total_location_deltas)\n",
    "    \n",
    "    fig, (ax1, ax2, ax3) = plt.subplots(1, 3, figsize=(20, 5))\n",
    "    \n",
    "    ax1.set_title(\"Per-generation relative dispersal\")\n",
    "    ax1.set_xlabel(\"x\")\n",
    "    ax1.set_ylabel(\"y\")\n",
    "    hist1 = ax1.hist2d(location_deltas[:,0], location_deltas[:,1], bins=(range(-sigma_3, sigma_3+1, step), range(-sigma_3, sigma_3+1, step)), density=True)\n",
    "    fig.colorbar(hist1[3], ax=ax1)\n",
    "    \n",
    "    x = np.linspace(-sigma_3, sigma_3, 2*sigma_3 + 1)\n",
    "    p = norm.pdf(x, loc=0.0, scale=sigma)\n",
    "    \n",
    "    ax2.set_title(\"Dispersal histogram x\")\n",
    "    ax2.set_xlabel(\"x\")\n",
    "    ax2.set_ylabel(\"pmf\")\n",
    "    ax2.plot(x, p, color='red', linewidth=2, alpha=0.5, label=f\"expected: mu=0.0 sigma={sigma}\")\n",
    "    loc, scale = norm.fit(location_deltas[:,0])\n",
    "    ax2.hist(location_deltas[:,0], bins=range(-sigma_3, sigma_3+1), density=True, label=f\"observed: mu≈{round(loc, 3)} sigma≈{round(scale, 3)}\")\n",
    "    ax2.legend()\n",
    "    ax2.legend(loc='lower center')\n",
    "    \n",
    "    ax3.set_title(\"Dispersal histogram y\")\n",
    "    ax3.set_xlabel(\"y\")\n",
    "    ax3.set_ylabel(\"pmf\")\n",
    "    ax3.plot(x, p, color='red', linewidth=2, alpha=0.5, label=f\"expected: mu=0.0 sigma={sigma}\")\n",
    "    loc, scale = norm.fit(location_deltas[:,1])\n",
    "    ax3.hist(location_deltas[:,1], bins=range(-sigma_3, sigma_3+1), density=True, label=f\"observed: mu≈{round(loc, 3)} sigma≈{round(scale, 3)}\")\n",
    "    ax3.legend(loc='lower center')\n",
    "    \n",
    "    plt.show()\n",
    "    \n",
    "    display(Markdown(f\"#### Parameters:\\n* seeds: {seeds}\"))\n",
    "    \n",
    "    display(Markdown(f\"#### Configuration:\\n```rust\\n{config}\\n```\"))"
   ]
  },
  {
   "cell_type": "code",
   "execution_count": null,
   "id": "870aa357-3f38-4bb2-8803-162b33082010",
   "metadata": {},
   "outputs": [],
   "source": [
    "for algorithm in [\"Classical\", \"Gillespie\", \"SkippingGillespie\", \"Independent\"]:\n",
    "    seeds = np.random.randint(0, np.iinfo(\"uint64\").max, dtype=\"uint64\", size=1000) \n",
    "    \n",
    "    test_normal_dispersal_kernel(\n",
    "        algorithm, speciation=0.01, seeds=seeds, sample=0.1, radius=25, sigma=100.0\n",
    "    )"
   ]
  },
  {
   "cell_type": "code",
   "execution_count": null,
   "id": "affadc09-30d0-4a2f-9b99-96c243a315b7",
   "metadata": {},
   "outputs": [],
   "source": []
  }
 ],
 "metadata": {
  "kernelspec": {
   "display_name": "Python 3",
   "language": "python",
   "name": "python3"
  },
  "language_info": {
   "codemirror_mode": {
    "name": "ipython",
    "version": 3
   },
   "file_extension": ".py",
   "mimetype": "text/x-python",
   "name": "python",
   "nbconvert_exporter": "python",
   "pygments_lexer": "ipython3",
   "version": "3.7.5"
  }
 },
 "nbformat": 4,
 "nbformat_minor": 5
}
