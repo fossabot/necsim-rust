{
 "cells": [
  {
   "cell_type": "code",
   "execution_count": null,
   "metadata": {
    "jupyter": {
     "source_hidden": true
    },
    "tags": []
   },
   "outputs": [],
   "source": [
    "import subprocess\n",
    "import shlex\n",
    "\n",
    "import numpy as np\n",
    "\n",
    "from matplotlib import pyplot as plt\n",
    "from scipy.stats import binom\n",
    "from matplotlib.colors import LinearSegmentedColormap\n",
    "from IPython.display import display, Markdown"
   ]
  },
  {
   "cell_type": "code",
   "execution_count": null,
   "metadata": {
    "jupyter": {
     "source_hidden": true
    },
    "tags": []
   },
   "outputs": [],
   "source": [
    "import matplotlib as mpl\n",
    "mpl.rcParams['figure.dpi'] = 400\n",
    "\n",
    "def show():\n",
    "    plt.savefig(f\"{show.fig_counter}.pdf\", dpi='figure', transparent=True, bbox_inches='tight')\n",
    "    show.fig_counter += 1\n",
    "    show.plt_show()\n",
    "\n",
    "show.fig_counter = 0\n",
    "show.plt_show = plt.show\n",
    "\n",
    "plt.show = show"
   ]
  },
  {
   "cell_type": "code",
   "execution_count": null,
   "metadata": {
    "jupyter": {
     "source_hidden": true
    },
    "tags": []
   },
   "outputs": [],
   "source": [
    "lookuptable = np.array([bin(i).count('1') for i in range(256)]).astype(np.int32)\n",
    "\n",
    "def countbits(v):\n",
    "    assert v.dtype in (np.uint8, np.uint16, np.uint32, np.uint64), 'must be an unsigned int dtype'\n",
    "    \n",
    "    return lookuptable[np.reshape(v.view(np.uint8), v.shape + (-1, ))].sum(axis=-1)"
   ]
  },
  {
   "cell_type": "markdown",
   "metadata": {
    "tags": []
   },
   "source": [
    "# Avalanche Criterion for RNG state update"
   ]
  },
  {
   "cell_type": "code",
   "execution_count": null,
   "metadata": {
    "jupyter": {
     "source_hidden": true
    },
    "tags": []
   },
   "outputs": [],
   "source": [
    "def test_rng_update_avalanche(seed=42, limit=1000, flags=[], title=\"Input-Hash bit dependence\"):\n",
    "    display(Markdown(f\"## Diffusion: {', '.join(flags) or 'full'}\"))\n",
    "    \n",
    "    flags = ' '.join(f'--{flag}' for flag in flags)\n",
    "    \n",
    "    hash_differences = subprocess.run(shlex.split(\n",
    "        f\"cargo run --release --quiet -- --seed {seed} --limit {limit} {flags} {'update'}\"\n",
    "    ), check=True, capture_output=True, text=True)\n",
    "    \n",
    "    differences = np.fromstring(hash_differences.stdout, dtype=\"uint64\", sep='\\n')\n",
    "    \n",
    "    display(Markdown(\"#### Single-bit-flip hash Hamming distance histogram:\"))\n",
    "    \n",
    "    # Hamming distance histogram\n",
    "    plt.title(\"Hamming distance after a single input bit flip\")\n",
    "    plt.xlabel(\"hamming distance\")\n",
    "    plt.ylabel(\"pmf\")\n",
    "    \n",
    "    x = np.linspace(0, 64, 65)\n",
    "    p = binom.pmf(x, 64, 0.5)\n",
    "    plt.plot(x, p, color='red', linewidth=2, alpha=0.5, label=\"expected: mean=0.5\")\n",
    "    \n",
    "    plt.hist(\n",
    "        countbits(differences), bins=[x - 0.5 for x in range(0, 66)],\n",
    "        density=True, label=f\"observed: mean≈{round(np.mean(countbits(differences)) / 64, 3)}\"\n",
    "    )\n",
    "\n",
    "    plt.legend()\n",
    "    plt.show()\n",
    "    \n",
    "    # Calculate bit dependence matrix\n",
    "    bit_dependence = np.zeros(shape=(64, 64), dtype=\"uint64\")\n",
    "    bit_normalisation = np.zeros(shape=(64), dtype=\"uint64\")\n",
    "\n",
    "    for bit, difference in enumerate(differences):\n",
    "        bit_normalisation[bit % 64] += 1\n",
    "\n",
    "        mask = np.uint64(0x1)\n",
    "\n",
    "        for b in range(0, 64):\n",
    "            if difference & mask:\n",
    "                bit_dependence[bit % 64, b] += 1\n",
    "\n",
    "            mask <<= np.uint64(1)\n",
    "    \n",
    "    avalanche_probability_vector = bit_dependence.sum(axis=0) / len(differences)\n",
    "    \n",
    "    display(Markdown(\"#### Avalanche statistics:\"))\n",
    "    \n",
    "    # Avalanche dependence: Satisfied iff == 64\n",
    "    avalanche_dependence = 64 - np.sum(avalanche_probability_vector == 0.0)\n",
    "    display(Markdown(\n",
    "        f\"* avalanche dependence: {avalanche_dependence} \" +\n",
    "        \"*(number of output bits that may flip for a single-bit \" +\n",
    "        \"change at the input, should be = 64)*\"\n",
    "    ))\n",
    "    \n",
    "    # Avalanche weight: Satisfied iff ~~ 32\n",
    "    avalanche_weight = np.sum(avalanche_probability_vector)\n",
    "    display(Markdown(\n",
    "        f\"* avalanche weight: {avalanche_weight} \" +\n",
    "        \"*(expected Hamming weight of the output difference, should be ≈ 32)*\"\n",
    "    ))\n",
    "    \n",
    "    # Avalanche entropy: Satisfied iff ~~ 64\n",
    "    avalanche_entropy = np.sum(\n",
    "        -avalanche_probability_vector * np.log2(avalanche_probability_vector)\n",
    "        -(1.0 - avalanche_probability_vector) * np.log2(1.0 - avalanche_probability_vector)\n",
    "    )\n",
    "    display(Markdown(\n",
    "        f\"* avalanche entropy: {avalanche_entropy} \" +\n",
    "        \"*(number of bits required to represent the uncertainty about \" +\n",
    "        \"whether output bits flip or not, should be ≈ 64)*\"\n",
    "    ))\n",
    "    \n",
    "    display(Markdown(\"#### Avalanche diagram:\"))\n",
    "    \n",
    "    # Avalanche diagram\n",
    "    plt.figure(figsize=(8, 8))\n",
    "    mat = plt.matshow((bit_dependence / bit_normalisation.reshape((64, 1))).T, vmin=0.0, vmax=1.0, fignum=1)\n",
    "    mat.axes.set_title(title)\n",
    "    mat.axes.set_xlabel(\"flip of input bit\")\n",
    "    mat.axes.set_ylabel(\"flip of output hash bit\")\n",
    "    plt.colorbar()\n",
    "    plt.show()\n",
    "    \n",
    "    display(Markdown(f\"#### Parameters:\\n* seed: {seed}\\n* limit: {limit}\"))"
   ]
  },
  {
   "cell_type": "code",
   "execution_count": null,
   "metadata": {},
   "outputs": [],
   "source": [
    "seed = np.random.randint(0, np.iinfo(\"uint64\").max, dtype=\"uint64\")\n",
    "\n",
    "test_rng_update_avalanche(seed=seed, limit=10000, flags=[\"raw-output\"], title=\"Weak Avalanching of the wyrand RNG\")\n",
    "test_rng_update_avalanche(seed=seed, limit=10000, flags=[], title=\"Strong Avalanching of the wyrand+seahash RNG\")"
   ]
  },
  {
   "cell_type": "markdown",
   "metadata": {},
   "source": [
    "# Avalanche Criterion for RNG priming"
   ]
  },
  {
   "cell_type": "code",
   "execution_count": null,
   "metadata": {
    "jupyter": {
     "source_hidden": true
    },
    "tags": []
   },
   "outputs": [],
   "source": [
    "def test_rng_prime_avalanche(seed=42, limit=1000, flags=[]):\n",
    "    display(Markdown(f\"## Diffusion: {', '.join(flags) or 'full'}\"))\n",
    "    \n",
    "    flags = ' '.join(f'--{flag}' for flag in flags)\n",
    "    \n",
    "    hash_differences = subprocess.run(shlex.split(\n",
    "        f\"cargo run --release --quiet -- --seed {seed} --limit {limit} {flags} {'prime'}\"\n",
    "    ), check=True, capture_output=True, text=True)\n",
    "    \n",
    "    differences = np.fromstring(hash_differences.stdout, dtype=\"uint64\", sep='\\n')\n",
    "    \n",
    "    display(Markdown(\"#### Single-bit-flip hash Hamming distance histogram:\"))\n",
    "    \n",
    "    # Hamming distance histogram\n",
    "    plt.title(\"Hamming distance after a single input bit flip\")\n",
    "    plt.xlabel(\"hamming distance\")\n",
    "    plt.ylabel(\"pmf\")\n",
    "    \n",
    "    x = np.linspace(0, 64, 65)\n",
    "    p = binom.pmf(x, 64, 0.5)\n",
    "    plt.plot(x, p, color='red', linewidth=2, alpha=0.5, label=\"expected: mean=0.5\")\n",
    "    \n",
    "    plt.hist(\n",
    "        countbits(differences), bins=[x - 0.5 for x in range(0, 66)],\n",
    "        density=True, label=f\"observed: mean={round(np.mean(countbits(differences)) / 64, 3)}\"\n",
    "    )\n",
    "\n",
    "    plt.legend()\n",
    "    plt.show()\n",
    "    \n",
    "    # Calculate bit dependence matrix\n",
    "    bit_dependence = np.zeros(shape=(64*3, 64), dtype=\"uint64\")\n",
    "    bit_normalisation = np.zeros(shape=(64*3), dtype=\"uint64\")\n",
    "\n",
    "    for bit, difference in enumerate(differences):\n",
    "        bit_normalisation[bit % (64*3)] += 1\n",
    "\n",
    "        mask = np.uint64(0x1)\n",
    "\n",
    "        for b in range(0, 64):\n",
    "            if difference & mask:\n",
    "                bit_dependence[bit % (64*3), b] += 1\n",
    "\n",
    "            mask <<= np.uint64(1)\n",
    "    \n",
    "    avalanche_probability_vector = bit_dependence.sum(axis=0) / len(differences)\n",
    "    \n",
    "    display(Markdown(\"#### Avalanche statistics:\"))\n",
    "    \n",
    "    # Avalanche dependence: Satisfied iff == 64\n",
    "    avalanche_dependence = 64 - np.sum(avalanche_probability_vector == 0.0)\n",
    "    display(Markdown(\n",
    "        f\"* avalanche dependence: {avalanche_dependence} \" +\n",
    "        \"*(number of output bits that may flip for a single-bit \" +\n",
    "        \"change at the input, should be = 64)*\"\n",
    "    ))\n",
    "    \n",
    "    # Avalanche weight: Satisfied iff ~~ 32\n",
    "    avalanche_weight = np.sum(avalanche_probability_vector)\n",
    "    display(Markdown(\n",
    "        f\"* avalanche weight: {avalanche_weight} \" +\n",
    "        \"*(expected Hamming weight of the output difference, should be ≈ 32)*\"\n",
    "    ))\n",
    "    \n",
    "    # Avalanche entropy: Satisfied iff ~~ 64\n",
    "    avalanche_entropy = np.sum(\n",
    "        -avalanche_probability_vector * np.log2(avalanche_probability_vector)\n",
    "        -(1.0 - avalanche_probability_vector) * np.log2(1.0 - avalanche_probability_vector)\n",
    "    )\n",
    "    display(Markdown(\n",
    "        f\"* avalanche entropy: {avalanche_entropy} \" +\n",
    "        \"*(number of bits required to represent the uncertainty about \" +\n",
    "        \"whether output bits flip or not, should be ≈ 64)*\"\n",
    "    ))\n",
    "    \n",
    "    display(Markdown(\"#### Avalanche diagram:\"))\n",
    "    \n",
    "    # Avalanche diagram\n",
    "    plt.figure(figsize=(24, 8))\n",
    "    mat = plt.matshow((bit_dependence / bit_normalisation.reshape((64*3, 1))).T, vmin=0.0, vmax=1.0, fignum=1)\n",
    "    mat.axes.set_title(\"Input-Hash bit dependence\")\n",
    "    mat.axes.set_xlabel(\"flip of input bit\")\n",
    "    mat.axes.set_ylabel(\"flip of output hash bit\")\n",
    "    plt.colorbar()\n",
    "    plt.show()\n",
    "    \n",
    "    display(Markdown(f\"#### Parameters:\\n* seed: {seed}\\n* limit: {limit}\"))"
   ]
  },
  {
   "cell_type": "code",
   "execution_count": null,
   "metadata": {},
   "outputs": [],
   "source": [
    "seed = np.random.randint(0, np.iinfo(\"uint64\").max, dtype=\"uint64\")\n",
    "\n",
    "test_rng_prime_avalanche(seed=seed, limit=10000, flags=[\"raw-prime\", \"raw-output\"])\n",
    "test_rng_prime_avalanche(seed=seed, limit=10000, flags=[\"raw-output\"])\n",
    "test_rng_prime_avalanche(seed=seed, limit=10000, flags=[])"
   ]
  },
  {
   "cell_type": "code",
   "execution_count": null,
   "metadata": {},
   "outputs": [],
   "source": []
  }
 ],
 "metadata": {
  "kernelspec": {
   "display_name": "Python 3",
   "language": "python",
   "name": "python3"
  },
  "language_info": {
   "codemirror_mode": {
    "name": "ipython",
    "version": 3
   },
   "file_extension": ".py",
   "mimetype": "text/x-python",
   "name": "python",
   "nbconvert_exporter": "python",
   "pygments_lexer": "ipython3",
   "version": "3.7.5"
  }
 },
 "nbformat": 4,
 "nbformat_minor": 4
}
