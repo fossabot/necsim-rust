{
 "cells": [
  {
   "cell_type": "code",
   "execution_count": null,
   "id": "e6cf3d7f-e1fa-4151-ab67-3070dc4b136e",
   "metadata": {
    "jupyter": {
     "source_hidden": true
    },
    "tags": []
   },
   "outputs": [],
   "source": [
    "import subprocess\n",
    "import shlex\n",
    "\n",
    "from IPython.display import display, Markdown"
   ]
  },
  {
   "cell_type": "markdown",
   "id": "f94398f5-84b5-4238-807f-def3d7cdbe3d",
   "metadata": {},
   "source": [
    "# SMhasher - Hash function quality and speed tests"
   ]
  },
  {
   "cell_type": "code",
   "execution_count": null,
   "id": "fd844300-147b-4440-91e7-0539d5a153d4",
   "metadata": {
    "jupyter": {
     "source_hidden": true
    },
    "tags": []
   },
   "outputs": [],
   "source": [
    "def test_smhasher(hashfn=\"wyhash\", args=[]):\n",
    "    smhasher = subprocess.run(\n",
    "        shlex.split(\"./smhasher\") + args + [hashfn],\n",
    "        check=True, capture_output=True, text=True\n",
    "    )\n",
    "    \n",
    "    if \"FAIL\" in smhasher.stdout:\n",
    "        display(Markdown(f\"## <span style='color:red'><u>{hashfn}</u></span>\"))\n",
    "    else:\n",
    "        display(Markdown(f\"## <span style='color:green'>{hashfn}</span>\"))\n",
    "        \n",
    "    display(Markdown(\"#### Test output:\"))\n",
    "    display(Markdown(\">\" + smhasher.stdout.replace('\\n', '\\n>')))"
   ]
  },
  {
   "cell_type": "code",
   "execution_count": null,
   "id": "67293f51-2986-4f66-ad17-738be127e82c",
   "metadata": {},
   "outputs": [],
   "source": [
    "test_smhasher(hashfn=\"wyhash\")"
   ]
  },
  {
   "cell_type": "code",
   "execution_count": null,
   "id": "c0374345-76bb-4e21-aedb-96807f17e94b",
   "metadata": {},
   "outputs": [],
   "source": []
  }
 ],
 "metadata": {
  "kernelspec": {
   "display_name": "Python 3",
   "language": "python",
   "name": "python3"
  },
  "language_info": {
   "codemirror_mode": {
    "name": "ipython",
    "version": 3
   },
   "file_extension": ".py",
   "mimetype": "text/x-python",
   "name": "python",
   "nbconvert_exporter": "python",
   "pygments_lexer": "ipython3",
   "version": "3.8.8"
  }
 },
 "nbformat": 4,
 "nbformat_minor": 5
}
