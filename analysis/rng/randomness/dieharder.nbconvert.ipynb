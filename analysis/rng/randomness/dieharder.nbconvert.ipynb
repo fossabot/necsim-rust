{
 "cells": [
  {
   "cell_type": "code",
   "execution_count": 1,
   "id": "e6cf3d7f-e1fa-4151-ab67-3070dc4b136e",
   "metadata": {
    "execution": {
     "iopub.execute_input": "2021-05-18T19:30:18.886457Z",
     "iopub.status.busy": "2021-05-18T19:30:18.885431Z",
     "iopub.status.idle": "2021-05-18T19:30:19.130789Z",
     "shell.execute_reply": "2021-05-18T19:30:19.131436Z"
    },
    "jupyter": {
     "source_hidden": true
    },
    "tags": []
   },
   "outputs": [],
   "source": [
    "import subprocess\n",
    "import shlex\n",
    "import re\n",
    "\n",
    "import numpy as np\n",
    "\n",
    "from IPython.display import display, Markdown\n",
    "from tqdm import tqdm"
   ]
  },
  {
   "cell_type": "code",
   "execution_count": 2,
   "id": "c3012526-a3bc-404d-9ae9-577b4b5859e6",
   "metadata": {
    "execution": {
     "iopub.execute_input": "2021-05-18T19:30:19.135129Z",
     "iopub.status.busy": "2021-05-18T19:30:19.134283Z",
     "iopub.status.idle": "2021-05-18T19:30:19.138446Z",
     "shell.execute_reply": "2021-05-18T19:30:19.139310Z"
    },
    "jupyter": {
     "source_hidden": true
    },
    "tags": []
   },
   "outputs": [],
   "source": [
    "CC_PATTERN = re.compile(r\"(?<!^)(?=[A-Z])\")"
   ]
  },
  {
   "cell_type": "markdown",
   "id": "f94398f5-84b5-4238-807f-def3d7cdbe3d",
   "metadata": {},
   "source": [
    "# Dieharder - A Random Number Test Suite"
   ]
  },
  {
   "cell_type": "code",
   "execution_count": 3,
   "id": "fd844300-147b-4440-91e7-0539d5a153d4",
   "metadata": {
    "execution": {
     "iopub.execute_input": "2021-05-18T19:30:19.143235Z",
     "iopub.status.busy": "2021-05-18T19:30:19.142311Z",
     "iopub.status.idle": "2021-05-18T19:30:19.153856Z",
     "shell.execute_reply": "2021-05-18T19:30:19.154623Z"
    },
    "jupyter": {
     "source_hidden": true
    },
    "tags": []
   },
   "outputs": [],
   "source": [
    "def test_randomness_dieharder(\n",
    "    mode, seeds=[42], args=[]\n",
    "):\n",
    "    outputs = []\n",
    "    \n",
    "    for seed in tqdm(seeds):\n",
    "        generator = subprocess.Popen(shlex.split(\n",
    "            f\"cargo run --release --quiet -- --seed {seed} {CC_PATTERN.sub('-', mode).lower()}\"\n",
    "        ), stdout=subprocess.PIPE)\n",
    "        dieharder = subprocess.run(\n",
    "            shlex.split(f\"dieharder -g 200\") + args, stdin=generator.stdout,\n",
    "            check=True, capture_output=True, text=True\n",
    "        )\n",
    "\n",
    "        outputs.append(dieharder.stdout)\n",
    "        \n",
    "    most_suspect = None\n",
    "    \n",
    "    for output in outputs:\n",
    "        failures = output.count(\"FAILED\")\n",
    "        weaks = output.count(\"WEAK\")\n",
    "        \n",
    "        suspicion = failures * 10 + weaks\n",
    "        \n",
    "        if (most_suspect is None) or (suspicion > most_suspect[0]):\n",
    "            most_suspect = (suspicion, output)\n",
    "\n",
    "    if \"FAILED\" in most_suspect[1]:\n",
    "        display(Markdown(f\"## <span style='color:red'><u>{mode}</u></span>\"))\n",
    "    elif \"WEAK\" in most_suspect[1]:\n",
    "        display(Markdown(f\"## <span style='color:orange'>*{mode}*</span>\"))\n",
    "    else:\n",
    "        display(Markdown(f\"## <span style='color:green'>{mode}</span>\"))\n",
    "        \n",
    "    display(Markdown(\"#### Test output (most suspect):\"))\n",
    "    display(Markdown(\">\" + most_suspect[1].replace('\\n', '\\n>')))\n",
    "\n",
    "    display(Markdown(\"#### Parameters:\"))\n",
    "    display(Markdown(f\"* seeds: {seeds}\"))"
   ]
  },
  {
   "cell_type": "code",
   "execution_count": 4,
   "id": "67293f51-2986-4f66-ad17-738be127e82c",
   "metadata": {
    "execution": {
     "iopub.execute_input": "2021-05-18T19:30:19.158563Z",
     "iopub.status.busy": "2021-05-18T19:30:19.157689Z",
     "iopub.status.idle": "2021-05-18T23:23:25.937435Z",
     "shell.execute_reply": "2021-05-18T23:23:25.937925Z"
    }
   },
   "outputs": [
    {
     "name": "stderr",
     "output_type": "stream",
     "text": [
      "100%|████████████████████████████████████████████████████████████████████████████████████████████████████| 1/1 [1:08:00<00:00, 4080.37s/it]\n"
     ]
    },
    {
     "data": {
      "text/markdown": [
       "## <span style='color:orange'>*Monolithic*</span>"
      ],
      "text/plain": [
       "<IPython.core.display.Markdown object>"
      ]
     },
     "metadata": {},
     "output_type": "display_data"
    },
    {
     "data": {
      "text/markdown": [
       "#### Test output (most suspect):"
      ],
      "text/plain": [
       "<IPython.core.display.Markdown object>"
      ]
     },
     "metadata": {},
     "output_type": "display_data"
    },
    {
     "data": {
      "text/markdown": [
       ">#=============================================================================#\n",
       ">#            dieharder version 3.31.1 Copyright 2003 Robert G. Brown          #\n",
       ">#=============================================================================#\n",
       ">   rng_name    |rands/second|   Seed   |\n",
       ">stdin_input_raw|  7.34e+05  |3779182098|\n",
       ">#=============================================================================#\n",
       ">        test_name   |ntup| tsamples |psamples|  p-value |Assessment\n",
       ">#=============================================================================#\n",
       ">   diehard_birthdays|   0|       100|     100|0.78652322|  PASSED  \n",
       ">      diehard_operm5|   0|   1000000|     100|0.17253507|  PASSED  \n",
       ">  diehard_rank_32x32|   0|     40000|     100|0.85628732|  PASSED  \n",
       ">    diehard_rank_6x8|   0|    100000|     100|0.24145893|  PASSED  \n",
       ">   diehard_bitstream|   0|   2097152|     100|0.68056148|  PASSED  \n",
       ">        diehard_opso|   0|   2097152|     100|0.88795375|  PASSED  \n",
       ">        diehard_oqso|   0|   2097152|     100|0.65045510|  PASSED  \n",
       ">         diehard_dna|   0|   2097152|     100|0.86059835|  PASSED  \n",
       ">diehard_count_1s_str|   0|    256000|     100|0.49471659|  PASSED  \n",
       ">diehard_count_1s_byt|   0|    256000|     100|0.47960017|  PASSED  \n",
       "> diehard_parking_lot|   0|     12000|     100|0.22547510|  PASSED  \n",
       ">    diehard_2dsphere|   2|      8000|     100|0.76878763|  PASSED  \n",
       ">    diehard_3dsphere|   3|      4000|     100|0.55911356|  PASSED  \n",
       ">     diehard_squeeze|   0|    100000|     100|0.32981897|  PASSED  \n",
       ">        diehard_sums|   0|       100|     100|0.39535583|  PASSED  \n",
       ">        diehard_runs|   0|    100000|     100|0.23155736|  PASSED  \n",
       ">        diehard_runs|   0|    100000|     100|0.84656689|  PASSED  \n",
       ">       diehard_craps|   0|    200000|     100|0.20859712|  PASSED  \n",
       ">       diehard_craps|   0|    200000|     100|0.56065348|  PASSED  \n",
       "> marsaglia_tsang_gcd|   0|  10000000|     100|0.41007467|  PASSED  \n",
       "> marsaglia_tsang_gcd|   0|  10000000|     100|0.87881542|  PASSED  \n",
       ">         sts_monobit|   1|    100000|     100|0.48276255|  PASSED  \n",
       ">            sts_runs|   2|    100000|     100|0.02606671|  PASSED  \n",
       ">          sts_serial|   1|    100000|     100|0.33895518|  PASSED  \n",
       ">          sts_serial|   2|    100000|     100|0.55319418|  PASSED  \n",
       ">          sts_serial|   3|    100000|     100|0.37097661|  PASSED  \n",
       ">          sts_serial|   3|    100000|     100|0.62986733|  PASSED  \n",
       ">          sts_serial|   4|    100000|     100|0.98740350|  PASSED  \n",
       ">          sts_serial|   4|    100000|     100|0.82471591|  PASSED  \n",
       ">          sts_serial|   5|    100000|     100|0.27186481|  PASSED  \n",
       ">          sts_serial|   5|    100000|     100|0.61221782|  PASSED  \n",
       ">          sts_serial|   6|    100000|     100|0.68618627|  PASSED  \n",
       ">          sts_serial|   6|    100000|     100|0.64044378|  PASSED  \n",
       ">          sts_serial|   7|    100000|     100|0.24810208|  PASSED  \n",
       ">          sts_serial|   7|    100000|     100|0.05197731|  PASSED  \n",
       ">          sts_serial|   8|    100000|     100|0.36445037|  PASSED  \n",
       ">          sts_serial|   8|    100000|     100|0.95483953|  PASSED  \n",
       ">          sts_serial|   9|    100000|     100|0.40524052|  PASSED  \n",
       ">          sts_serial|   9|    100000|     100|0.99369154|  PASSED  \n",
       ">          sts_serial|  10|    100000|     100|0.41020643|  PASSED  \n",
       ">          sts_serial|  10|    100000|     100|0.25650731|  PASSED  \n",
       ">          sts_serial|  11|    100000|     100|0.53194518|  PASSED  \n",
       ">          sts_serial|  11|    100000|     100|0.66729565|  PASSED  \n",
       ">          sts_serial|  12|    100000|     100|0.63477920|  PASSED  \n",
       ">          sts_serial|  12|    100000|     100|0.06856661|  PASSED  \n",
       ">          sts_serial|  13|    100000|     100|0.17580087|  PASSED  \n",
       ">          sts_serial|  13|    100000|     100|0.30867205|  PASSED  \n",
       ">          sts_serial|  14|    100000|     100|0.96867367|  PASSED  \n",
       ">          sts_serial|  14|    100000|     100|0.99180909|  PASSED  \n",
       ">          sts_serial|  15|    100000|     100|0.96725999|  PASSED  \n",
       ">          sts_serial|  15|    100000|     100|0.68235853|  PASSED  \n",
       ">          sts_serial|  16|    100000|     100|0.79826128|  PASSED  \n",
       ">          sts_serial|  16|    100000|     100|0.69064073|  PASSED  \n",
       ">         rgb_bitdist|   1|    100000|     100|0.21120550|  PASSED  \n",
       ">         rgb_bitdist|   2|    100000|     100|0.88880948|  PASSED  \n",
       ">         rgb_bitdist|   3|    100000|     100|0.74244745|  PASSED  \n",
       ">         rgb_bitdist|   4|    100000|     100|0.37303583|  PASSED  \n",
       ">         rgb_bitdist|   5|    100000|     100|0.09419849|  PASSED  \n",
       ">         rgb_bitdist|   6|    100000|     100|0.05632278|  PASSED  \n",
       ">         rgb_bitdist|   7|    100000|     100|0.80312961|  PASSED  \n",
       ">         rgb_bitdist|   8|    100000|     100|0.64829107|  PASSED  \n",
       ">         rgb_bitdist|   9|    100000|     100|0.09433330|  PASSED  \n",
       ">         rgb_bitdist|  10|    100000|     100|0.60920793|  PASSED  \n",
       ">         rgb_bitdist|  11|    100000|     100|0.72752683|  PASSED  \n",
       ">         rgb_bitdist|  12|    100000|     100|0.83050624|  PASSED  \n",
       ">rgb_minimum_distance|   2|     10000|    1000|0.88983766|  PASSED  \n",
       ">rgb_minimum_distance|   3|     10000|    1000|0.41986849|  PASSED  \n",
       ">rgb_minimum_distance|   4|     10000|    1000|0.54188194|  PASSED  \n",
       ">rgb_minimum_distance|   5|     10000|    1000|0.81785759|  PASSED  \n",
       ">    rgb_permutations|   2|    100000|     100|0.14610883|  PASSED  \n",
       ">    rgb_permutations|   3|    100000|     100|0.50708685|  PASSED  \n",
       ">    rgb_permutations|   4|    100000|     100|0.35890179|  PASSED  \n",
       ">    rgb_permutations|   5|    100000|     100|0.77411130|  PASSED  \n",
       ">      rgb_lagged_sum|   0|   1000000|     100|0.51622115|  PASSED  \n",
       ">      rgb_lagged_sum|   1|   1000000|     100|0.68688865|  PASSED  \n",
       ">      rgb_lagged_sum|   2|   1000000|     100|0.91126965|  PASSED  \n",
       ">      rgb_lagged_sum|   3|   1000000|     100|0.33929193|  PASSED  \n",
       ">      rgb_lagged_sum|   4|   1000000|     100|0.43113558|  PASSED  \n",
       ">      rgb_lagged_sum|   5|   1000000|     100|0.17549303|  PASSED  \n",
       ">      rgb_lagged_sum|   6|   1000000|     100|0.31860237|  PASSED  \n",
       ">      rgb_lagged_sum|   7|   1000000|     100|0.43247248|  PASSED  \n",
       ">      rgb_lagged_sum|   8|   1000000|     100|0.75244080|  PASSED  \n",
       ">      rgb_lagged_sum|   9|   1000000|     100|0.26239741|  PASSED  \n",
       ">      rgb_lagged_sum|  10|   1000000|     100|0.96747850|  PASSED  \n",
       ">      rgb_lagged_sum|  11|   1000000|     100|0.47290073|  PASSED  \n",
       ">      rgb_lagged_sum|  12|   1000000|     100|0.97733788|  PASSED  \n",
       ">      rgb_lagged_sum|  13|   1000000|     100|0.48890993|  PASSED  \n",
       ">      rgb_lagged_sum|  14|   1000000|     100|0.75217358|  PASSED  \n",
       ">      rgb_lagged_sum|  15|   1000000|     100|0.60185966|  PASSED  \n",
       ">      rgb_lagged_sum|  16|   1000000|     100|0.29235675|  PASSED  \n",
       ">      rgb_lagged_sum|  17|   1000000|     100|0.56799356|  PASSED  \n",
       ">      rgb_lagged_sum|  18|   1000000|     100|0.02050018|  PASSED  \n",
       ">      rgb_lagged_sum|  19|   1000000|     100|0.41787239|  PASSED  \n",
       ">      rgb_lagged_sum|  20|   1000000|     100|0.58488796|  PASSED  \n",
       ">      rgb_lagged_sum|  21|   1000000|     100|0.61055202|  PASSED  \n",
       ">      rgb_lagged_sum|  22|   1000000|     100|0.52323250|  PASSED  \n",
       ">      rgb_lagged_sum|  23|   1000000|     100|0.20036109|  PASSED  \n",
       ">      rgb_lagged_sum|  24|   1000000|     100|0.61348836|  PASSED  \n",
       ">      rgb_lagged_sum|  25|   1000000|     100|0.78510078|  PASSED  \n",
       ">      rgb_lagged_sum|  26|   1000000|     100|0.10551886|  PASSED  \n",
       ">      rgb_lagged_sum|  27|   1000000|     100|0.40285917|  PASSED  \n",
       ">      rgb_lagged_sum|  28|   1000000|     100|0.08475501|  PASSED  \n",
       ">      rgb_lagged_sum|  29|   1000000|     100|0.15294890|  PASSED  \n",
       ">      rgb_lagged_sum|  30|   1000000|     100|0.49696029|  PASSED  \n",
       ">      rgb_lagged_sum|  31|   1000000|     100|0.95419360|  PASSED  \n",
       ">      rgb_lagged_sum|  32|   1000000|     100|0.99825224|   WEAK   \n",
       ">     rgb_kstest_test|   0|     10000|    1000|0.40961271|  PASSED  \n",
       ">     dab_bytedistrib|   0|  51200000|       1|0.80378435|  PASSED  \n",
       ">             dab_dct| 256|     50000|       1|0.24009547|  PASSED  \n",
       ">Preparing to run test 207.  ntuple = 0\n",
       ">        dab_filltree|  32|  15000000|       1|0.92136458|  PASSED  \n",
       ">        dab_filltree|  32|  15000000|       1|0.82159810|  PASSED  \n",
       ">Preparing to run test 208.  ntuple = 0\n",
       ">       dab_filltree2|   0|   5000000|       1|0.46533817|  PASSED  \n",
       ">       dab_filltree2|   1|   5000000|       1|0.70534242|  PASSED  \n",
       ">Preparing to run test 209.  ntuple = 0\n",
       ">        dab_monobit2|  12|  65000000|       1|0.36699722|  PASSED  \n",
       ">"
      ],
      "text/plain": [
       "<IPython.core.display.Markdown object>"
      ]
     },
     "metadata": {},
     "output_type": "display_data"
    },
    {
     "data": {
      "text/markdown": [
       "#### Parameters:"
      ],
      "text/plain": [
       "<IPython.core.display.Markdown object>"
      ]
     },
     "metadata": {},
     "output_type": "display_data"
    },
    {
     "data": {
      "text/markdown": [
       "* seeds: [5930827262259484844]"
      ],
      "text/plain": [
       "<IPython.core.display.Markdown object>"
      ]
     },
     "metadata": {},
     "output_type": "display_data"
    },
    {
     "name": "stderr",
     "output_type": "stream",
     "text": [
      "100%|████████████████████████████████████████████████████████████████████████████████████████████████████| 1/1 [1:02:51<00:00, 3771.00s/it]\n"
     ]
    },
    {
     "data": {
      "text/markdown": [
       "## <span style='color:orange'>*Independent*</span>"
      ],
      "text/plain": [
       "<IPython.core.display.Markdown object>"
      ]
     },
     "metadata": {},
     "output_type": "display_data"
    },
    {
     "data": {
      "text/markdown": [
       "#### Test output (most suspect):"
      ],
      "text/plain": [
       "<IPython.core.display.Markdown object>"
      ]
     },
     "metadata": {},
     "output_type": "display_data"
    },
    {
     "data": {
      "text/markdown": [
       ">#=============================================================================#\n",
       ">#            dieharder version 3.31.1 Copyright 2003 Robert G. Brown          #\n",
       ">#=============================================================================#\n",
       ">   rng_name    |rands/second|   Seed   |\n",
       ">stdin_input_raw|  9.94e+06  |3828987927|\n",
       ">#=============================================================================#\n",
       ">        test_name   |ntup| tsamples |psamples|  p-value |Assessment\n",
       ">#=============================================================================#\n",
       ">   diehard_birthdays|   0|       100|     100|0.47002678|  PASSED  \n",
       ">      diehard_operm5|   0|   1000000|     100|0.13365922|  PASSED  \n",
       ">  diehard_rank_32x32|   0|     40000|     100|0.75636740|  PASSED  \n",
       ">    diehard_rank_6x8|   0|    100000|     100|0.98009844|  PASSED  \n",
       ">   diehard_bitstream|   0|   2097152|     100|0.91192206|  PASSED  \n",
       ">        diehard_opso|   0|   2097152|     100|0.53232613|  PASSED  \n",
       ">        diehard_oqso|   0|   2097152|     100|0.67825121|  PASSED  \n",
       ">         diehard_dna|   0|   2097152|     100|0.20492255|  PASSED  \n",
       ">diehard_count_1s_str|   0|    256000|     100|0.26144926|  PASSED  \n",
       ">diehard_count_1s_byt|   0|    256000|     100|0.01963557|  PASSED  \n",
       "> diehard_parking_lot|   0|     12000|     100|0.77743129|  PASSED  \n",
       ">    diehard_2dsphere|   2|      8000|     100|0.57734338|  PASSED  \n",
       ">    diehard_3dsphere|   3|      4000|     100|0.03755051|  PASSED  \n",
       ">     diehard_squeeze|   0|    100000|     100|0.93452042|  PASSED  \n",
       ">        diehard_sums|   0|       100|     100|0.02385195|  PASSED  \n",
       ">        diehard_runs|   0|    100000|     100|0.11519934|  PASSED  \n",
       ">        diehard_runs|   0|    100000|     100|0.39370672|  PASSED  \n",
       ">       diehard_craps|   0|    200000|     100|0.60109408|  PASSED  \n",
       ">       diehard_craps|   0|    200000|     100|0.79236454|  PASSED  \n",
       "> marsaglia_tsang_gcd|   0|  10000000|     100|0.75754159|  PASSED  \n",
       "> marsaglia_tsang_gcd|   0|  10000000|     100|0.11184464|  PASSED  \n",
       ">         sts_monobit|   1|    100000|     100|0.17693442|  PASSED  \n",
       ">            sts_runs|   2|    100000|     100|0.99548460|   WEAK   \n",
       ">          sts_serial|   1|    100000|     100|0.46531118|  PASSED  \n",
       ">          sts_serial|   2|    100000|     100|0.85142976|  PASSED  \n",
       ">          sts_serial|   3|    100000|     100|0.97282074|  PASSED  \n",
       ">          sts_serial|   3|    100000|     100|0.76108120|  PASSED  \n",
       ">          sts_serial|   4|    100000|     100|0.59920226|  PASSED  \n",
       ">          sts_serial|   4|    100000|     100|0.98166039|  PASSED  \n",
       ">          sts_serial|   5|    100000|     100|0.98607471|  PASSED  \n",
       ">          sts_serial|   5|    100000|     100|0.52914452|  PASSED  \n",
       ">          sts_serial|   6|    100000|     100|0.96160355|  PASSED  \n",
       ">          sts_serial|   6|    100000|     100|0.70930892|  PASSED  \n",
       ">          sts_serial|   7|    100000|     100|0.98693801|  PASSED  \n",
       ">          sts_serial|   7|    100000|     100|0.42489905|  PASSED  \n",
       ">          sts_serial|   8|    100000|     100|0.61928040|  PASSED  \n",
       ">          sts_serial|   8|    100000|     100|0.91646976|  PASSED  \n",
       ">          sts_serial|   9|    100000|     100|0.43998838|  PASSED  \n",
       ">          sts_serial|   9|    100000|     100|0.40927586|  PASSED  \n",
       ">          sts_serial|  10|    100000|     100|0.93612380|  PASSED  \n",
       ">          sts_serial|  10|    100000|     100|0.67564290|  PASSED  \n",
       ">          sts_serial|  11|    100000|     100|0.48911273|  PASSED  \n",
       ">          sts_serial|  11|    100000|     100|0.33889579|  PASSED  \n",
       ">          sts_serial|  12|    100000|     100|0.85644295|  PASSED  \n",
       ">          sts_serial|  12|    100000|     100|0.12666452|  PASSED  \n",
       ">          sts_serial|  13|    100000|     100|0.31132920|  PASSED  \n",
       ">          sts_serial|  13|    100000|     100|0.11856905|  PASSED  \n",
       ">          sts_serial|  14|    100000|     100|0.04996304|  PASSED  \n",
       ">          sts_serial|  14|    100000|     100|0.25320619|  PASSED  \n",
       ">          sts_serial|  15|    100000|     100|0.20793978|  PASSED  \n",
       ">          sts_serial|  15|    100000|     100|0.25849949|  PASSED  \n",
       ">          sts_serial|  16|    100000|     100|0.02958602|  PASSED  \n",
       ">          sts_serial|  16|    100000|     100|0.22383230|  PASSED  \n",
       ">         rgb_bitdist|   1|    100000|     100|0.70655570|  PASSED  \n",
       ">         rgb_bitdist|   2|    100000|     100|0.23114091|  PASSED  \n",
       ">         rgb_bitdist|   3|    100000|     100|0.50492243|  PASSED  \n",
       ">         rgb_bitdist|   4|    100000|     100|0.32316720|  PASSED  \n",
       ">         rgb_bitdist|   5|    100000|     100|0.01084702|  PASSED  \n",
       ">         rgb_bitdist|   6|    100000|     100|0.22001510|  PASSED  \n",
       ">         rgb_bitdist|   7|    100000|     100|0.96386438|  PASSED  \n",
       ">         rgb_bitdist|   8|    100000|     100|0.72759340|  PASSED  \n",
       ">         rgb_bitdist|   9|    100000|     100|0.34961962|  PASSED  \n",
       ">         rgb_bitdist|  10|    100000|     100|0.57666183|  PASSED  \n",
       ">         rgb_bitdist|  11|    100000|     100|0.76038248|  PASSED  \n",
       ">         rgb_bitdist|  12|    100000|     100|0.81873239|  PASSED  \n",
       ">rgb_minimum_distance|   2|     10000|    1000|0.18683828|  PASSED  \n",
       ">rgb_minimum_distance|   3|     10000|    1000|0.41083433|  PASSED  \n",
       ">rgb_minimum_distance|   4|     10000|    1000|0.47258920|  PASSED  \n",
       ">rgb_minimum_distance|   5|     10000|    1000|0.75460555|  PASSED  \n",
       ">    rgb_permutations|   2|    100000|     100|0.86111876|  PASSED  \n",
       ">    rgb_permutations|   3|    100000|     100|0.62348986|  PASSED  \n",
       ">    rgb_permutations|   4|    100000|     100|0.99045758|  PASSED  \n",
       ">    rgb_permutations|   5|    100000|     100|0.72720103|  PASSED  \n",
       ">      rgb_lagged_sum|   0|   1000000|     100|0.05603588|  PASSED  \n",
       ">      rgb_lagged_sum|   1|   1000000|     100|0.21771688|  PASSED  \n",
       ">      rgb_lagged_sum|   2|   1000000|     100|0.41662723|  PASSED  \n",
       ">      rgb_lagged_sum|   3|   1000000|     100|0.66780161|  PASSED  \n",
       ">      rgb_lagged_sum|   4|   1000000|     100|0.88116639|  PASSED  \n",
       ">      rgb_lagged_sum|   5|   1000000|     100|0.41922860|  PASSED  \n",
       ">      rgb_lagged_sum|   6|   1000000|     100|0.14088565|  PASSED  \n",
       ">      rgb_lagged_sum|   7|   1000000|     100|0.61030203|  PASSED  \n",
       ">      rgb_lagged_sum|   8|   1000000|     100|0.96487333|  PASSED  \n",
       ">      rgb_lagged_sum|   9|   1000000|     100|0.11358026|  PASSED  \n",
       ">      rgb_lagged_sum|  10|   1000000|     100|0.91040580|  PASSED  \n",
       ">      rgb_lagged_sum|  11|   1000000|     100|0.84958750|  PASSED  \n",
       ">      rgb_lagged_sum|  12|   1000000|     100|0.93033746|  PASSED  \n",
       ">      rgb_lagged_sum|  13|   1000000|     100|0.65578723|  PASSED  \n",
       ">      rgb_lagged_sum|  14|   1000000|     100|0.57871297|  PASSED  \n",
       ">      rgb_lagged_sum|  15|   1000000|     100|0.99579962|   WEAK   \n",
       ">      rgb_lagged_sum|  16|   1000000|     100|0.00975442|  PASSED  \n",
       ">      rgb_lagged_sum|  17|   1000000|     100|0.56796494|  PASSED  \n",
       ">      rgb_lagged_sum|  18|   1000000|     100|0.08409833|  PASSED  \n",
       ">      rgb_lagged_sum|  19|   1000000|     100|0.74128093|  PASSED  \n",
       ">      rgb_lagged_sum|  20|   1000000|     100|0.31637035|  PASSED  \n",
       ">      rgb_lagged_sum|  21|   1000000|     100|0.38526488|  PASSED  \n",
       ">      rgb_lagged_sum|  22|   1000000|     100|0.85830036|  PASSED  \n",
       ">      rgb_lagged_sum|  23|   1000000|     100|0.54687891|  PASSED  \n",
       ">      rgb_lagged_sum|  24|   1000000|     100|0.48576908|  PASSED  \n",
       ">      rgb_lagged_sum|  25|   1000000|     100|0.57021111|  PASSED  \n",
       ">      rgb_lagged_sum|  26|   1000000|     100|0.98778045|  PASSED  \n",
       ">      rgb_lagged_sum|  27|   1000000|     100|0.44851437|  PASSED  \n",
       ">      rgb_lagged_sum|  28|   1000000|     100|0.83876211|  PASSED  \n",
       ">      rgb_lagged_sum|  29|   1000000|     100|0.39682408|  PASSED  \n",
       ">      rgb_lagged_sum|  30|   1000000|     100|0.91826995|  PASSED  \n",
       ">      rgb_lagged_sum|  31|   1000000|     100|0.15903475|  PASSED  \n",
       ">      rgb_lagged_sum|  32|   1000000|     100|0.32603054|  PASSED  \n",
       ">     rgb_kstest_test|   0|     10000|    1000|0.95229030|  PASSED  \n",
       ">     dab_bytedistrib|   0|  51200000|       1|0.97813748|  PASSED  \n",
       ">             dab_dct| 256|     50000|       1|0.94728849|  PASSED  \n",
       ">Preparing to run test 207.  ntuple = 0\n",
       ">        dab_filltree|  32|  15000000|       1|0.05292024|  PASSED  \n",
       ">        dab_filltree|  32|  15000000|       1|0.70970006|  PASSED  \n",
       ">Preparing to run test 208.  ntuple = 0\n",
       ">       dab_filltree2|   0|   5000000|       1|0.92814867|  PASSED  \n",
       ">       dab_filltree2|   1|   5000000|       1|0.67181853|  PASSED  \n",
       ">Preparing to run test 209.  ntuple = 0\n",
       ">        dab_monobit2|  12|  65000000|       1|0.20778817|  PASSED  \n",
       ">"
      ],
      "text/plain": [
       "<IPython.core.display.Markdown object>"
      ]
     },
     "metadata": {},
     "output_type": "display_data"
    },
    {
     "data": {
      "text/markdown": [
       "#### Parameters:"
      ],
      "text/plain": [
       "<IPython.core.display.Markdown object>"
      ]
     },
     "metadata": {},
     "output_type": "display_data"
    },
    {
     "data": {
      "text/markdown": [
       "* seeds: [3820873930251716389]"
      ],
      "text/plain": [
       "<IPython.core.display.Markdown object>"
      ]
     },
     "metadata": {},
     "output_type": "display_data"
    },
    {
     "name": "stderr",
     "output_type": "stream",
     "text": [
      "100%|████████████████████████████████████████████████████████████████████████████████████████████████████| 1/1 [1:15:00<00:00, 4500.98s/it]\n"
     ]
    },
    {
     "data": {
      "text/markdown": [
       "## <span style='color:orange'>*IndependentSimulation*</span>"
      ],
      "text/plain": [
       "<IPython.core.display.Markdown object>"
      ]
     },
     "metadata": {},
     "output_type": "display_data"
    },
    {
     "data": {
      "text/markdown": [
       "#### Test output (most suspect):"
      ],
      "text/plain": [
       "<IPython.core.display.Markdown object>"
      ]
     },
     "metadata": {},
     "output_type": "display_data"
    },
    {
     "data": {
      "text/markdown": [
       ">#=============================================================================#\n",
       ">#            dieharder version 3.31.1 Copyright 2003 Robert G. Brown          #\n",
       ">#=============================================================================#\n",
       ">   rng_name    |rands/second|   Seed   |\n",
       ">stdin_input_raw|  1.00e+07  |1166394182|\n",
       ">#=============================================================================#\n",
       ">        test_name   |ntup| tsamples |psamples|  p-value |Assessment\n",
       ">#=============================================================================#\n",
       ">   diehard_birthdays|   0|       100|     100|0.90636108|  PASSED  \n",
       ">      diehard_operm5|   0|   1000000|     100|0.23858919|  PASSED  \n",
       ">  diehard_rank_32x32|   0|     40000|     100|0.90331149|  PASSED  \n",
       ">    diehard_rank_6x8|   0|    100000|     100|0.28669108|  PASSED  \n",
       ">   diehard_bitstream|   0|   2097152|     100|0.93445471|  PASSED  \n",
       ">        diehard_opso|   0|   2097152|     100|0.34857367|  PASSED  \n",
       ">        diehard_oqso|   0|   2097152|     100|0.25940131|  PASSED  \n",
       ">         diehard_dna|   0|   2097152|     100|0.46748804|  PASSED  \n",
       ">diehard_count_1s_str|   0|    256000|     100|0.85200757|  PASSED  \n",
       ">diehard_count_1s_byt|   0|    256000|     100|0.86829857|  PASSED  \n",
       "> diehard_parking_lot|   0|     12000|     100|0.11489823|  PASSED  \n",
       ">    diehard_2dsphere|   2|      8000|     100|0.93751125|  PASSED  \n",
       ">    diehard_3dsphere|   3|      4000|     100|0.66967467|  PASSED  \n",
       ">     diehard_squeeze|   0|    100000|     100|0.94509328|  PASSED  \n",
       ">        diehard_sums|   0|       100|     100|0.45229980|  PASSED  \n",
       ">        diehard_runs|   0|    100000|     100|0.57812202|  PASSED  \n",
       ">        diehard_runs|   0|    100000|     100|0.69290857|  PASSED  \n",
       ">       diehard_craps|   0|    200000|     100|0.25354959|  PASSED  \n",
       ">       diehard_craps|   0|    200000|     100|0.69056379|  PASSED  \n",
       "> marsaglia_tsang_gcd|   0|  10000000|     100|0.77126316|  PASSED  \n",
       "> marsaglia_tsang_gcd|   0|  10000000|     100|0.92382852|  PASSED  \n",
       ">         sts_monobit|   1|    100000|     100|0.00478507|   WEAK   \n",
       ">            sts_runs|   2|    100000|     100|0.07283001|  PASSED  \n",
       ">          sts_serial|   1|    100000|     100|0.40367187|  PASSED  \n",
       ">          sts_serial|   2|    100000|     100|0.60660238|  PASSED  \n",
       ">          sts_serial|   3|    100000|     100|0.75593395|  PASSED  \n",
       ">          sts_serial|   3|    100000|     100|0.39393125|  PASSED  \n",
       ">          sts_serial|   4|    100000|     100|0.84731394|  PASSED  \n",
       ">          sts_serial|   4|    100000|     100|0.44443128|  PASSED  \n",
       ">          sts_serial|   5|    100000|     100|0.89593934|  PASSED  \n",
       ">          sts_serial|   5|    100000|     100|0.03331876|  PASSED  \n",
       ">          sts_serial|   6|    100000|     100|0.38828189|  PASSED  \n",
       ">          sts_serial|   6|    100000|     100|0.52514834|  PASSED  \n",
       ">          sts_serial|   7|    100000|     100|0.74394279|  PASSED  \n",
       ">          sts_serial|   7|    100000|     100|0.34170898|  PASSED  \n",
       ">          sts_serial|   8|    100000|     100|0.64356649|  PASSED  \n",
       ">          sts_serial|   8|    100000|     100|0.54011355|  PASSED  \n",
       ">          sts_serial|   9|    100000|     100|0.99083702|  PASSED  \n",
       ">          sts_serial|   9|    100000|     100|0.17579498|  PASSED  \n",
       ">          sts_serial|  10|    100000|     100|0.98823972|  PASSED  \n",
       ">          sts_serial|  10|    100000|     100|0.92706002|  PASSED  \n",
       ">          sts_serial|  11|    100000|     100|0.86961147|  PASSED  \n",
       ">          sts_serial|  11|    100000|     100|0.63894456|  PASSED  \n",
       ">          sts_serial|  12|    100000|     100|0.94156782|  PASSED  \n",
       ">          sts_serial|  12|    100000|     100|0.34855552|  PASSED  \n",
       ">          sts_serial|  13|    100000|     100|0.57900947|  PASSED  \n",
       ">          sts_serial|  13|    100000|     100|0.34333171|  PASSED  \n",
       ">          sts_serial|  14|    100000|     100|0.14648914|  PASSED  \n",
       ">          sts_serial|  14|    100000|     100|0.31161689|  PASSED  \n",
       ">          sts_serial|  15|    100000|     100|0.88928193|  PASSED  \n",
       ">          sts_serial|  15|    100000|     100|0.97824073|  PASSED  \n",
       ">          sts_serial|  16|    100000|     100|0.87457381|  PASSED  \n",
       ">          sts_serial|  16|    100000|     100|0.50209997|  PASSED  \n",
       ">         rgb_bitdist|   1|    100000|     100|0.45169894|  PASSED  \n",
       ">         rgb_bitdist|   2|    100000|     100|0.11876978|  PASSED  \n",
       ">         rgb_bitdist|   3|    100000|     100|0.03807458|  PASSED  \n",
       ">         rgb_bitdist|   4|    100000|     100|0.96531783|  PASSED  \n",
       ">         rgb_bitdist|   5|    100000|     100|0.13823240|  PASSED  \n",
       ">         rgb_bitdist|   6|    100000|     100|0.22789501|  PASSED  \n",
       ">         rgb_bitdist|   7|    100000|     100|0.35924538|  PASSED  \n",
       ">         rgb_bitdist|   8|    100000|     100|0.56956272|  PASSED  \n",
       ">         rgb_bitdist|   9|    100000|     100|0.43305514|  PASSED  \n",
       ">         rgb_bitdist|  10|    100000|     100|0.95608723|  PASSED  \n",
       ">         rgb_bitdist|  11|    100000|     100|0.30070371|  PASSED  \n",
       ">         rgb_bitdist|  12|    100000|     100|0.95262955|  PASSED  \n",
       ">rgb_minimum_distance|   2|     10000|    1000|0.67808237|  PASSED  \n",
       ">rgb_minimum_distance|   3|     10000|    1000|0.96306642|  PASSED  \n",
       ">rgb_minimum_distance|   4|     10000|    1000|0.02940131|  PASSED  \n",
       ">rgb_minimum_distance|   5|     10000|    1000|0.31143506|  PASSED  \n",
       ">    rgb_permutations|   2|    100000|     100|0.89893711|  PASSED  \n",
       ">    rgb_permutations|   3|    100000|     100|0.82314095|  PASSED  \n",
       ">    rgb_permutations|   4|    100000|     100|0.58022990|  PASSED  \n",
       ">    rgb_permutations|   5|    100000|     100|0.35497972|  PASSED  \n",
       ">      rgb_lagged_sum|   0|   1000000|     100|0.82363932|  PASSED  \n",
       ">      rgb_lagged_sum|   1|   1000000|     100|0.70197133|  PASSED  \n",
       ">      rgb_lagged_sum|   2|   1000000|     100|0.86575388|  PASSED  \n",
       ">      rgb_lagged_sum|   3|   1000000|     100|0.33235971|  PASSED  \n",
       ">      rgb_lagged_sum|   4|   1000000|     100|0.91261656|  PASSED  \n",
       ">      rgb_lagged_sum|   5|   1000000|     100|0.33150442|  PASSED  \n",
       ">      rgb_lagged_sum|   6|   1000000|     100|0.66686226|  PASSED  \n",
       ">      rgb_lagged_sum|   7|   1000000|     100|0.16446692|  PASSED  \n",
       ">      rgb_lagged_sum|   8|   1000000|     100|0.49211915|  PASSED  \n",
       ">      rgb_lagged_sum|   9|   1000000|     100|0.65525093|  PASSED  \n",
       ">      rgb_lagged_sum|  10|   1000000|     100|0.41434479|  PASSED  \n",
       ">      rgb_lagged_sum|  11|   1000000|     100|0.66948696|  PASSED  \n",
       ">      rgb_lagged_sum|  12|   1000000|     100|0.60573462|  PASSED  \n",
       ">      rgb_lagged_sum|  13|   1000000|     100|0.38642723|  PASSED  \n",
       ">      rgb_lagged_sum|  14|   1000000|     100|0.82532378|  PASSED  \n",
       ">      rgb_lagged_sum|  15|   1000000|     100|0.61661300|  PASSED  \n",
       ">      rgb_lagged_sum|  16|   1000000|     100|0.82103079|  PASSED  \n",
       ">      rgb_lagged_sum|  17|   1000000|     100|0.21751970|  PASSED  \n",
       ">      rgb_lagged_sum|  18|   1000000|     100|0.83048236|  PASSED  \n",
       ">      rgb_lagged_sum|  19|   1000000|     100|0.03649095|  PASSED  \n",
       ">      rgb_lagged_sum|  20|   1000000|     100|0.99366530|  PASSED  \n",
       ">      rgb_lagged_sum|  21|   1000000|     100|0.15877173|  PASSED  \n",
       ">      rgb_lagged_sum|  22|   1000000|     100|0.38093371|  PASSED  \n",
       ">      rgb_lagged_sum|  23|   1000000|     100|0.72623003|  PASSED  \n",
       ">      rgb_lagged_sum|  24|   1000000|     100|0.86279222|  PASSED  \n",
       ">      rgb_lagged_sum|  25|   1000000|     100|0.85937626|  PASSED  \n",
       ">      rgb_lagged_sum|  26|   1000000|     100|0.92914476|  PASSED  \n",
       ">      rgb_lagged_sum|  27|   1000000|     100|0.98454565|  PASSED  \n",
       ">      rgb_lagged_sum|  28|   1000000|     100|0.66426590|  PASSED  \n",
       ">      rgb_lagged_sum|  29|   1000000|     100|0.85776383|  PASSED  \n",
       ">      rgb_lagged_sum|  30|   1000000|     100|0.75838951|  PASSED  \n",
       ">      rgb_lagged_sum|  31|   1000000|     100|0.45085224|  PASSED  \n",
       ">      rgb_lagged_sum|  32|   1000000|     100|0.58088784|  PASSED  \n",
       ">     rgb_kstest_test|   0|     10000|    1000|0.15974225|  PASSED  \n",
       ">     dab_bytedistrib|   0|  51200000|       1|0.67957643|  PASSED  \n",
       ">             dab_dct| 256|     50000|       1|0.51809345|  PASSED  \n",
       ">Preparing to run test 207.  ntuple = 0\n",
       ">        dab_filltree|  32|  15000000|       1|0.34950248|  PASSED  \n",
       ">        dab_filltree|  32|  15000000|       1|0.75625251|  PASSED  \n",
       ">Preparing to run test 208.  ntuple = 0\n",
       ">       dab_filltree2|   0|   5000000|       1|0.06003488|  PASSED  \n",
       ">       dab_filltree2|   1|   5000000|       1|0.56129872|  PASSED  \n",
       ">Preparing to run test 209.  ntuple = 0\n",
       ">        dab_monobit2|  12|  65000000|       1|0.91574179|  PASSED  \n",
       ">"
      ],
      "text/plain": [
       "<IPython.core.display.Markdown object>"
      ]
     },
     "metadata": {},
     "output_type": "display_data"
    },
    {
     "data": {
      "text/markdown": [
       "#### Parameters:"
      ],
      "text/plain": [
       "<IPython.core.display.Markdown object>"
      ]
     },
     "metadata": {},
     "output_type": "display_data"
    },
    {
     "data": {
      "text/markdown": [
       "* seeds: [2514386450607425676]"
      ],
      "text/plain": [
       "<IPython.core.display.Markdown object>"
      ]
     },
     "metadata": {},
     "output_type": "display_data"
    },
    {
     "name": "stderr",
     "output_type": "stream",
     "text": [
      "100%|██████████████████████████████████████████████████████████████████████████████████████████████████████| 1/1 [27:14<00:00, 1634.36s/it]\n"
     ]
    },
    {
     "data": {
      "text/markdown": [
       "## <span style='color:orange'>*IndependentSimulationNoDispersal*</span>"
      ],
      "text/plain": [
       "<IPython.core.display.Markdown object>"
      ]
     },
     "metadata": {},
     "output_type": "display_data"
    },
    {
     "data": {
      "text/markdown": [
       "#### Test output (most suspect):"
      ],
      "text/plain": [
       "<IPython.core.display.Markdown object>"
      ]
     },
     "metadata": {},
     "output_type": "display_data"
    },
    {
     "data": {
      "text/markdown": [
       ">#=============================================================================#\n",
       ">#            dieharder version 3.31.1 Copyright 2003 Robert G. Brown          #\n",
       ">#=============================================================================#\n",
       ">   rng_name    |rands/second|   Seed   |\n",
       ">stdin_input_raw|  2.71e+07  | 634079123|\n",
       ">#=============================================================================#\n",
       ">        test_name   |ntup| tsamples |psamples|  p-value |Assessment\n",
       ">#=============================================================================#\n",
       ">   diehard_birthdays|   0|       100|     100|0.85802107|  PASSED  \n",
       ">      diehard_operm5|   0|   1000000|     100|0.25115975|  PASSED  \n",
       ">  diehard_rank_32x32|   0|     40000|     100|0.41509956|  PASSED  \n",
       ">    diehard_rank_6x8|   0|    100000|     100|0.61302746|  PASSED  \n",
       ">   diehard_bitstream|   0|   2097152|     100|0.88380248|  PASSED  \n",
       ">        diehard_opso|   0|   2097152|     100|0.94228132|  PASSED  \n",
       ">        diehard_oqso|   0|   2097152|     100|0.27165493|  PASSED  \n",
       ">         diehard_dna|   0|   2097152|     100|0.63800346|  PASSED  \n",
       ">diehard_count_1s_str|   0|    256000|     100|0.99751440|   WEAK   \n",
       ">diehard_count_1s_byt|   0|    256000|     100|0.47971688|  PASSED  \n",
       "> diehard_parking_lot|   0|     12000|     100|0.92308018|  PASSED  \n",
       ">    diehard_2dsphere|   2|      8000|     100|0.88012782|  PASSED  \n",
       ">    diehard_3dsphere|   3|      4000|     100|0.71499125|  PASSED  \n",
       ">     diehard_squeeze|   0|    100000|     100|0.23788018|  PASSED  \n",
       ">        diehard_sums|   0|       100|     100|0.00781954|  PASSED  \n",
       ">        diehard_runs|   0|    100000|     100|0.86345185|  PASSED  \n",
       ">        diehard_runs|   0|    100000|     100|0.09140178|  PASSED  \n",
       ">       diehard_craps|   0|    200000|     100|0.67881696|  PASSED  \n",
       ">       diehard_craps|   0|    200000|     100|0.73481639|  PASSED  \n",
       "> marsaglia_tsang_gcd|   0|  10000000|     100|0.45408166|  PASSED  \n",
       "> marsaglia_tsang_gcd|   0|  10000000|     100|0.25601527|  PASSED  \n",
       ">         sts_monobit|   1|    100000|     100|0.06372561|  PASSED  \n",
       ">            sts_runs|   2|    100000|     100|0.68656987|  PASSED  \n",
       ">          sts_serial|   1|    100000|     100|0.40659006|  PASSED  \n",
       ">          sts_serial|   2|    100000|     100|0.97818895|  PASSED  \n",
       ">          sts_serial|   3|    100000|     100|0.54034378|  PASSED  \n",
       ">          sts_serial|   3|    100000|     100|0.11130542|  PASSED  \n",
       ">          sts_serial|   4|    100000|     100|0.48660835|  PASSED  \n",
       ">          sts_serial|   4|    100000|     100|0.83344817|  PASSED  \n",
       ">          sts_serial|   5|    100000|     100|0.26016964|  PASSED  \n",
       ">          sts_serial|   5|    100000|     100|0.55585579|  PASSED  \n",
       ">          sts_serial|   6|    100000|     100|0.99814908|   WEAK   \n",
       ">          sts_serial|   6|    100000|     100|0.80354257|  PASSED  \n",
       ">          sts_serial|   7|    100000|     100|0.28239943|  PASSED  \n",
       ">          sts_serial|   7|    100000|     100|0.77567293|  PASSED  \n",
       ">          sts_serial|   8|    100000|     100|0.82417974|  PASSED  \n",
       ">          sts_serial|   8|    100000|     100|0.72264666|  PASSED  \n",
       ">          sts_serial|   9|    100000|     100|0.85014440|  PASSED  \n",
       ">          sts_serial|   9|    100000|     100|0.87456731|  PASSED  \n",
       ">          sts_serial|  10|    100000|     100|0.30198152|  PASSED  \n",
       ">          sts_serial|  10|    100000|     100|0.32723766|  PASSED  \n",
       ">          sts_serial|  11|    100000|     100|0.29017850|  PASSED  \n",
       ">          sts_serial|  11|    100000|     100|0.86702874|  PASSED  \n",
       ">          sts_serial|  12|    100000|     100|0.61335749|  PASSED  \n",
       ">          sts_serial|  12|    100000|     100|0.97899901|  PASSED  \n",
       ">          sts_serial|  13|    100000|     100|0.97230502|  PASSED  \n",
       ">          sts_serial|  13|    100000|     100|0.72354553|  PASSED  \n",
       ">          sts_serial|  14|    100000|     100|0.97393273|  PASSED  \n",
       ">          sts_serial|  14|    100000|     100|0.95076125|  PASSED  \n",
       ">          sts_serial|  15|    100000|     100|0.99129001|  PASSED  \n",
       ">          sts_serial|  15|    100000|     100|0.71411858|  PASSED  \n",
       ">          sts_serial|  16|    100000|     100|0.71017220|  PASSED  \n",
       ">          sts_serial|  16|    100000|     100|0.70607497|  PASSED  \n",
       ">         rgb_bitdist|   1|    100000|     100|0.59288937|  PASSED  \n",
       ">         rgb_bitdist|   2|    100000|     100|0.59741758|  PASSED  \n",
       ">         rgb_bitdist|   3|    100000|     100|0.29997130|  PASSED  \n",
       ">         rgb_bitdist|   4|    100000|     100|0.63715538|  PASSED  \n",
       ">         rgb_bitdist|   5|    100000|     100|0.99664299|   WEAK   \n",
       ">         rgb_bitdist|   6|    100000|     100|0.85610802|  PASSED  \n",
       ">         rgb_bitdist|   7|    100000|     100|0.85960830|  PASSED  \n",
       ">         rgb_bitdist|   8|    100000|     100|0.71359400|  PASSED  \n",
       ">         rgb_bitdist|   9|    100000|     100|0.92956237|  PASSED  \n",
       ">         rgb_bitdist|  10|    100000|     100|0.97530660|  PASSED  \n",
       ">         rgb_bitdist|  11|    100000|     100|0.73642852|  PASSED  \n",
       ">         rgb_bitdist|  12|    100000|     100|0.35774185|  PASSED  \n",
       ">rgb_minimum_distance|   2|     10000|    1000|0.68694271|  PASSED  \n",
       ">rgb_minimum_distance|   3|     10000|    1000|0.16019588|  PASSED  \n",
       ">rgb_minimum_distance|   4|     10000|    1000|0.83375368|  PASSED  \n",
       ">rgb_minimum_distance|   5|     10000|    1000|0.46522187|  PASSED  \n",
       ">    rgb_permutations|   2|    100000|     100|0.75734753|  PASSED  \n",
       ">    rgb_permutations|   3|    100000|     100|0.66701678|  PASSED  \n",
       ">    rgb_permutations|   4|    100000|     100|0.90883938|  PASSED  \n",
       ">    rgb_permutations|   5|    100000|     100|0.73514914|  PASSED  \n",
       ">      rgb_lagged_sum|   0|   1000000|     100|0.06538443|  PASSED  \n",
       ">      rgb_lagged_sum|   1|   1000000|     100|0.03370633|  PASSED  \n",
       ">      rgb_lagged_sum|   2|   1000000|     100|0.88658015|  PASSED  \n",
       ">      rgb_lagged_sum|   3|   1000000|     100|0.69988229|  PASSED  \n",
       ">      rgb_lagged_sum|   4|   1000000|     100|0.98423966|  PASSED  \n",
       ">      rgb_lagged_sum|   5|   1000000|     100|0.88146405|  PASSED  \n",
       ">      rgb_lagged_sum|   6|   1000000|     100|0.99786752|   WEAK   \n",
       ">      rgb_lagged_sum|   7|   1000000|     100|0.28692419|  PASSED  \n",
       ">      rgb_lagged_sum|   8|   1000000|     100|0.66384564|  PASSED  \n",
       ">      rgb_lagged_sum|   9|   1000000|     100|0.71370680|  PASSED  \n",
       ">      rgb_lagged_sum|  10|   1000000|     100|0.51543596|  PASSED  \n",
       ">      rgb_lagged_sum|  11|   1000000|     100|0.59724441|  PASSED  \n",
       ">      rgb_lagged_sum|  12|   1000000|     100|0.35601967|  PASSED  \n",
       ">      rgb_lagged_sum|  13|   1000000|     100|0.11055686|  PASSED  \n",
       ">      rgb_lagged_sum|  14|   1000000|     100|0.99892059|   WEAK   \n",
       ">      rgb_lagged_sum|  15|   1000000|     100|0.71709619|  PASSED  \n",
       ">      rgb_lagged_sum|  16|   1000000|     100|0.71004876|  PASSED  \n",
       ">      rgb_lagged_sum|  17|   1000000|     100|0.66809743|  PASSED  \n",
       ">      rgb_lagged_sum|  18|   1000000|     100|0.15885407|  PASSED  \n",
       ">      rgb_lagged_sum|  19|   1000000|     100|0.73441639|  PASSED  \n",
       ">      rgb_lagged_sum|  20|   1000000|     100|0.31449392|  PASSED  \n",
       ">      rgb_lagged_sum|  21|   1000000|     100|0.85366824|  PASSED  \n",
       ">      rgb_lagged_sum|  22|   1000000|     100|0.48478604|  PASSED  \n",
       ">      rgb_lagged_sum|  23|   1000000|     100|0.50017492|  PASSED  \n",
       ">      rgb_lagged_sum|  24|   1000000|     100|0.92858514|  PASSED  \n",
       ">      rgb_lagged_sum|  25|   1000000|     100|0.66997933|  PASSED  \n",
       ">      rgb_lagged_sum|  26|   1000000|     100|0.53589301|  PASSED  \n",
       ">      rgb_lagged_sum|  27|   1000000|     100|0.06580404|  PASSED  \n",
       ">      rgb_lagged_sum|  28|   1000000|     100|0.95978049|  PASSED  \n",
       ">      rgb_lagged_sum|  29|   1000000|     100|0.93882993|  PASSED  \n",
       ">      rgb_lagged_sum|  30|   1000000|     100|0.19567500|  PASSED  \n",
       ">      rgb_lagged_sum|  31|   1000000|     100|0.81748300|  PASSED  \n",
       ">      rgb_lagged_sum|  32|   1000000|     100|0.00894091|  PASSED  \n",
       ">     rgb_kstest_test|   0|     10000|    1000|0.70380079|  PASSED  \n",
       ">     dab_bytedistrib|   0|  51200000|       1|0.12634757|  PASSED  \n",
       ">             dab_dct| 256|     50000|       1|0.47754244|  PASSED  \n",
       ">Preparing to run test 207.  ntuple = 0\n",
       ">        dab_filltree|  32|  15000000|       1|0.35321775|  PASSED  \n",
       ">        dab_filltree|  32|  15000000|       1|0.36481123|  PASSED  \n",
       ">Preparing to run test 208.  ntuple = 0\n",
       ">       dab_filltree2|   0|   5000000|       1|0.87625241|  PASSED  \n",
       ">       dab_filltree2|   1|   5000000|       1|0.86010964|  PASSED  \n",
       ">Preparing to run test 209.  ntuple = 0\n",
       ">        dab_monobit2|  12|  65000000|       1|0.48980140|  PASSED  \n",
       ">"
      ],
      "text/plain": [
       "<IPython.core.display.Markdown object>"
      ]
     },
     "metadata": {},
     "output_type": "display_data"
    },
    {
     "data": {
      "text/markdown": [
       "#### Parameters:"
      ],
      "text/plain": [
       "<IPython.core.display.Markdown object>"
      ]
     },
     "metadata": {},
     "output_type": "display_data"
    },
    {
     "data": {
      "text/markdown": [
       "* seeds: [151306469321793916]"
      ],
      "text/plain": [
       "<IPython.core.display.Markdown object>"
      ]
     },
     "metadata": {},
     "output_type": "display_data"
    }
   ],
   "source": [
    "for mode in [\"Monolithic\", \"Independent\", \"IndependentSimulation\", \"IndependentSimulationNoDispersal\"]:\n",
    "    seeds = np.random.randint(0, np.iinfo(\"uint64\").max, dtype=\"uint64\", size=1)\n",
    "    \n",
    "    test_randomness_dieharder(mode, seeds=seeds, args=[\"-a\"])"
   ]
  },
  {
   "cell_type": "code",
   "execution_count": null,
   "id": "c0374345-76bb-4e21-aedb-96807f17e94b",
   "metadata": {},
   "outputs": [],
   "source": []
  }
 ],
 "metadata": {
  "kernelspec": {
   "display_name": "Python 3",
   "language": "python",
   "name": "python3"
  },
  "language_info": {
   "codemirror_mode": {
    "name": "ipython",
    "version": 3
   },
   "file_extension": ".py",
   "mimetype": "text/x-python",
   "name": "python",
   "nbconvert_exporter": "python",
   "pygments_lexer": "ipython3",
   "version": "3.7.5"
  }
 },
 "nbformat": 4,
 "nbformat_minor": 5
}
