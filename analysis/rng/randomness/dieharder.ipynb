{
 "cells": [
  {
   "cell_type": "code",
   "execution_count": null,
   "id": "e6cf3d7f-e1fa-4151-ab67-3070dc4b136e",
   "metadata": {
    "jupyter": {
     "source_hidden": true
    },
    "tags": []
   },
   "outputs": [],
   "source": [
    "import subprocess\n",
    "import shlex\n",
    "import re\n",
    "\n",
    "import numpy as np\n",
    "\n",
    "from IPython.display import display, Markdown\n",
    "from tqdm import tqdm"
   ]
  },
  {
   "cell_type": "code",
   "execution_count": null,
   "id": "c3012526-a3bc-404d-9ae9-577b4b5859e6",
   "metadata": {
    "jupyter": {
     "source_hidden": true
    },
    "tags": []
   },
   "outputs": [],
   "source": [
    "CC_PATTERN = re.compile(r\"(?<!^)(?=[A-Z])\")"
   ]
  },
  {
   "cell_type": "markdown",
   "id": "f94398f5-84b5-4238-807f-def3d7cdbe3d",
   "metadata": {},
   "source": [
    "# Dieharder - A Random Number Test Suite"
   ]
  },
  {
   "cell_type": "code",
   "execution_count": null,
   "id": "fd844300-147b-4440-91e7-0539d5a153d4",
   "metadata": {
    "jupyter": {
     "source_hidden": true
    },
    "tags": []
   },
   "outputs": [],
   "source": [
    "def test_randomness_dieharder(\n",
    "    mode, seeds=[42], args=[]\n",
    "):\n",
    "    outputs = []\n",
    "    \n",
    "    for seed in tqdm(seeds):\n",
    "        generator = subprocess.Popen(shlex.split(\n",
    "            f\"cargo run --release --quiet -- --seed {seed} {CC_PATTERN.sub('-', mode).lower()}\"\n",
    "        ), stdout=subprocess.PIPE)\n",
    "        dieharder = subprocess.run(\n",
    "            shlex.split(f\"dieharder -g 200\") + args, stdin=generator.stdout,\n",
    "            check=True, capture_output=True, text=True\n",
    "        )\n",
    "\n",
    "        outputs.append(dieharder.stdout)\n",
    "        \n",
    "    most_suspect = None\n",
    "    \n",
    "    for output in outputs:\n",
    "        failures = output.count(\"FAILED\")\n",
    "        weaks = output.count(\"WEAK\")\n",
    "        \n",
    "        suspicion = failures * 10 + weaks\n",
    "        \n",
    "        if (most_suspect is None) or (suspicion > most_suspect[0]):\n",
    "            most_suspect = (suspicion, output)\n",
    "\n",
    "    if \"FAILED\" in most_suspect[1]:\n",
    "        display(Markdown(f\"## <span style='color:red'><u>{mode}</u></span>\"))\n",
    "    elif \"WEAK\" in most_suspect[1]:\n",
    "        display(Markdown(f\"## <span style='color:orange'>*{mode}*</span>\"))\n",
    "    else:\n",
    "        display(Markdown(f\"## <span style='color:green'>{mode}</span>\"))\n",
    "        \n",
    "    display(Markdown(\"#### Test output (most suspect):\"))\n",
    "    display(Markdown(\">\" + most_suspect[1].replace('\\n', '\\n>')))\n",
    "\n",
    "    display(Markdown(\"#### Parameters:\"))\n",
    "    display(Markdown(f\"* seeds: {seeds}\"))"
   ]
  },
  {
   "cell_type": "code",
   "execution_count": null,
   "id": "67293f51-2986-4f66-ad17-738be127e82c",
   "metadata": {},
   "outputs": [],
   "source": [
    "for mode in [\"Monolithic\", \"Independent\", \"IndependentSimulation\", \"IndependentSimulationNoDispersal\"]:\n",
    "    seeds = np.random.randint(0, np.iinfo(\"uint64\").max, dtype=\"uint64\", size=1)\n",
    "    \n",
    "    test_randomness_dieharder(mode, seeds=seeds, args=[\"-a\"])"
   ]
  },
  {
   "cell_type": "code",
   "execution_count": null,
   "id": "c0374345-76bb-4e21-aedb-96807f17e94b",
   "metadata": {},
   "outputs": [],
   "source": []
  }
 ],
 "metadata": {
  "kernelspec": {
   "display_name": "Python 3",
   "language": "python",
   "name": "python3"
  },
  "language_info": {
   "codemirror_mode": {
    "name": "ipython",
    "version": 3
   },
   "file_extension": ".py",
   "mimetype": "text/x-python",
   "name": "python",
   "nbconvert_exporter": "python",
   "pygments_lexer": "ipython3",
   "version": "3.8.8"
  }
 },
 "nbformat": 4,
 "nbformat_minor": 5
}
