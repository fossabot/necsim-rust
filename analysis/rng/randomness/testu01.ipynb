{
 "cells": [
  {
   "cell_type": "code",
   "execution_count": null,
   "id": "e6cf3d7f-e1fa-4151-ab67-3070dc4b136e",
   "metadata": {
    "jupyter": {
     "source_hidden": true
    },
    "tags": []
   },
   "outputs": [],
   "source": [
    "import subprocess\n",
    "import shlex\n",
    "import re\n",
    "\n",
    "import numpy as np\n",
    "\n",
    "from IPython.display import display, Markdown\n",
    "from tqdm import tqdm"
   ]
  },
  {
   "cell_type": "code",
   "execution_count": null,
   "id": "c3012526-a3bc-404d-9ae9-577b4b5859e6",
   "metadata": {
    "jupyter": {
     "source_hidden": true
    },
    "tags": []
   },
   "outputs": [],
   "source": [
    "CC_PATTERN = re.compile(r\"(?<!^)(?=[A-Z])\")"
   ]
  },
  {
   "cell_type": "markdown",
   "id": "f94398f5-84b5-4238-807f-def3d7cdbe3d",
   "metadata": {},
   "source": [
    "# TestU01 - empirical randomness testing"
   ]
  },
  {
   "cell_type": "code",
   "execution_count": null,
   "id": "fd844300-147b-4440-91e7-0539d5a153d4",
   "metadata": {
    "jupyter": {
     "source_hidden": true
    },
    "tags": []
   },
   "outputs": [],
   "source": [
    "def test_randomness_testu01(\n",
    "    mode, seeds=[42], args=[]\n",
    "):\n",
    "    outputs = []\n",
    "    \n",
    "    for seed in tqdm(seeds):\n",
    "        generator = subprocess.Popen(shlex.split(\n",
    "            f\"cargo run --release --quiet -- --seed {seed} {CC_PATTERN.sub('-', mode).lower()}\"\n",
    "        ), stdout=subprocess.PIPE)\n",
    "        testu01 = subprocess.run(\n",
    "            shlex.split(f\"./testu01\") + args, stdin=generator.stdout,\n",
    "            check=True, capture_output=True, text=True\n",
    "        )\n",
    "\n",
    "        outputs.append(testu01.stdout)\n",
    "        \n",
    "    most_suspect = None\n",
    "    \n",
    "    for output in outputs:\n",
    "        summary_index = output.find(\"Summary results\")\n",
    "        failing_beg_index = output.find(\"----------------------------------------------\", summary_index)\n",
    "        \n",
    "        if failing_beg_index == -1:\n",
    "            failing_tests = 0\n",
    "        else:\n",
    "            failing_end_index = output.find(\"----------------------------------------------\", failing_beg_index + 46)\n",
    "        \n",
    "            failing_tests = output[failing_beg_index:failing_end_index].count(\"\\n\") - 1\n",
    "        \n",
    "        if (most_suspect is None) or (failing_tests > most_suspect[0]):\n",
    "            most_suspect = (failing_tests, output)\n",
    "    \n",
    "    \n",
    "\n",
    "    if \"All other tests were passed\" in most_suspect[1]:\n",
    "        display(Markdown(f\"## <span style='color:red'><u>{mode}</u></span>\"))\n",
    "    else:\n",
    "        display(Markdown(f\"## <span style='color:green'>{mode}</span>\"))\n",
    "        \n",
    "    display(Markdown(\"#### Test output (most suspect):\"))\n",
    "    display(Markdown(\">\" + most_suspect[1].replace('\\n', '\\n>')))\n",
    "\n",
    "    display(Markdown(\"#### Parameters:\"))\n",
    "    display(Markdown(f\"* seeds: {seeds}\"))"
   ]
  },
  {
   "cell_type": "code",
   "execution_count": null,
   "id": "67293f51-2986-4f66-ad17-738be127e82c",
   "metadata": {},
   "outputs": [],
   "source": [
    "for mode in [\"Monolithic\", \"Independent\", \"IndependentSimulation\", \"IndependentSimulationNoDispersal\"]:\n",
    "    seeds = np.random.randint(0, np.iinfo(\"uint64\").max, dtype=\"uint64\", size=1)\n",
    "    \n",
    "    test_randomness_testu01(mode, seeds=seeds, args=[\"-s\"])\n",
    "    test_randomness_testu01(mode, seeds=seeds, args=[\"-s\", \"-H\"])\n",
    "    \n",
    "    test_randomness_testu01(mode, seeds=seeds, args=[\"-c\"])\n",
    "    test_randomness_testu01(mode, seeds=seeds, args=[\"-c\", \"-H\"])\n",
    "    \n",
    "    test_randomness_testu01(mode, seeds=seeds, args=[\"-b\"])\n",
    "    test_randomness_testu01(mode, seeds=seeds, args=[\"-b\", \"-H\"])"
   ]
  },
  {
   "cell_type": "code",
   "execution_count": null,
   "id": "c0374345-76bb-4e21-aedb-96807f17e94b",
   "metadata": {},
   "outputs": [],
   "source": []
  }
 ],
 "metadata": {
  "kernelspec": {
   "display_name": "Python 3",
   "language": "python",
   "name": "python3"
  },
  "language_info": {
   "codemirror_mode": {
    "name": "ipython",
    "version": 3
   },
   "file_extension": ".py",
   "mimetype": "text/x-python",
   "name": "python",
   "nbconvert_exporter": "python",
   "pygments_lexer": "ipython3",
   "version": "3.7.5"
  }
 },
 "nbformat": 4,
 "nbformat_minor": 5
}
