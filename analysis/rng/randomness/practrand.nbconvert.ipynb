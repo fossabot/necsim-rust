{
 "cells": [
  {
   "cell_type": "code",
   "execution_count": 1,
   "id": "e6cf3d7f-e1fa-4151-ab67-3070dc4b136e",
   "metadata": {
    "execution": {
     "iopub.execute_input": "2021-05-31T19:59:18.415730Z",
     "iopub.status.busy": "2021-05-31T19:59:18.415088Z",
     "iopub.status.idle": "2021-05-31T19:59:18.556380Z",
     "shell.execute_reply": "2021-05-31T19:59:18.556971Z"
    },
    "jupyter": {
     "source_hidden": true
    },
    "tags": []
   },
   "outputs": [],
   "source": [
    "import subprocess\n",
    "import shlex\n",
    "import re\n",
    "\n",
    "import numpy as np\n",
    "\n",
    "from IPython.display import display, Markdown\n",
    "from tqdm import tqdm"
   ]
  },
  {
   "cell_type": "code",
   "execution_count": 2,
   "id": "c3012526-a3bc-404d-9ae9-577b4b5859e6",
   "metadata": {
    "execution": {
     "iopub.execute_input": "2021-05-31T19:59:18.561543Z",
     "iopub.status.busy": "2021-05-31T19:59:18.560778Z",
     "iopub.status.idle": "2021-05-31T19:59:18.562812Z",
     "shell.execute_reply": "2021-05-31T19:59:18.563387Z"
    },
    "jupyter": {
     "source_hidden": true
    },
    "tags": []
   },
   "outputs": [],
   "source": [
    "CC_PATTERN = re.compile(r\"(?<!^)(?=[A-Z])\")"
   ]
  },
  {
   "cell_type": "markdown",
   "id": "f94398f5-84b5-4238-807f-def3d7cdbe3d",
   "metadata": {},
   "source": [
    "# PractRand (Practically Random) - statistical tests for RNGs"
   ]
  },
  {
   "cell_type": "code",
   "execution_count": 3,
   "id": "fd844300-147b-4440-91e7-0539d5a153d4",
   "metadata": {
    "execution": {
     "iopub.execute_input": "2021-05-31T19:59:18.572709Z",
     "iopub.status.busy": "2021-05-31T19:59:18.571893Z",
     "iopub.status.idle": "2021-05-31T19:59:18.573751Z",
     "shell.execute_reply": "2021-05-31T19:59:18.574379Z"
    },
    "jupyter": {
     "source_hidden": true
    },
    "tags": []
   },
   "outputs": [],
   "source": [
    "def test_randomness_practrand(\n",
    "    mode, seeds=[42], limit='1GB',\n",
    "):\n",
    "    outputs = []\n",
    "    \n",
    "    for seed in tqdm(seeds):\n",
    "        generator = subprocess.Popen(shlex.split(\n",
    "            f\"cargo run --release --quiet -- --seed {seed} {CC_PATTERN.sub('-', mode).lower()}\"\n",
    "        ), stdout=subprocess.PIPE)\n",
    "        practrand = subprocess.run(\n",
    "            shlex.split(f\"./practrand stdin64 -tlmax {limit}\"), stdin=generator.stdout,\n",
    "            check=True, capture_output=True, text=True\n",
    "        )\n",
    "\n",
    "        outputs.append(practrand.stdout)\n",
    "        \n",
    "    most_suspect = None\n",
    "    \n",
    "    for output in outputs:\n",
    "        failures = output.count(\"FAIL\")\n",
    "        suspicions = output.count(\"SUSPICIOUS\") * 2 + output.count(\"suspicious\")\n",
    "        unusuals = output.count(\"unusual\")\n",
    "        \n",
    "        suspicion = failures * 10 + suspicions * 2 + unusuals\n",
    "        \n",
    "        if (most_suspect is None) or (suspicion > most_suspect[0]):\n",
    "            most_suspect = (suspicion, output)\n",
    "\n",
    "    if \"FAIL\" in most_suspect[1]:\n",
    "        display(Markdown(f\"## <span style='color:purple'><u>{mode}</u></span>\"))\n",
    "    elif \"SUSPICIOUS\" in most_suspect[1]:\n",
    "        display(Markdown(f\"## <span style='color:red'><u>{mode}</u></span>\"))\n",
    "    elif \"suspicious\" in most_suspect[1]:\n",
    "        display(Markdown(f\"## <span style='color:orange'>*{mode}*</span>\"))\n",
    "    else:\n",
    "        display(Markdown(f\"## <span style='color:green'>{mode}</span>\"))\n",
    "        \n",
    "    display(Markdown(\"#### Test output (most suspect):\"))\n",
    "    display(Markdown(\">\" + most_suspect[1].replace('\\n', '\\n>')))\n",
    "\n",
    "    display(Markdown(\"#### Parameters:\"))\n",
    "    display(Markdown(f\"* seeds: {seeds}\\n* limit: {limit}\"))"
   ]
  },
  {
   "cell_type": "code",
   "execution_count": 4,
   "id": "67293f51-2986-4f66-ad17-738be127e82c",
   "metadata": {
    "execution": {
     "iopub.execute_input": "2021-05-31T19:59:18.578605Z",
     "iopub.status.busy": "2021-05-31T19:59:18.577795Z",
     "iopub.status.idle": "2021-06-04T06:01:37.271135Z",
     "shell.execute_reply": "2021-06-04T06:01:37.271708Z"
    }
   },
   "outputs": [
    {
     "name": "stderr",
     "output_type": "stream",
     "text": [
      "100%|██████████| 10/10 [18:50:56<00:00, 6785.70s/it]\n"
     ]
    },
    {
     "data": {
      "text/markdown": [
       "## <span style='color:green'>Monolithic</span>"
      ],
      "text/plain": [
       "<IPython.core.display.Markdown object>"
      ]
     },
     "metadata": {},
     "output_type": "display_data"
    },
    {
     "data": {
      "text/markdown": [
       "#### Test output (most suspect):"
      ],
      "text/plain": [
       "<IPython.core.display.Markdown object>"
      ]
     },
     "metadata": {},
     "output_type": "display_data"
    },
    {
     "data": {
      "text/markdown": [
       ">RNG_test using PractRand version 0.95\n",
       ">RNG = RNG_stdin64, seed = unknown\n",
       ">test set = core, folding = standard (64 bit)\n",
       ">\n",
       ">rng=RNG_stdin64, seed=unknown\n",
       ">length= 256 megabytes (2^28 bytes), time= 3.2 seconds\n",
       ">  Test Name                         Raw       Processed     Evaluation\n",
       ">  [Low4/64]mod3n(5):(1,9-6)         R= +10.7  p =  1.6e-4   unusual          \n",
       ">  ...and 212 test result(s) without anomalies\n",
       ">\n",
       ">rng=RNG_stdin64, seed=unknown\n",
       ">length= 512 megabytes (2^29 bytes), time= 7.9 seconds\n",
       ">  no anomalies in 229 test result(s)\n",
       ">\n",
       ">rng=RNG_stdin64, seed=unknown\n",
       ">length= 1 gigabyte (2^30 bytes), time= 15.9 seconds\n",
       ">  no anomalies in 246 test result(s)\n",
       ">\n",
       ">rng=RNG_stdin64, seed=unknown\n",
       ">length= 2 gigabytes (2^31 bytes), time= 30.7 seconds\n",
       ">  no anomalies in 263 test result(s)\n",
       ">\n",
       ">rng=RNG_stdin64, seed=unknown\n",
       ">length= 4 gigabytes (2^32 bytes), time= 58.5 seconds\n",
       ">  no anomalies in 279 test result(s)\n",
       ">\n",
       ">rng=RNG_stdin64, seed=unknown\n",
       ">length= 8 gigabytes (2^33 bytes), time= 115 seconds\n",
       ">  Test Name                         Raw       Processed     Evaluation\n",
       ">  [Low4/64]DC6-9x1Bytes-1           R=  -5.1  p =1-1.4e-3   unusual          \n",
       ">  ...and 294 test result(s) without anomalies\n",
       ">\n",
       ">rng=RNG_stdin64, seed=unknown\n",
       ">length= 16 gigabytes (2^34 bytes), time= 224 seconds\n",
       ">  Test Name                         Raw       Processed     Evaluation\n",
       ">  Gap-16:B                          R=  -4.6  p =1-7.7e-4   unusual          \n",
       ">  [Low4/64]DC6-9x1Bytes-1           R=  -5.0  p =1-1.7e-3   unusual          \n",
       ">  ...and 309 test result(s) without anomalies\n",
       ">\n",
       ">rng=RNG_stdin64, seed=unknown\n",
       ">length= 32 gigabytes (2^35 bytes), time= 435 seconds\n",
       ">  no anomalies in 325 test result(s)\n",
       ">\n",
       ">rng=RNG_stdin64, seed=unknown\n",
       ">length= 64 gigabytes (2^36 bytes), time= 861 seconds\n",
       ">  no anomalies in 340 test result(s)\n",
       ">\n",
       ">rng=RNG_stdin64, seed=unknown\n",
       ">length= 128 gigabytes (2^37 bytes), time= 1714 seconds\n",
       ">  no anomalies in 355 test result(s)\n",
       ">\n",
       ">rng=RNG_stdin64, seed=unknown\n",
       ">length= 256 gigabytes (2^38 bytes), time= 3392 seconds\n",
       ">  no anomalies in 369 test result(s)\n",
       ">\n",
       ">rng=RNG_stdin64, seed=unknown\n",
       ">length= 512 gigabytes (2^39 bytes), time= 6809 seconds\n",
       ">  no anomalies in 383 test result(s)\n",
       ">\n",
       ">"
      ],
      "text/plain": [
       "<IPython.core.display.Markdown object>"
      ]
     },
     "metadata": {},
     "output_type": "display_data"
    },
    {
     "data": {
      "text/markdown": [
       "#### Parameters:"
      ],
      "text/plain": [
       "<IPython.core.display.Markdown object>"
      ]
     },
     "metadata": {},
     "output_type": "display_data"
    },
    {
     "data": {
      "text/markdown": [
       "* seeds: [10165549352600017364 13835482081355102372  9869759393293178775\n",
       "  8833701590480416160 17914567636832535091 17200054720315985398\n",
       "  9427978380595906984  8272203389632454696 16381104809180629894\n",
       " 15949288707473585343]\n",
       "* limit: 512GB"
      ],
      "text/plain": [
       "<IPython.core.display.Markdown object>"
      ]
     },
     "metadata": {},
     "output_type": "display_data"
    },
    {
     "name": "stderr",
     "output_type": "stream",
     "text": [
      "100%|██████████| 10/10 [18:44:00<00:00, 6744.07s/it]\n"
     ]
    },
    {
     "data": {
      "text/markdown": [
       "## <span style='color:green'>Independent</span>"
      ],
      "text/plain": [
       "<IPython.core.display.Markdown object>"
      ]
     },
     "metadata": {},
     "output_type": "display_data"
    },
    {
     "data": {
      "text/markdown": [
       "#### Test output (most suspect):"
      ],
      "text/plain": [
       "<IPython.core.display.Markdown object>"
      ]
     },
     "metadata": {},
     "output_type": "display_data"
    },
    {
     "data": {
      "text/markdown": [
       ">RNG_test using PractRand version 0.95\n",
       ">RNG = RNG_stdin64, seed = unknown\n",
       ">test set = core, folding = standard (64 bit)\n",
       ">\n",
       ">rng=RNG_stdin64, seed=unknown\n",
       ">length= 256 megabytes (2^28 bytes), time= 3.4 seconds\n",
       ">  Test Name                         Raw       Processed     Evaluation\n",
       ">  DC6-9x1Bytes-1                    R=  -4.9  p =1-1.8e-3   unusual          \n",
       ">  ...and 212 test result(s) without anomalies\n",
       ">\n",
       ">rng=RNG_stdin64, seed=unknown\n",
       ">length= 512 megabytes (2^29 bytes), time= 8.2 seconds\n",
       ">  no anomalies in 229 test result(s)\n",
       ">\n",
       ">rng=RNG_stdin64, seed=unknown\n",
       ">length= 1 gigabyte (2^30 bytes), time= 16.3 seconds\n",
       ">  no anomalies in 246 test result(s)\n",
       ">\n",
       ">rng=RNG_stdin64, seed=unknown\n",
       ">length= 2 gigabytes (2^31 bytes), time= 31.0 seconds\n",
       ">  no anomalies in 263 test result(s)\n",
       ">\n",
       ">rng=RNG_stdin64, seed=unknown\n",
       ">length= 4 gigabytes (2^32 bytes), time= 58.7 seconds\n",
       ">  no anomalies in 279 test result(s)\n",
       ">\n",
       ">rng=RNG_stdin64, seed=unknown\n",
       ">length= 8 gigabytes (2^33 bytes), time= 113 seconds\n",
       ">  Test Name                         Raw       Processed     Evaluation\n",
       ">  Gap-16:B                          R=  +5.0  p =  3.4e-4   unusual          \n",
       ">  ...and 294 test result(s) without anomalies\n",
       ">\n",
       ">rng=RNG_stdin64, seed=unknown\n",
       ">length= 16 gigabytes (2^34 bytes), time= 220 seconds\n",
       ">  no anomalies in 311 test result(s)\n",
       ">\n",
       ">rng=RNG_stdin64, seed=unknown\n",
       ">length= 32 gigabytes (2^35 bytes), time= 428 seconds\n",
       ">  Test Name                         Raw       Processed     Evaluation\n",
       ">  Gap-16:B                          R=  +5.1  p =  3.0e-4   unusual          \n",
       ">  ...and 324 test result(s) without anomalies\n",
       ">\n",
       ">rng=RNG_stdin64, seed=unknown\n",
       ">length= 64 gigabytes (2^36 bytes), time= 852 seconds\n",
       ">  no anomalies in 340 test result(s)\n",
       ">\n",
       ">rng=RNG_stdin64, seed=unknown\n",
       ">length= 128 gigabytes (2^37 bytes), time= 1695 seconds\n",
       ">  no anomalies in 355 test result(s)\n",
       ">\n",
       ">rng=RNG_stdin64, seed=unknown\n",
       ">length= 256 gigabytes (2^38 bytes), time= 3359 seconds\n",
       ">  no anomalies in 369 test result(s)\n",
       ">\n",
       ">rng=RNG_stdin64, seed=unknown\n",
       ">length= 512 gigabytes (2^39 bytes), time= 6719 seconds\n",
       ">  no anomalies in 383 test result(s)\n",
       ">\n",
       ">"
      ],
      "text/plain": [
       "<IPython.core.display.Markdown object>"
      ]
     },
     "metadata": {},
     "output_type": "display_data"
    },
    {
     "data": {
      "text/markdown": [
       "#### Parameters:"
      ],
      "text/plain": [
       "<IPython.core.display.Markdown object>"
      ]
     },
     "metadata": {},
     "output_type": "display_data"
    },
    {
     "data": {
      "text/markdown": [
       "* seeds: [17920086259865123818   104860957359175161 12507797055008058722\n",
       "  3745822864635935521 15701716604713616337  9930100892125287869\n",
       "  5245063987776943628 17980772352567170911  8357349721656982111\n",
       " 12148344479488614856]\n",
       "* limit: 512GB"
      ],
      "text/plain": [
       "<IPython.core.display.Markdown object>"
      ]
     },
     "metadata": {},
     "output_type": "display_data"
    },
    {
     "name": "stderr",
     "output_type": "stream",
     "text": [
      "100%|██████████| 10/10 [21:46:49<00:00, 7840.96s/it]\n"
     ]
    },
    {
     "data": {
      "text/markdown": [
       "## <span style='color:green'>IndependentSimulation</span>"
      ],
      "text/plain": [
       "<IPython.core.display.Markdown object>"
      ]
     },
     "metadata": {},
     "output_type": "display_data"
    },
    {
     "data": {
      "text/markdown": [
       "#### Test output (most suspect):"
      ],
      "text/plain": [
       "<IPython.core.display.Markdown object>"
      ]
     },
     "metadata": {},
     "output_type": "display_data"
    },
    {
     "data": {
      "text/markdown": [
       ">RNG_test using PractRand version 0.95\n",
       ">RNG = RNG_stdin64, seed = unknown\n",
       ">test set = core, folding = standard (64 bit)\n",
       ">\n",
       ">rng=RNG_stdin64, seed=unknown\n",
       ">length= 128 megabytes (2^27 bytes), time= 2.0 seconds\n",
       ">  Test Name                         Raw       Processed     Evaluation\n",
       ">  [Low4/64]DC6-9x1Bytes-1           R=  -4.3  p =1-4.0e-3   unusual          \n",
       ">  ...and 195 test result(s) without anomalies\n",
       ">\n",
       ">rng=RNG_stdin64, seed=unknown\n",
       ">length= 256 megabytes (2^28 bytes), time= 5.4 seconds\n",
       ">  no anomalies in 213 test result(s)\n",
       ">\n",
       ">rng=RNG_stdin64, seed=unknown\n",
       ">length= 512 megabytes (2^29 bytes), time= 10.6 seconds\n",
       ">  no anomalies in 229 test result(s)\n",
       ">\n",
       ">rng=RNG_stdin64, seed=unknown\n",
       ">length= 1 gigabyte (2^30 bytes), time= 19.8 seconds\n",
       ">  no anomalies in 246 test result(s)\n",
       ">\n",
       ">rng=RNG_stdin64, seed=unknown\n",
       ">length= 2 gigabytes (2^31 bytes), time= 36.3 seconds\n",
       ">  no anomalies in 263 test result(s)\n",
       ">\n",
       ">rng=RNG_stdin64, seed=unknown\n",
       ">length= 4 gigabytes (2^32 bytes), time= 68.1 seconds\n",
       ">  no anomalies in 279 test result(s)\n",
       ">\n",
       ">rng=RNG_stdin64, seed=unknown\n",
       ">length= 8 gigabytes (2^33 bytes), time= 133 seconds\n",
       ">  no anomalies in 295 test result(s)\n",
       ">\n",
       ">rng=RNG_stdin64, seed=unknown\n",
       ">length= 16 gigabytes (2^34 bytes), time= 261 seconds\n",
       ">  no anomalies in 311 test result(s)\n",
       ">\n",
       ">rng=RNG_stdin64, seed=unknown\n",
       ">length= 32 gigabytes (2^35 bytes), time= 511 seconds\n",
       ">  no anomalies in 325 test result(s)\n",
       ">\n",
       ">rng=RNG_stdin64, seed=unknown\n",
       ">length= 64 gigabytes (2^36 bytes), time= 1013 seconds\n",
       ">  no anomalies in 340 test result(s)\n",
       ">\n",
       ">rng=RNG_stdin64, seed=unknown\n",
       ">length= 128 gigabytes (2^37 bytes), time= 1981 seconds\n",
       ">  Test Name                         Raw       Processed     Evaluation\n",
       ">  [Low1/64]DC6-9x1Bytes-1           R=  -4.6  p =1-3.5e-3   unusual          \n",
       ">  ...and 354 test result(s) without anomalies\n",
       ">\n",
       ">rng=RNG_stdin64, seed=unknown\n",
       ">length= 256 gigabytes (2^38 bytes), time= 3935 seconds\n",
       ">  no anomalies in 369 test result(s)\n",
       ">\n",
       ">rng=RNG_stdin64, seed=unknown\n",
       ">length= 512 gigabytes (2^39 bytes), time= 7897 seconds\n",
       ">  no anomalies in 383 test result(s)\n",
       ">\n",
       ">"
      ],
      "text/plain": [
       "<IPython.core.display.Markdown object>"
      ]
     },
     "metadata": {},
     "output_type": "display_data"
    },
    {
     "data": {
      "text/markdown": [
       "#### Parameters:"
      ],
      "text/plain": [
       "<IPython.core.display.Markdown object>"
      ]
     },
     "metadata": {},
     "output_type": "display_data"
    },
    {
     "data": {
      "text/markdown": [
       "* seeds: [ 2271186562651107017 16382952990578102705 11996276894812884589\n",
       " 15333439518851875713 11881622529790626182 11814729801349354491\n",
       " 13233639517204458636  8372053057235169069 17528571689586191924\n",
       "  6844921076329936793]\n",
       "* limit: 512GB"
      ],
      "text/plain": [
       "<IPython.core.display.Markdown object>"
      ]
     },
     "metadata": {},
     "output_type": "display_data"
    },
    {
     "name": "stderr",
     "output_type": "stream",
     "text": [
      "100%|██████████| 10/10 [22:40:31<00:00, 8163.14s/it]\n"
     ]
    },
    {
     "data": {
      "text/markdown": [
       "## <span style='color:green'>IndependentSimulationNoDispersal</span>"
      ],
      "text/plain": [
       "<IPython.core.display.Markdown object>"
      ]
     },
     "metadata": {},
     "output_type": "display_data"
    },
    {
     "data": {
      "text/markdown": [
       "#### Test output (most suspect):"
      ],
      "text/plain": [
       "<IPython.core.display.Markdown object>"
      ]
     },
     "metadata": {},
     "output_type": "display_data"
    },
    {
     "data": {
      "text/markdown": [
       ">RNG_test using PractRand version 0.95\n",
       ">RNG = RNG_stdin64, seed = unknown\n",
       ">test set = core, folding = standard (64 bit)\n",
       ">\n",
       ">rng=RNG_stdin64, seed=unknown\n",
       ">length= 128 megabytes (2^27 bytes), time= 2.1 seconds\n",
       ">  no anomalies in 196 test result(s)\n",
       ">\n",
       ">rng=RNG_stdin64, seed=unknown\n",
       ">length= 256 megabytes (2^28 bytes), time= 5.5 seconds\n",
       ">  no anomalies in 213 test result(s)\n",
       ">\n",
       ">rng=RNG_stdin64, seed=unknown\n",
       ">length= 512 megabytes (2^29 bytes), time= 11.2 seconds\n",
       ">  no anomalies in 229 test result(s)\n",
       ">\n",
       ">rng=RNG_stdin64, seed=unknown\n",
       ">length= 1 gigabyte (2^30 bytes), time= 20.6 seconds\n",
       ">  Test Name                         Raw       Processed     Evaluation\n",
       ">  [Low1/64]DC6-9x1Bytes-1           R=  +6.4  p =  2.2e-3   unusual          \n",
       ">  [Low1/64]mod3n(5):(0,9-6)         R= +12.4  p =  4.4e-5   unusual          \n",
       ">  ...and 244 test result(s) without anomalies\n",
       ">\n",
       ">rng=RNG_stdin64, seed=unknown\n",
       ">length= 2 gigabytes (2^31 bytes), time= 37.8 seconds\n",
       ">  Test Name                         Raw       Processed     Evaluation\n",
       ">  [Low1/64]DC6-9x1Bytes-1           R=  +6.9  p =  7.2e-4   unusual          \n",
       ">  ...and 262 test result(s) without anomalies\n",
       ">\n",
       ">rng=RNG_stdin64, seed=unknown\n",
       ">length= 4 gigabytes (2^32 bytes), time= 70.5 seconds\n",
       ">  Test Name                         Raw       Processed     Evaluation\n",
       ">  [Low1/64]mod3n(5):(0,9-6)         R= +10.7  p =  1.6e-4   unusual          \n",
       ">  ...and 278 test result(s) without anomalies\n",
       ">\n",
       ">rng=RNG_stdin64, seed=unknown\n",
       ">length= 8 gigabytes (2^33 bytes), time= 135 seconds\n",
       ">  no anomalies in 295 test result(s)\n",
       ">\n",
       ">rng=RNG_stdin64, seed=unknown\n",
       ">length= 16 gigabytes (2^34 bytes), time= 263 seconds\n",
       ">  no anomalies in 311 test result(s)\n",
       ">\n",
       ">rng=RNG_stdin64, seed=unknown\n",
       ">length= 32 gigabytes (2^35 bytes), time= 513 seconds\n",
       ">  no anomalies in 325 test result(s)\n",
       ">\n",
       ">rng=RNG_stdin64, seed=unknown\n",
       ">length= 64 gigabytes (2^36 bytes), time= 1026 seconds\n",
       ">  no anomalies in 340 test result(s)\n",
       ">\n",
       ">rng=RNG_stdin64, seed=unknown\n",
       ">length= 128 gigabytes (2^37 bytes), time= 2037 seconds\n",
       ">  no anomalies in 355 test result(s)\n",
       ">\n",
       ">rng=RNG_stdin64, seed=unknown\n",
       ">length= 256 gigabytes (2^38 bytes), time= 4069 seconds\n",
       ">  no anomalies in 369 test result(s)\n",
       ">\n",
       ">rng=RNG_stdin64, seed=unknown\n",
       ">length= 512 gigabytes (2^39 bytes), time= 8140 seconds\n",
       ">  Test Name                         Raw       Processed     Evaluation\n",
       ">  [Low16/64]FPF-14+6/16:cross       R=  +4.9  p =  1.8e-4   unusual          \n",
       ">  ...and 382 test result(s) without anomalies\n",
       ">\n",
       ">"
      ],
      "text/plain": [
       "<IPython.core.display.Markdown object>"
      ]
     },
     "metadata": {},
     "output_type": "display_data"
    },
    {
     "data": {
      "text/markdown": [
       "#### Parameters:"
      ],
      "text/plain": [
       "<IPython.core.display.Markdown object>"
      ]
     },
     "metadata": {},
     "output_type": "display_data"
    },
    {
     "data": {
      "text/markdown": [
       "* seeds: [16448020747669778562  4368962271258711975 11249100981175841188\n",
       "  2365975233776638442   648488755577100847 16357435805637215904\n",
       "  1895196650840720663  4210738645265698800 12509924760740056186\n",
       "  1447442073382594683]\n",
       "* limit: 512GB"
      ],
      "text/plain": [
       "<IPython.core.display.Markdown object>"
      ]
     },
     "metadata": {},
     "output_type": "display_data"
    }
   ],
   "source": [
    "for mode in [\"Monolithic\", \"Independent\", \"IndependentSimulation\", \"IndependentSimulationNoDispersal\"]:\n",
    "    seeds = np.random.randint(0, np.iinfo(\"uint64\").max, dtype=\"uint64\", size=10)\n",
    "    \n",
    "    test_randomness_practrand(mode, seeds=seeds, limit='512GB')"
   ]
  },
  {
   "cell_type": "code",
   "execution_count": null,
   "id": "c0374345-76bb-4e21-aedb-96807f17e94b",
   "metadata": {},
   "outputs": [],
   "source": []
  }
 ],
 "metadata": {
  "kernelspec": {
   "display_name": "Python 3",
   "language": "python",
   "name": "python3"
  },
  "language_info": {
   "codemirror_mode": {
    "name": "ipython",
    "version": 3
   },
   "file_extension": ".py",
   "mimetype": "text/x-python",
   "name": "python",
   "nbconvert_exporter": "python",
   "pygments_lexer": "ipython3",
   "version": "3.7.5"
  }
 },
 "nbformat": 4,
 "nbformat_minor": 5
}
