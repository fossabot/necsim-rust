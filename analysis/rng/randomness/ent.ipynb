{
 "cells": [
  {
   "cell_type": "code",
   "execution_count": null,
   "id": "e6cf3d7f-e1fa-4151-ab67-3070dc4b136e",
   "metadata": {
    "jupyter": {
     "source_hidden": true
    },
    "tags": []
   },
   "outputs": [],
   "source": [
    "import subprocess\n",
    "import shlex\n",
    "import re\n",
    "\n",
    "import numpy as np\n",
    "\n",
    "from matplotlib import pyplot as plt\n",
    "from scipy.stats import combine_pvalues\n",
    "from IPython.display import display, Markdown\n",
    "from tqdm import tqdm"
   ]
  },
  {
   "cell_type": "code",
   "execution_count": null,
   "id": "598de7de-8c45-4ce3-8ac2-53e8d1ac2d12",
   "metadata": {
    "jupyter": {
     "source_hidden": true
    },
    "tags": []
   },
   "outputs": [],
   "source": [
    "import matplotlib as mpl\n",
    "mpl.rcParams['figure.dpi'] = 400\n",
    "\n",
    "def show():\n",
    "    plt.savefig(f\"ent.{show.fig_counter}.pdf\", dpi='figure', transparent=True, bbox_inches='tight')\n",
    "    show.fig_counter += 1\n",
    "    show.plt_show()\n",
    "\n",
    "show.fig_counter = 0\n",
    "show.plt_show = plt.show\n",
    "\n",
    "plt.show = show"
   ]
  },
  {
   "cell_type": "code",
   "execution_count": null,
   "id": "c3012526-a3bc-404d-9ae9-577b4b5859e6",
   "metadata": {
    "jupyter": {
     "source_hidden": true
    },
    "tags": []
   },
   "outputs": [],
   "source": [
    "RANDOMNESS_PATTERN = re.compile(r\"exceed this value (\\d+\\.\\d+) percent\")\n",
    "\n",
    "CC_PATTERN = re.compile(r\"(?<!^)(?=[A-Z])\")"
   ]
  },
  {
   "cell_type": "markdown",
   "id": "f94398f5-84b5-4238-807f-def3d7cdbe3d",
   "metadata": {},
   "source": [
    "# ENT - pseudorandom number sequence test"
   ]
  },
  {
   "cell_type": "code",
   "execution_count": null,
   "id": "fd844300-147b-4440-91e7-0539d5a153d4",
   "metadata": {
    "jupyter": {
     "source_hidden": true
    },
    "tags": []
   },
   "outputs": [],
   "source": [
    "def test_randomness_ent(\n",
    "    mode, seeds=[42], limit='1GB',\n",
    "):\n",
    "    outputs = []\n",
    "    \n",
    "    for seed in tqdm(seeds):\n",
    "        generator = subprocess.Popen(shlex.split(\n",
    "            f\"cargo run --release --quiet -- --seed {seed} --limit {limit} {CC_PATTERN.sub('-', mode).lower()}\"\n",
    "        ), stdout=subprocess.PIPE)\n",
    "        ent = subprocess.run(\n",
    "            shlex.split(\"./ent\"), stdin=generator.stdout,\n",
    "            check=True, capture_output=True, text=True\n",
    "        )\n",
    "\n",
    "        match = RANDOMNESS_PATTERN.search(ent.stdout)\n",
    "        \n",
    "        if match is not None:\n",
    "            pvalue = float(RANDOMNESS_PATTERN.search(ent.stdout).group(1)) / 100.0\n",
    "\n",
    "            outputs.append((pvalue, ent.stdout))\n",
    "    \n",
    "    gof_statistic, gof_pvalue = combine_pvalues([pvalue for pvalue, output in outputs])\n",
    "\n",
    "    if gof_pvalue <= 0.01 or gof_pvalue >= 0.99:\n",
    "        display(Markdown(f\"## <span style='color:purple'><u>{mode}</u></span>\"))\n",
    "    elif gof_pvalue <= 0.05 or gof_pvalue >= 0.95:\n",
    "        display(Markdown(f\"## <span style='color:red'><u>{mode}</u></span>\"))\n",
    "    elif gof_pvalue <= 0.1 or gof_pvalue >= 0.9:\n",
    "        display(Markdown(f\"## <span style='color:orange'>*{mode}*</span>\"))\n",
    "    else:\n",
    "        display(Markdown(f\"## <span style='color:green'>{mode}</span>\"))\n",
    "        \n",
    "    most_suspect = None\n",
    "    \n",
    "    for (pvalue, output) in outputs:\n",
    "        suspicion = 1 - min(pvalue, 1 - pvalue)\n",
    "        \n",
    "        if (most_suspect is None) or (suspicion > most_suspect[0]):\n",
    "            most_suspect = (suspicion, output)\n",
    "        \n",
    "    display(Markdown(\"#### Fisher’s combined Chi-squared:\"))\n",
    "    display(Markdown(f\"* p-value: {gof_pvalue}\\n* statistic: {gof_statistic}\"))\n",
    "    \n",
    "    plt.title(\"Distribution of p-values\")\n",
    "    plt.xlabel(\"p\")\n",
    "    plt.ylabel(\"pdf\")\n",
    "    plt.hist([pvalue for pvalue, output in outputs], density=True)\n",
    "    plt.show()\n",
    "\n",
    "    display(Markdown(\"#### Test output (most suspect):\"))\n",
    "    display(Markdown(\">\" + most_suspect[1].replace('\\n', '\\n>')))\n",
    "\n",
    "    display(Markdown(\"#### Parameters:\"))\n",
    "    display(Markdown(f\"* seeds: {seeds}\\n* limit: {limit}\"))"
   ]
  },
  {
   "cell_type": "code",
   "execution_count": null,
   "id": "67293f51-2986-4f66-ad17-738be127e82c",
   "metadata": {},
   "outputs": [],
   "source": [
    "for mode in [\"Monolithic\", \"Independent\", \"IndependentSimulation\", \"IndependentSimulationNoDispersal\"]:\n",
    "    seeds = np.random.randint(0, np.iinfo(\"uint64\").max, dtype=\"uint64\", size=1000)\n",
    "    \n",
    "    test_randomness_ent(mode, seeds=seeds, limit='10MB')"
   ]
  },
  {
   "cell_type": "code",
   "execution_count": null,
   "id": "c0374345-76bb-4e21-aedb-96807f17e94b",
   "metadata": {},
   "outputs": [],
   "source": []
  }
 ],
 "metadata": {
  "kernelspec": {
   "display_name": "Python 3",
   "language": "python",
   "name": "python3"
  },
  "language_info": {
   "codemirror_mode": {
    "name": "ipython",
    "version": 3
   },
   "file_extension": ".py",
   "mimetype": "text/x-python",
   "name": "python",
   "nbconvert_exporter": "python",
   "pygments_lexer": "ipython3",
   "version": "3.7.5"
  }
 },
 "nbformat": 4,
 "nbformat_minor": 5
}
