{
 "cells": [
  {
   "cell_type": "code",
   "execution_count": 1,
   "metadata": {
    "tags": []
   },
   "outputs": [],
   "source": [
    "import re\n",
    "\n",
    "import numpy as np\n",
    "\n",
    "from IPython.display import display, Markdown\n",
    "from pathlib import Path\n",
    "from collections import defaultdict\n",
    "from itertools import chain"
   ]
  },
  {
   "cell_type": "code",
   "execution_count": 2,
   "metadata": {
    "tags": []
   },
   "outputs": [],
   "source": [
    "CC_PATTERN = re.compile(r\"(?<!^)(?=[A-Z])\")"
   ]
  },
  {
   "cell_type": "code",
   "execution_count": 3,
   "metadata": {},
   "outputs": [],
   "source": [
    "BIODIVERSITY_PATTERN = re.compile(r\"The simulation resulted in a biodiversity of (\\d+) unique species\\.\")\n",
    "EXECUTION_PATTERN = re.compile(r\"The simulation took:\\n - initialisation: ([^\\n]+)\\n - execution: ([^\\n]+)\\n - cleanup: ([^\\n]+)\\n\")\n",
    "EVENT_PATTERN = re.compile(r\"Event Summary:\\n - Total #individuals:\\n   \\d+\\n - Total #events:\\n   - raw:\\n     (\\d+)\")"
   ]
  },
  {
   "cell_type": "code",
   "execution_count": 4,
   "metadata": {},
   "outputs": [],
   "source": [
    "TIME_PATTERN = re.compile(r\"(\\d+(?:\\.\\d+)?)([^\\d]+)\")\n",
    "TIME_UNITS = {\n",
    "    \"ns\": 0.000000001,\n",
    "    \"µs\": 0.000001,\n",
    "    \"ms\": 0.001,\n",
    "    \"s\": 1.0,\n",
    "}\n",
    "\n",
    "def parse_time(time_str):\n",
    "    match = TIME_PATTERN.match(time_str)\n",
    "    \n",
    "    if match is None:\n",
    "        return None\n",
    "    \n",
    "    return float(match.group(1)) * TIME_UNITS[match.group(2)]"
   ]
  },
  {
   "cell_type": "code",
   "execution_count": 5,
   "metadata": {},
   "outputs": [],
   "source": [
    "DOMAIN_DIR_PATTERN = re.compile(r\"([+\\-]?(?:0|[1-9]\\d*)(?:\\.\\d*)?(?:[eE][+\\-]?\\d+)?)\")\n",
    "DOMAIN_FILE_PATTERN = re.compile(r\"([+\\-]?(?:0|[1-9]\\d*)(?:\\.\\d*)?(?:[eE][+\\-]?\\d+)?)/limit\\.isolated\\.o\\d+\\.\\d+\")\n",
    "DOMAIN_REPLAY_PATTERN = re.compile(r\"([+\\-]?(?:0|[1-9]\\d*)(?:\\.\\d*)?(?:[eE][+\\-]?\\d+)?)/limit\\.\\d+(?:\\[\\])?\\.pbs\\.o\\d+\")"
   ]
  },
  {
   "cell_type": "code",
   "execution_count": 6,
   "metadata": {},
   "outputs": [
    {
     "data": {
      "text/markdown": [
       "# Scalability of the IsolatedLandscape Independent Algorithm variant:"
      ],
      "text/plain": [
       "<IPython.core.display.Markdown object>"
      ]
     },
     "metadata": {},
     "output_type": "display_data"
    },
    {
     "data": {
      "text/markdown": [
       "* $1000000000.0$ individuals: $13722.85s \\pm 2540.23s$ per batch [100 samples] -> $164.19\\% \\pm 0.25\\%$"
      ],
      "text/plain": [
       "<IPython.core.display.Markdown object>"
      ]
     },
     "metadata": {},
     "output_type": "display_data"
    },
    {
     "data": {
      "text/markdown": [
       "* $10000000000.0$ individuals: $5584.37s \\pm 2276.5s$ per batch [1000 samples] -> $453.93\\% \\pm 0.54\\%$"
      ],
      "text/plain": [
       "<IPython.core.display.Markdown object>"
      ]
     },
     "metadata": {},
     "output_type": "display_data"
    },
    {
     "data": {
      "text/markdown": [
       "* $71000000000.0$ individuals: $3617.18s \\pm 2138.75s$ per batch [7100 samples] -> $1602.39\\% \\pm 2.57\\%$"
      ],
      "text/plain": [
       "<IPython.core.display.Markdown object>"
      ]
     },
     "metadata": {},
     "output_type": "display_data"
    }
   ],
   "source": [
    "display(Markdown(\"# Scalability of the IsolatedLandscape Independent Algorithm variant:\"))\n",
    "\n",
    "throughput_results = defaultdict(list)\n",
    "redundancy_results = defaultdict(list)\n",
    "\n",
    "for path in Path(\".\").iterdir():\n",
    "    match = DOMAIN_DIR_PATTERN.match(str(path))\n",
    "    \n",
    "    if match is None:\n",
    "        continue\n",
    "    \n",
    "    for path in Path(path).iterdir():\n",
    "        match = DOMAIN_FILE_PATTERN.match(str(path))\n",
    "        \n",
    "        if match is not None:\n",
    "            sample = float(match.group(1))\n",
    "\n",
    "            with open(path) as file:\n",
    "                stdout = file.read()\n",
    "\n",
    "            match = EXECUTION_PATTERN.search(stdout)\n",
    "            if match is None:\n",
    "                print(path)\n",
    "                continue\n",
    "            initialisation = parse_time(match.group(1))\n",
    "            execution = parse_time(match.group(2))\n",
    "            cleanup = parse_time(match.group(3))\n",
    "\n",
    "            throughput_results[sample].append((initialisation, execution, cleanup))\n",
    "        \n",
    "        match = DOMAIN_REPLAY_PATTERN.match(str(path))\n",
    "        \n",
    "        if match is not None:\n",
    "            sample = float(match.group(1))\n",
    "            \n",
    "            with open(path) as file:\n",
    "                stdout = file.read()\n",
    "                \n",
    "            match = BIODIVERSITY_PATTERN.search(stdout)\n",
    "            if match is None:\n",
    "                print(path)\n",
    "                continue\n",
    "            biodiversity = int(match.group(1))\n",
    "            \n",
    "            match = EVENT_PATTERN.search(stdout)\n",
    "            if match is None:\n",
    "                print(path)\n",
    "                continue\n",
    "            raw_speciations = int(match.group(1))\n",
    "            \n",
    "            redundancy_results[sample].append((biodiversity, raw_speciations, raw_speciations / biodiversity))\n",
    "\n",
    "results = { domain: [\n",
    "    (np.median(s), np.mean(s), np.std(s), len(s)) for s in chain(zip(*result), zip(*redundancy_results[domain]))\n",
    "] for domain, result in throughput_results.items() }\n",
    "\n",
    "(\n",
    "    domains, initialisations, executions, cleanups, biodiversities, raw_speciations, redundancies\n",
    ") = zip(*sorted([domain] + rs for domain, rs in results.items()))\n",
    "\n",
    "for domain, execution, redundancy in zip(domains, executions, redundancies):\n",
    "    display(Markdown(fr\"* ${domain}$ individuals: ${np.round(execution[1], 2)}s \\pm {np.round(execution[2], 2)}s$ per batch [{execution[3]} samples] -> ${np.round(redundancy[1] * 100, 2)}\\% \\pm {np.round(redundancy[2] * 100, 2)}\\%$\"))"
   ]
  }
 ],
 "metadata": {
  "kernelspec": {
   "display_name": "Python 3",
   "language": "python",
   "name": "python3"
  },
  "language_info": {
   "codemirror_mode": {
    "name": "ipython",
    "version": 3
   },
   "file_extension": ".py",
   "mimetype": "text/x-python",
   "name": "python",
   "nbconvert_exporter": "python",
   "pygments_lexer": "ipython3",
   "version": "3.6.8"
  }
 },
 "nbformat": 4,
 "nbformat_minor": 4
}
