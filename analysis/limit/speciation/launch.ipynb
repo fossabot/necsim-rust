{
 "cells": [
  {
   "cell_type": "code",
   "execution_count": 1,
   "metadata": {},
   "outputs": [],
   "source": [
    "import subprocess\n",
    "import shlex\n",
    "import os\n",
    "import glob\n",
    "import re\n",
    "\n",
    "from subprocess import PIPE\n",
    "from pathlib import Path"
   ]
  },
  {
   "cell_type": "code",
   "execution_count": 2,
   "metadata": {},
   "outputs": [],
   "source": [
    "TIMEOUT_PATTERN = re.compile(r\"=>> PBS: job killed: walltime (?:\\d+) exceeded limit 259200\\n\")"
   ]
  },
  {
   "cell_type": "code",
   "execution_count": 3,
   "metadata": {},
   "outputs": [],
   "source": [
    "output = Path(\"results/limit\").resolve(strict=False)\n",
    "output.mkdir(parents=True, exist_ok=True)\n",
    "    \n",
    "glob_pathname = f\"{glob.escape(output)}.e*.*\"\n",
    "    \n",
    "successful = []\n",
    "erroneous = []\n",
    "    \n",
    "for path in glob.iglob(glob_pathname):\n",
    "    with open(path) as file:\n",
    "        content = file.read()\n",
    "        \n",
    "        if content == '' or TIMEOUT_PATTERN.fullmatch(content):\n",
    "            successful.append(path)\n",
    "        else:\n",
    "            erroneous.append(path)\n",
    "\n",
    "for error_path in erroneous:\n",
    "    Path('o'.join(error_path.rsplit('e', 1))).unlink()\n",
    "    Path(error_path).unlink()\n",
    "        \n",
    "repeats = 10 - len(successful)\n",
    "\n",
    "if repeats >= 1:\n",
    "    print(f\"{repeats} x {output}\")\n",
    "\n",
    "    repeats = max(repeats, 2)\n",
    "\n",
    "    raise \"hi\"\n",
    "\n",
    "    speciations = \" \".join(str(10.0**(-e)) for e in range(0, 20))\n",
    "\n",
    "    config = fr\"\"\"\n",
    "    #PBS -lselect={1}:ncpus={1}:mem={32}gb\n",
    "    #PBS -J {0}-{max(repeats - 1, 0)}\n",
    "    #PBS -lwalltime={72}:00:00\n",
    "\n",
    "    for SPECIATION in {speciations}\n",
    "    do\n",
    "        $HOME/necsim-rust/target-base/release/rustcoalescence simulate '(\n",
    "            speciation: '$SPECIATION',\n",
    "            sample: {0.025},\n",
    "            seed: '$(python3 -c \"import random; print(random.getrandbits(64))\")',\n",
    "\n",
    "            algorithm: SkippingGillespie(),\n",
    "\n",
    "            scenario: SpatiallyExplicit(\n",
    "                habitat: \"'$HOME'/necsim-rust/maps/madingley/fg0size12/habitat.tif\",\n",
    "                dispersal: \"'$HOME'/necsim-rust/maps/madingley/fg0size12/dispersal.tif\",\n",
    "            ),\n",
    "\n",
    "            reporters: [\n",
    "                Plugin(\n",
    "                    library: \"'$HOME'/necsim-rust/target-base/release/deps/libnecsim_plugins_common.so\",\n",
    "                    reporters: [Counter(), Execution()],\n",
    "                ),\n",
    "            ],\n",
    "        )'\n",
    "    done\n",
    "    \"\"\"\n",
    "\n",
    "    cwd = os.getcwd()\n",
    "    os.chdir(output.parent)\n",
    "\n",
    "    print(subprocess.run(shlex.split(\n",
    "        f\"{os.environ['HOME']}/qsubbuf/target/release/qsubbuf -N {output.name}\"\n",
    "    ), check=True, input=config, stdout=PIPE, universal_newlines=True).stdout.strip())\n",
    "\n",
    "    os.chdir(cwd)"
   ]
  },
  {
   "cell_type": "code",
   "execution_count": null,
   "metadata": {},
   "outputs": [],
   "source": []
  }
 ],
 "metadata": {
  "kernelspec": {
   "display_name": "Python 3",
   "language": "python",
   "name": "python3"
  },
  "language_info": {
   "codemirror_mode": {
    "name": "ipython",
    "version": 3
   },
   "file_extension": ".py",
   "mimetype": "text/x-python",
   "name": "python",
   "nbconvert_exporter": "python",
   "pygments_lexer": "ipython3",
   "version": "3.6.8"
  }
 },
 "nbformat": 4,
 "nbformat_minor": 5
}
