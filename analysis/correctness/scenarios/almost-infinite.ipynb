{
 "cells": [
  {
   "cell_type": "code",
   "execution_count": null,
   "id": "718e1cb4",
   "metadata": {
    "jupyter": {
     "source_hidden": true
    },
    "tags": []
   },
   "outputs": [],
   "source": [
    "import subprocess\n",
    "import shlex\n",
    "import re\n",
    "import json\n",
    "\n",
    "import numpy as np\n",
    "import multiprocessing as mp\n",
    "\n",
    "from matplotlib import pyplot as plt\n",
    "from scipy import stats\n",
    "from tqdm import tqdm"
   ]
  },
  {
   "cell_type": "code",
   "execution_count": null,
   "id": "749ffef1-7a21-4037-bc57-adb0da9769fa",
   "metadata": {
    "jupyter": {
     "source_hidden": true
    },
    "tags": []
   },
   "outputs": [],
   "source": [
    "import matplotlib as mpl\n",
    "mpl.rcParams['figure.dpi'] = 400\n",
    "\n",
    "def show():\n",
    "    plt.savefig(f\"almost-infinite.{show.fig_counter}.pdf\", dpi='figure', transparent=True, bbox_inches='tight')\n",
    "    show.fig_counter += 1\n",
    "    show.plt_show()\n",
    "\n",
    "show.fig_counter = 0\n",
    "show.plt_show = plt.show\n",
    "\n",
    "plt.show = show"
   ]
  },
  {
   "cell_type": "code",
   "execution_count": null,
   "id": "d710a95b",
   "metadata": {
    "jupyter": {
     "source_hidden": true
    },
    "tags": []
   },
   "outputs": [],
   "source": [
    "import scipy.special as sp\n",
    "\n",
    "def preston(A_on_sigma_sq, nu):\n",
    "    a = np.sqrt(A_on_sigma_sq / np.pi)\n",
    "    \n",
    "    nu_eff = nu * np.log(1.0 / nu) / (1.0 - nu)\n",
    "    \n",
    "    num = 2.0 * np.pi * a * (1.0 - nu_eff) * sp.i1e(a)\n",
    "    \n",
    "    denom = (1.0 / np.sqrt(nu_eff)) * sp.i1e(a) * sp.k0e(np.sqrt(nu_eff) * a) / sp.k1e(np.sqrt(nu_eff) * a) + sp.i0e(a)\n",
    "    \n",
    "    return (nu_eff * A_on_sigma_sq + num / denom)\n",
    "\n",
    "def s_contig(A_eff, deme, nu, sigma_sq):\n",
    "    return sigma_sq * preston(A_eff * deme / sigma_sq, nu)"
   ]
  },
  {
   "cell_type": "code",
   "execution_count": null,
   "id": "b3ea9d07",
   "metadata": {
    "jupyter": {
     "source_hidden": true
    },
    "tags": []
   },
   "outputs": [],
   "source": [
    "BIODIVERSITY_PATTERN = re.compile(r\"The simulation resulted in a biodiversity of (\\d+) unique species\\.\")\n",
    "TIMING_PATTERN = re.compile(r\"The simulation finished at time (\\d+\\.\\d+) after (\\d+) steps\\.\")"
   ]
  },
  {
   "cell_type": "code",
   "execution_count": null,
   "id": "89604318",
   "metadata": {
    "jupyter": {
     "source_hidden": true
    },
    "tags": []
   },
   "outputs": [],
   "source": [
    "target_directory = json.loads(subprocess.run(\"cargo metadata --format-version 1\".split(), capture_output=True).stdout)[\"target_directory\"]"
   ]
  },
  {
   "cell_type": "code",
   "execution_count": null,
   "id": "13c5b766-f731-4242-8a51-0495741ca998",
   "metadata": {
    "jupyter": {
     "source_hidden": true
    },
    "tags": []
   },
   "outputs": [],
   "source": [
    "def simulate_almost_infinite_scenario(speciation=0.1, seed=42, radius=18, sigma=10.0):\n",
    "    config = \"\".join(f\"\"\"\n",
    "    (\n",
    "        speciation: {speciation},\n",
    "        sample: 1.0,\n",
    "        seed: {seed},\n",
    "\n",
    "        algorithm: Classical(),\n",
    "\n",
    "        log: None,\n",
    "\n",
    "        scenario: AlmostInfinite(\n",
    "            radius: {radius},\n",
    "            sigma: {sigma},\n",
    "        ),\n",
    "\n",
    "        reporters: [\n",
    "            Plugin(\n",
    "                library: \"{target_directory}/release/deps/libnecsim_plugins_common.so\",\n",
    "                reporters: [Biodiversity()]\n",
    "            )\n",
    "        ],\n",
    "    )\n",
    "    \"\"\".split()).replace(\",)\", \")\").replace(\",]\", \"]\")\n",
    "\n",
    "    # Run the simulation\n",
    "    result = subprocess.run(shlex.split(\n",
    "        \"cargo run --release --features rustcoalescence-algorithms-monolithic,\"\n",
    "        + f\"rustcoalescence-algorithms-independent --quiet -- simulate '{config}'\"\n",
    "    ), check=True, capture_output=True, text=True)\n",
    "\n",
    "    match = BIODIVERSITY_PATTERN.search(result.stdout)\n",
    "    biodiversity = int(match.group(1))\n",
    "\n",
    "    match = TIMING_PATTERN.search(result.stdout)\n",
    "    time = float(match.group(1))\n",
    "    steps = int(match.group(2))\n",
    "        \n",
    "    return biodiversity, time, steps"
   ]
  },
  {
   "cell_type": "code",
   "execution_count": null,
   "id": "90ad3e7b",
   "metadata": {
    "jupyter": {
     "source_hidden": true
    },
    "tags": []
   },
   "outputs": [],
   "source": [
    "def batch_simulation_many_seeds(simulate, seeds, args=tuple(), kwargs=dict(), silent=False):\n",
    "    results = []\n",
    "\n",
    "    with tqdm(total=len(seeds), disable=silent) as progress:\n",
    "        def report_error(err):\n",
    "            print(err)\n",
    "        \n",
    "        def update_progress(result):\n",
    "            results.append(result)\n",
    "\n",
    "            progress.update()\n",
    "\n",
    "        with mp.Pool(mp.cpu_count()) as pool:\n",
    "            for seed in seeds:\n",
    "                pool.apply_async(simulate, args, {**kwargs, \"seed\": seed}, update_progress, report_error)\n",
    "\n",
    "            pool.close()\n",
    "            pool.join()\n",
    "    \n",
    "    return results"
   ]
  },
  {
   "cell_type": "code",
   "execution_count": null,
   "id": "2fa02802-9d67-4926-b9bc-d5d3dcb92cd4",
   "metadata": {
    "jupyter": {
     "source_hidden": true
    },
    "tags": []
   },
   "outputs": [],
   "source": [
    "def simulate_almost_infinite_super_batch(speciation=0.1, radii=[10], sigmas=[10.0], size=10):\n",
    "    Sigmas = []\n",
    "    Radii = []\n",
    "    Biodiversities = []\n",
    "\n",
    "    for radius in radii:\n",
    "        for sigma in sigmas:\n",
    "            seeds = np.random.randint(0, np.iinfo(\"uint64\").max, dtype=\"uint64\", size=size)\n",
    "\n",
    "            Sigmas.append(sigma)\n",
    "            Radii.append(radius)\n",
    "\n",
    "            results = batch_simulation_many_seeds(simulate_almost_infinite_scenario, seeds, kwargs={\n",
    "                \"speciation\":speciation, \"radius\":radius, \"sigma\": sigma\n",
    "            }, silent=True)\n",
    "            biodiversities, times, steps = tuple(zip(*results))\n",
    "\n",
    "            Biodiversities.append(np.mean(biodiversities))\n",
    "    \n",
    "    return Sigmas, Radii, Biodiversities"
   ]
  },
  {
   "cell_type": "markdown",
   "id": "9060f2c4",
   "metadata": {},
   "source": [
    "# III. Verify correct convergence of the AlmostInfinite scenario\n",
    "## III.1. Compute the biodiversity for a mesh of sigmas x radii"
   ]
  },
  {
   "cell_type": "code",
   "execution_count": null,
   "id": "7b19cf5b-987d-419f-adfd-fb580b7c8593",
   "metadata": {},
   "outputs": [],
   "source": [
    "Sigmas, Radii, Biodiversities = simulate_almost_infinite_super_batch(speciation=0.1, radii=[\n",
    "    0, 2, 3, 6, 10, 18, 31, 56, 100, 180, 310, 560\n",
    "], sigmas=[0.0, 1.0, 1.8, 3.1, 5.6, 10.0, 18.0, 31.0, 56.0, 100.0, 180.0, 310.0, 560.0], size=100)"
   ]
  },
  {
   "cell_type": "code",
   "execution_count": null,
   "id": "76c5e530-d6e4-4da4-841d-a76b3f9d2efb",
   "metadata": {},
   "outputs": [],
   "source": [
    "Expected = [\n",
    "    s_contig(max(radius*radius*np.pi, 1), 1, 0.1, sigma*sigma) if sigma > 0.0 else max(radius*radius*np.pi, 1)\n",
    "    for sigma, radius in zip(Sigmas, Radii)\n",
    "]"
   ]
  },
  {
   "cell_type": "markdown",
   "id": "636695b0-3ada-44aa-8ef7-020b34bfeab3",
   "metadata": {},
   "source": [
    "## III.2 Plot the expected biodiversity surface"
   ]
  },
  {
   "cell_type": "code",
   "execution_count": null,
   "id": "8d1dc18e-c802-44f3-a8f7-25d211b5d8f3",
   "metadata": {
    "jupyter": {
     "source_hidden": true
    },
    "tags": []
   },
   "outputs": [],
   "source": [
    "import matplotlib.ticker as mticker\n",
    "\n",
    "fig, ax = plt.subplots(figsize=(8, 8), subplot_kw={\"projection\": \"3d\"})\n",
    "\n",
    "ax.set_title(\"Sigma-Radius Interaction\")\n",
    "\n",
    "def log_tick_formatter(val, pos=None):\n",
    "    return \"{:.0e}\".format(10**val)\n",
    "\n",
    "ax.xaxis.set_major_formatter(mticker.FuncFormatter(log_tick_formatter))\n",
    "ax.yaxis.set_major_formatter(mticker.FuncFormatter(log_tick_formatter))\n",
    "ax.zaxis.set_major_formatter(mticker.FuncFormatter(log_tick_formatter))\n",
    "\n",
    "ax.set_xlabel(\"Dispersal Sigma\")\n",
    "ax.set_ylabel(\"Sampling Radius\")\n",
    "ax.set_zlabel(\"Biodiversity\")\n",
    "\n",
    "ax.plot_surface(\n",
    "    np.log10(np.array(Sigmas).reshape((12, 13)) + 1),\n",
    "    np.log10(np.array(Radii).reshape((12, 13)) + 1),\n",
    "    np.log10(np.array(Expected).reshape((12, 13)) + 1),\n",
    "    antialiased=True, cmap='summer'\n",
    ")\n",
    "\n",
    "ax.view_init(30, 315)\n",
    "\n",
    "plt.show()"
   ]
  },
  {
   "cell_type": "markdown",
   "id": "c912f6ec-c8d4-4eac-95fa-cafad9a901c2",
   "metadata": {},
   "source": [
    "## III.3 Plot the effect of dispersal sigma on biodiversity"
   ]
  },
  {
   "cell_type": "code",
   "execution_count": null,
   "id": "339c200c-024c-4674-825f-ef3726ab44e8",
   "metadata": {
    "jupyter": {
     "source_hidden": true
    },
    "tags": []
   },
   "outputs": [],
   "source": [
    "fig, axes = plt.subplots(3, 4, figsize=(20, 18))\n",
    "\n",
    "for i in range(12):\n",
    "    ax = axes[i // 4][i % 4]\n",
    "    \n",
    "    si = 13 * i\n",
    "    ei = si + 13\n",
    "    \n",
    "    ax.set_title(f\"radius = {Radii[si]}\")\n",
    "    ax.set_xlabel('sigma')\n",
    "    ax.set_ylabel('biodiversity')\n",
    "    ax.set_xscale('log')\n",
    "    ax.set_yscale('log')\n",
    "    ax.plot(Sigmas[si:ei], Biodiversities[si:ei], label='observed')\n",
    "    ax.plot(Sigmas[si:ei], Expected[si:ei], label='expected')\n",
    "    ax.legend()\n",
    "\n",
    "plt.show()"
   ]
  },
  {
   "cell_type": "markdown",
   "id": "8f9d1a71-18ab-461b-a196-96898f30fb39",
   "metadata": {},
   "source": [
    "## III.4 Plot the effect of dispersal sigmas on biodiversity"
   ]
  },
  {
   "cell_type": "code",
   "execution_count": null,
   "id": "6a727fbb-78a5-4749-a648-e95718979aea",
   "metadata": {
    "jupyter": {
     "source_hidden": true
    },
    "tags": []
   },
   "outputs": [],
   "source": [
    "fig, axes = plt.subplots(3, 4, figsize=(20, 18))\n",
    "\n",
    "for i in range(12): # could be 13\n",
    "    ax = axes[i // 4][i % 4]\n",
    "    \n",
    "    ax.set_title(f\"sigma = {Sigmas[i]}\")\n",
    "    ax.set_xlabel('radius')\n",
    "    ax.set_ylabel('biodiversity')\n",
    "    ax.set_xscale('log')\n",
    "    ax.set_yscale('log')\n",
    "    ax.plot(Radii[i::12], Biodiversities[i::12], label='observed')\n",
    "    ax.plot(Radii[i::12], Expected[i::12], label='expected')\n",
    "    ax.legend()\n",
    "\n",
    "plt.show()"
   ]
  },
  {
   "cell_type": "code",
   "execution_count": null,
   "id": "bb3e079e",
   "metadata": {},
   "outputs": [],
   "source": []
  }
 ],
 "metadata": {
  "kernelspec": {
   "display_name": "Python 3",
   "language": "python",
   "name": "python3"
  },
  "language_info": {
   "codemirror_mode": {
    "name": "ipython",
    "version": 3
   },
   "file_extension": ".py",
   "mimetype": "text/x-python",
   "name": "python",
   "nbconvert_exporter": "python",
   "pygments_lexer": "ipython3",
   "version": "3.7.5"
  }
 },
 "nbformat": 4,
 "nbformat_minor": 5
}
