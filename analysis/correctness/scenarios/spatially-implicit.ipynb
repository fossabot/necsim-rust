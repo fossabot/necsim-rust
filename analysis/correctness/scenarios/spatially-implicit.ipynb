{
 "cells": [
  {
   "cell_type": "code",
   "execution_count": null,
   "id": "718e1cb4",
   "metadata": {
    "jupyter": {
     "source_hidden": true
    },
    "tags": []
   },
   "outputs": [],
   "source": [
    "import subprocess\n",
    "import shlex\n",
    "import re\n",
    "import json\n",
    "\n",
    "import numpy as np\n",
    "import multiprocessing as mp\n",
    "\n",
    "from matplotlib import pyplot as plt\n",
    "from scipy import stats\n",
    "from tqdm import tqdm"
   ]
  },
  {
   "cell_type": "code",
   "execution_count": null,
   "id": "d0942e9b-83f8-4472-81f5-2b04329a21c1",
   "metadata": {
    "jupyter": {
     "source_hidden": true
    },
    "tags": []
   },
   "outputs": [],
   "source": [
    "import matplotlib as mpl\n",
    "mpl.rcParams['figure.dpi'] = 400\n",
    "\n",
    "def show():\n",
    "    plt.savefig(f\"spatially-implicit.{show.fig_counter}.pdf\", dpi='figure', transparent=True, bbox_inches='tight')\n",
    "    show.fig_counter += 1\n",
    "    show.plt_show()\n",
    "\n",
    "show.fig_counter = 0\n",
    "show.plt_show = plt.show\n",
    "\n",
    "plt.show = show"
   ]
  },
  {
   "cell_type": "code",
   "execution_count": null,
   "id": "d710a95b",
   "metadata": {
    "jupyter": {
     "source_hidden": true
    },
    "tags": []
   },
   "outputs": [],
   "source": [
    "import scipy.special as sp\n",
    "\n",
    "def s_migration(A_eff_local, deme_local, A_eff_meta, deme_meta, my_local, nu_meta):\n",
    "    J = A_eff_local * deme_local\n",
    "    J_m = A_eff_meta * deme_meta\n",
    "    \n",
    "    theta = (J_m - 0) * nu_meta / (1.0 - nu_meta)\n",
    "    lamda = (J - 0) * my_local / (1.0 - my_local)\n",
    "    \n",
    "    return theta * (sp.digamma(theta + lamda * (sp.digamma(lamda + J) - sp.digamma(lamda))) - sp.digamma(theta))\n",
    "\n",
    "def s_migration_limit(A_eff_local, deme_local, A_eff_meta, deme_meta, my_local, nu_meta):\n",
    "    J = A_eff_local * deme_local\n",
    "    J_m = A_eff_meta * deme_meta\n",
    "    \n",
    "    theta = (J_m - 0) * nu_meta / (1.0 - nu_meta)\n",
    "    lamda = (J - 0) * my_local / (1.0 - my_local)\n",
    "    \n",
    "    return theta * np.log(1.0 - (lamda / theta) * np.log(my_local))\n",
    "\n",
    "def s_always_migration(A_eff_local, deme_local, A_eff_meta, deme_meta, nu_meta):\n",
    "    J = A_eff_local * deme_local\n",
    "    J_m = A_eff_meta * deme_meta\n",
    "    \n",
    "    theta = (J_m - 0) * nu_meta / (1.0 - nu_meta)\n",
    "    \n",
    "    return theta * np.log(1 + (J - 0) / theta)"
   ]
  },
  {
   "cell_type": "code",
   "execution_count": null,
   "id": "b3ea9d07",
   "metadata": {
    "jupyter": {
     "source_hidden": true
    },
    "tags": []
   },
   "outputs": [],
   "source": [
    "BIODIVERSITY_PATTERN = re.compile(r\"The simulation resulted in a biodiversity of (\\d+) unique species\\.\")\n",
    "TIMING_PATTERN = re.compile(r\"The simulation finished at time (\\d+\\.\\d+) after (\\d+) steps\\.\")\n",
    "MIGRATION_PATTERN = re.compile(r\"There were \\d+ migrations to (\\d+) ancestors on a finite metacommunity of size \\d+ during the simulation\\.\")"
   ]
  },
  {
   "cell_type": "code",
   "execution_count": null,
   "id": "89604318",
   "metadata": {
    "jupyter": {
     "source_hidden": true
    },
    "tags": []
   },
   "outputs": [],
   "source": [
    "target_directory = json.loads(subprocess.run(\"cargo metadata --format-version 1\".split(), capture_output=True).stdout)[\"target_directory\"]"
   ]
  },
  {
   "cell_type": "code",
   "execution_count": null,
   "id": "13c5b766-f731-4242-8a51-0495741ca998",
   "metadata": {
    "jupyter": {
     "source_hidden": true
    },
    "tags": []
   },
   "outputs": [],
   "source": [
    "def simulate_static_spatially_implicit_scenario(speciation=0.1, seed=42, local=(10, 10, 10), meta=(10, 10, 10), migration=0.1):\n",
    "    config = \"\".join(f\"\"\"\n",
    "    (\n",
    "        speciation: {migration},\n",
    "        sample: 1.0,\n",
    "        seed: {seed},\n",
    "\n",
    "        algorithm: Classical(),\n",
    "\n",
    "        log: None,\n",
    "\n",
    "        scenario: NonSpatial(\n",
    "            area: ({local[0]}, {local[1]}),\n",
    "            deme: {local[2]},\n",
    "            spatial: false,\n",
    "        ),\n",
    "\n",
    "        reporters: [\n",
    "            Plugin(\n",
    "                library: \"{target_directory}/release/deps/libnecsim_plugins_metacommunity.so\",\n",
    "                reporters: [\n",
    "                    Metacommunity(\n",
    "                        metacommunity: Finite({meta[0]*meta[1]*meta[2]}),\n",
    "                        seed: {seed},\n",
    "                    )\n",
    "                ]\n",
    "            )\n",
    "        ],\n",
    "    )\n",
    "    \"\"\".split()).replace(\",)\", \")\").replace(\",]\", \"]\")\n",
    "\n",
    "    # Run the simulation\n",
    "    result = subprocess.run(shlex.split(\n",
    "        \"cargo run --release --features rustcoalescence-algorithms-monolithic,\"\n",
    "        + f\"rustcoalescence-algorithms-independent --quiet -- simulate '{config}'\"\n",
    "    ), check=True, capture_output=True, text=True)\n",
    "\n",
    "    match = MIGRATION_PATTERN.search(result.stdout)\n",
    "    ancestors = int(match.group(1))\n",
    "\n",
    "    match = TIMING_PATTERN.search(result.stdout)\n",
    "    local_time = float(match.group(1))\n",
    "    local_steps = int(match.group(2))\n",
    "    \n",
    "    config = \"\".join(f\"\"\"\n",
    "    (\n",
    "        speciation: {speciation},\n",
    "        sample: {ancestors / (meta[0]*meta[1]*meta[2])},\n",
    "        seed: {seed},\n",
    "\n",
    "        algorithm: Classical(),\n",
    "\n",
    "        log: None,\n",
    "\n",
    "        scenario: NonSpatial(\n",
    "            area: ({meta[0]}, {meta[1]}),\n",
    "            deme: {meta[2]},\n",
    "            spatial: false,\n",
    "        ),\n",
    "\n",
    "        reporters: [\n",
    "            Plugin(\n",
    "                library: \"{target_directory}/release/deps/libnecsim_plugins_common.so\",\n",
    "                reporters: [Biodiversity()]\n",
    "            )\n",
    "        ],\n",
    "    )\n",
    "    \"\"\".split()).replace(\",)\", \")\").replace(\",]\", \"]\")\n",
    "    \n",
    "    # Run the simulation\n",
    "    result = subprocess.run(shlex.split(\n",
    "        \"cargo run --release --features rustcoalescence-algorithms-monolithic,\"\n",
    "        + f\"rustcoalescence-algorithms-independent --quiet -- simulate '{config}'\"\n",
    "    ), check=True, capture_output=True, text=True)\n",
    "\n",
    "    match = BIODIVERSITY_PATTERN.search(result.stdout)\n",
    "    biodiversity = int(match.group(1))\n",
    "\n",
    "    match = TIMING_PATTERN.search(result.stdout)\n",
    "    meta_time = float(match.group(1))\n",
    "    meta_steps = int(match.group(2))\n",
    "        \n",
    "    return biodiversity, (local_time + meta_time), (local_steps + meta_steps)"
   ]
  },
  {
   "cell_type": "code",
   "execution_count": null,
   "id": "7300acdb-6271-478c-b8ab-5addd5d7f592",
   "metadata": {
    "jupyter": {
     "source_hidden": true
    },
    "tags": []
   },
   "outputs": [],
   "source": [
    "def simulate_dynamic_spatially_implicit_scenario(speciation=0.1, seed=42, local=(10, 10, 10), meta=(10, 10, 10), migration=0.1):\n",
    "    config = \"\".join(f\"\"\"\n",
    "    (\n",
    "        speciation: {speciation},\n",
    "        sample: 1.0,\n",
    "        seed: {seed},\n",
    "\n",
    "        algorithm: Classical(),\n",
    "\n",
    "        log: None,\n",
    "\n",
    "        scenario: SpatiallyImplicit(\n",
    "            local_area: ({local[0]}, {local[1]}),\n",
    "            local_deme: {local[2]},\n",
    "            meta_area: ({meta[0]}, {meta[1]}),\n",
    "            meta_deme: {meta[2]},\n",
    "            migration: {migration}\n",
    "        ),\n",
    "\n",
    "        reporters: [\n",
    "            Plugin(\n",
    "                library: \"{target_directory}/release/deps/libnecsim_plugins_common.so\",\n",
    "                reporters: [Biodiversity()]\n",
    "            )\n",
    "        ],\n",
    "    )\n",
    "    \"\"\".split()).replace(\",)\", \")\").replace(\",]\", \"]\")\n",
    "\n",
    "    # Run the simulation\n",
    "    result = subprocess.run(shlex.split(\n",
    "        \"cargo run --release --features rustcoalescence-algorithms-monolithic,\"\n",
    "        + f\"rustcoalescence-algorithms-independent --quiet -- simulate '{config}'\"\n",
    "    ), check=True, capture_output=True, text=True)\n",
    "\n",
    "    match = BIODIVERSITY_PATTERN.search(result.stdout)\n",
    "    biodiversity = int(match.group(1))\n",
    "\n",
    "    match = TIMING_PATTERN.search(result.stdout)\n",
    "    time = float(match.group(1))\n",
    "    steps = int(match.group(2))\n",
    "        \n",
    "    return biodiversity, time, steps"
   ]
  },
  {
   "cell_type": "code",
   "execution_count": null,
   "id": "90ad3e7b",
   "metadata": {
    "jupyter": {
     "source_hidden": true
    },
    "tags": []
   },
   "outputs": [],
   "source": [
    "def batch_simulation_many_seeds(simulate, seeds, args=tuple(), kwargs=dict(), silent=False):\n",
    "    results = []\n",
    "\n",
    "    with tqdm(total=len(seeds), disable=silent) as progress:\n",
    "        def report_error(err):\n",
    "            print(err)\n",
    "        \n",
    "        def update_progress(result):\n",
    "            results.append(result)\n",
    "\n",
    "            progress.update()\n",
    "\n",
    "        with mp.Pool(mp.cpu_count()) as pool:\n",
    "            for seed in seeds:\n",
    "                pool.apply_async(simulate, args, {**kwargs, \"seed\": seed}, update_progress, report_error)\n",
    "\n",
    "            pool.close()\n",
    "            pool.join()\n",
    "    \n",
    "    return results"
   ]
  },
  {
   "cell_type": "code",
   "execution_count": null,
   "id": "2fa02802-9d67-4926-b9bc-d5d3dcb92cd4",
   "metadata": {
    "jupyter": {
     "source_hidden": true
    },
    "tags": []
   },
   "outputs": [],
   "source": [
    "def simulate_meta_migration_super_batch(speciation=0.001, local=(10, 10, 10), metas=[(10, 10, 10)], migrations=[0.1], size=10):\n",
    "    Metas = []\n",
    "    Migrations = []\n",
    "    Static = []\n",
    "    Dynamic = []\n",
    "\n",
    "    for migration in migrations:\n",
    "        for meta in metas:\n",
    "            seeds = np.random.randint(0, np.iinfo(\"uint64\").max, dtype=\"uint64\", size=size)\n",
    "\n",
    "            Metas.append(meta[0]*meta[1]*meta[2])\n",
    "            Migrations.append(migration)\n",
    "\n",
    "            results = batch_simulation_many_seeds(simulate_static_spatially_implicit_scenario, seeds, kwargs={\n",
    "                \"local\":local, \"meta\":meta, \"migration\": migration, \"speciation\": speciation\n",
    "            }, silent=True)\n",
    "            biodiversities, times, steps = tuple(zip(*results))\n",
    "\n",
    "            Static.append(np.mean(biodiversities))\n",
    "\n",
    "            results = batch_simulation_many_seeds(simulate_dynamic_spatially_implicit_scenario, seeds, kwargs={\n",
    "                \"local\":local, \"meta\":meta, \"migration\": migration, \"speciation\": speciation\n",
    "            }, silent=True)\n",
    "            biodiversities, times, steps = tuple(zip(*results))\n",
    "\n",
    "            Dynamic.append(np.mean(biodiversities))\n",
    "    \n",
    "    return Metas, Migrations, Static, Dynamic"
   ]
  },
  {
   "cell_type": "markdown",
   "id": "9060f2c4",
   "metadata": {
    "tags": []
   },
   "source": [
    "# II. Verify correct convergence of the SpatiallyImplicit scenario\n",
    "## II.1. Compute the biodiversity for a mesh of metacommunity sizes x migration probabilities"
   ]
  },
  {
   "cell_type": "code",
   "execution_count": null,
   "id": "7b19cf5b-987d-419f-adfd-fb580b7c8593",
   "metadata": {},
   "outputs": [],
   "source": [
    "Metas, Migrations, Static, Dynamic = simulate_meta_migration_super_batch(speciation=0.001, local=(10, 10, 10), metas=[\n",
    "    (1, 1, 1), (2, 1, 1), (3, 1, 1), (6, 1, 1),\n",
    "    (10, 1, 1), (10, 2, 1), (10, 3, 1), (10, 6, 1),\n",
    "    (10, 10, 1), (10, 10, 2), (10, 10, 3), (10, 10, 6),\n",
    "    (10, 10, 10), (18, 10, 10), (31, 10, 10), (56, 10, 10),\n",
    "    (100, 10, 10), (100, 18, 10), (100, 31, 10), (100, 56, 10),\n",
    "    (100, 100, 10), (100, 100, 18), (100, 100, 31), (100, 100, 56),\n",
    "    (100, 100, 100)\n",
    "], migrations=[0.01, 0.018, 0.031, 0.056, 0.1, 0.18, 0.31, 0.56, 0.99], size=1000)"
   ]
  },
  {
   "cell_type": "code",
   "execution_count": null,
   "id": "76c5e530-d6e4-4da4-841d-a76b3f9d2efb",
   "metadata": {},
   "outputs": [],
   "source": [
    "Expected = [\n",
    "    s_migration(10*10, 10, meta, 1, migration, 0.001) if meta > 1 else 1\n",
    "    for meta, migration in zip(Metas, Migrations)\n",
    "]"
   ]
  },
  {
   "cell_type": "markdown",
   "id": "636695b0-3ada-44aa-8ef7-020b34bfeab3",
   "metadata": {},
   "source": [
    "## II.2 Plot the expected biodiversity surface"
   ]
  },
  {
   "cell_type": "code",
   "execution_count": null,
   "id": "8d1dc18e-c802-44f3-a8f7-25d211b5d8f3",
   "metadata": {
    "jupyter": {
     "source_hidden": true
    },
    "tags": []
   },
   "outputs": [],
   "source": [
    "import matplotlib.ticker as mticker\n",
    "\n",
    "fig, ax = plt.subplots(figsize=(8, 8), subplot_kw={\"projection\": \"3d\"})\n",
    "\n",
    "ax.set_title(\"Metacommunity-Migration Interaction\")\n",
    "\n",
    "def log_tick_formatter(val, pos=None):\n",
    "    return \"{:.0e}\".format(10**val)\n",
    "\n",
    "ax.xaxis.set_major_formatter(mticker.FuncFormatter(log_tick_formatter))\n",
    "ax.yaxis.set_major_formatter(mticker.FuncFormatter(log_tick_formatter))\n",
    "\n",
    "ax.set_xlabel(\"Metacommunity size\")\n",
    "ax.set_ylabel(\"Migration probability\")\n",
    "ax.set_zlabel(\"Biodiversity\")\n",
    "\n",
    "ax.plot_surface(\n",
    "    np.log10(np.array(Metas).reshape((9, 25))),\n",
    "    np.log10(np.array(Migrations).reshape((9, 25))),\n",
    "    np.array(Expected).reshape((9, 25)),\n",
    "    antialiased=True, cmap='summer'\n",
    ")\n",
    "\n",
    "ax.view_init(30, 225)\n",
    "\n",
    "plt.show()"
   ]
  },
  {
   "cell_type": "markdown",
   "id": "c912f6ec-c8d4-4eac-95fa-cafad9a901c2",
   "metadata": {},
   "source": [
    "## II.3 Plot the effect of metacommunity size on biodiversity"
   ]
  },
  {
   "cell_type": "code",
   "execution_count": null,
   "id": "339c200c-024c-4674-825f-ef3726ab44e8",
   "metadata": {
    "jupyter": {
     "source_hidden": true
    },
    "tags": []
   },
   "outputs": [],
   "source": [
    "fig, axes = plt.subplots(3, 3, figsize=(15, 18))\n",
    "\n",
    "for i in range(9):\n",
    "    ax = axes[i // 3][i % 3]\n",
    "    \n",
    "    si = 25 * i\n",
    "    ei = si + 25\n",
    "    \n",
    "    ax.set_title(f\"migration = {Migrations[si]}\")\n",
    "    ax.set_xlabel('metacommunity size')\n",
    "    ax.set_ylabel('biodiversity')\n",
    "    ax.set_xscale('log')\n",
    "    ax.set_yscale('log')\n",
    "    ax.plot(Metas[si:ei], Static[si:ei], label='static')\n",
    "    ax.plot(Metas[si:ei], Dynamic[si:ei], label='dynamic')\n",
    "    ax.plot(Metas[si:ei], Expected[si:ei], label='expected')\n",
    "    ax.legend()\n",
    "\n",
    "plt.show()"
   ]
  },
  {
   "cell_type": "markdown",
   "id": "06633a1b-f37d-499f-a716-7d6fce104c33",
   "metadata": {},
   "source": [
    "## II.4 Plot a summary on the effect of metacommunity size on biodiversity"
   ]
  },
  {
   "cell_type": "code",
   "execution_count": null,
   "id": "e4cfe795-b175-45fd-a68b-9fac4003abbb",
   "metadata": {
    "jupyter": {
     "source_hidden": true
    },
    "tags": []
   },
   "outputs": [],
   "source": [
    "fig, axes = plt.subplots(1, 3, figsize=(15, 6))\n",
    "\n",
    "for i in range(0, 9, 4):\n",
    "    ax = axes[i // 3]\n",
    "    \n",
    "    si = 25 * i\n",
    "    ei = si + 25\n",
    "    \n",
    "    ax.set_title(f\"$m_{{k}}$ = {Migrations[si]}\")\n",
    "    ax.set_xlabel('metacommunity size')\n",
    "    ax.set_ylabel('biodiversity')\n",
    "    ax.set_xscale('log')\n",
    "    ax.set_yscale('log')\n",
    "    ax.plot(Metas[si:ei], Dynamic[si:ei], label='dynamic metacommunity')\n",
    "    ax.plot(Metas[si:ei], Expected[si:ei], color='black', linestyle='--', label='expected biodiversity')\n",
    "    ax.plot(Metas[si:ei], Static[si:ei], label='static metacommunity')\n",
    "    ax.legend()\n",
    "\n",
    "fig.suptitle(\"Comparison of simulations with a static vs dynamic metacommunity against the analytical model\\nwith increasing metacommunity sizes and migration probabilities $m_{k}$\")\n",
    "    \n",
    "plt.show()"
   ]
  },
  {
   "cell_type": "markdown",
   "id": "8f9d1a71-18ab-461b-a196-96898f30fb39",
   "metadata": {},
   "source": [
    "## II.5 Plot the effect of migration rates on biodiversity"
   ]
  },
  {
   "cell_type": "code",
   "execution_count": null,
   "id": "6a727fbb-78a5-4749-a648-e95718979aea",
   "metadata": {
    "jupyter": {
     "source_hidden": true
    },
    "tags": []
   },
   "outputs": [],
   "source": [
    "fig, axes = plt.subplots(5, 5, figsize=(25, 30))\n",
    "\n",
    "for i in range(25):\n",
    "    ax = axes[i // 5][i % 5]\n",
    "    \n",
    "    ax.set_title(f\"metacommunity size = {Metas[i]}\")\n",
    "    ax.set_xlabel('migration')\n",
    "    ax.set_ylabel('biodiversity')\n",
    "    ax.set_xscale('log')\n",
    "    ax.set_yscale('log')\n",
    "    ax.plot(Migrations[i::25], Static[i::25], label='static')\n",
    "    ax.plot(Migrations[i::25], Dynamic[i::25], label='dynamic')\n",
    "    ax.plot(Migrations[i::25], Expected[i::25], label='expected')\n",
    "    ax.legend()\n",
    "\n",
    "plt.show()"
   ]
  },
  {
   "cell_type": "code",
   "execution_count": null,
   "id": "bb3e079e",
   "metadata": {},
   "outputs": [],
   "source": []
  }
 ],
 "metadata": {
  "kernelspec": {
   "display_name": "Python 3",
   "language": "python",
   "name": "python3"
  },
  "language_info": {
   "codemirror_mode": {
    "name": "ipython",
    "version": 3
   },
   "file_extension": ".py",
   "mimetype": "text/x-python",
   "name": "python",
   "nbconvert_exporter": "python",
   "pygments_lexer": "ipython3",
   "version": "3.7.5"
  }
 },
 "nbformat": 4,
 "nbformat_minor": 5
}
