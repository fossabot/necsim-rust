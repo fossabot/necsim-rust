{
 "cells": [
  {
   "cell_type": "code",
   "execution_count": null,
   "id": "85acfeb7",
   "metadata": {
    "jupyter": {
     "source_hidden": true
    },
    "tags": []
   },
   "outputs": [],
   "source": [
    "import subprocess\n",
    "import shlex\n",
    "import re\n",
    "import json\n",
    "\n",
    "import numpy as np\n",
    "import multiprocessing as mp\n",
    "\n",
    "from matplotlib import pyplot as plt\n",
    "from scipy import stats\n",
    "from tqdm import tqdm\n",
    "from IPython.display import display, Markdown\n",
    "from tempfile import TemporaryDirectory"
   ]
  },
  {
   "cell_type": "code",
   "execution_count": null,
   "id": "2f2e88d7-353d-478f-86fa-34aaeaf3b878",
   "metadata": {
    "jupyter": {
     "source_hidden": true
    },
    "tags": []
   },
   "outputs": [],
   "source": [
    "import matplotlib as mpl\n",
    "mpl.rcParams['figure.dpi'] = 400\n",
    "\n",
    "def show():\n",
    "    plt.savefig(f\"{show.fig_counter}.pdf\", dpi='figure', transparent=True, bbox_inches='tight')\n",
    "    show.fig_counter += 1\n",
    "    show.plt_show()\n",
    "\n",
    "show.fig_counter = 0\n",
    "show.plt_show = plt.show\n",
    "\n",
    "plt.show = show"
   ]
  },
  {
   "cell_type": "code",
   "execution_count": null,
   "id": "3cb196dd",
   "metadata": {
    "jupyter": {
     "source_hidden": true
    },
    "tags": []
   },
   "outputs": [],
   "source": [
    "import scipy.special as sp\n",
    "\n",
    "def s_island(A_eff, deme, nu):\n",
    "    theta_A_eff = (deme * A_eff - 1.0) * nu / (1.0 - nu)\n",
    "    \n",
    "    return theta_A_eff * (sp.digamma(theta_A_eff + deme * A_eff) - sp.digamma(theta_A_eff))\n",
    "\n",
    "def s_island_limit(A_eff, deme, nu):\n",
    "    return ((A_eff * deme - 1.0) * nu * np.log(1.0 / nu)) / (1.0 - nu)"
   ]
  },
  {
   "cell_type": "code",
   "execution_count": null,
   "id": "8f9f5a64",
   "metadata": {
    "jupyter": {
     "source_hidden": true
    },
    "tags": []
   },
   "outputs": [],
   "source": [
    "BIODIVERSITY_PATTERN = re.compile(r\"The simulation resulted in a biodiversity of (\\d+) unique species\\.\")\n",
    "TIMING_PATTERN = re.compile(r\"The simulation finished at time (\\d+\\.\\d+) after (\\d+) steps\\.\")"
   ]
  },
  {
   "cell_type": "code",
   "execution_count": null,
   "id": "839ac46d",
   "metadata": {
    "jupyter": {
     "source_hidden": true
    },
    "tags": []
   },
   "outputs": [],
   "source": [
    "target_directory = json.loads(subprocess.run(\"cargo metadata --format-version 1\".split(), capture_output=True).stdout)[\"target_directory\"]"
   ]
  },
  {
   "cell_type": "code",
   "execution_count": null,
   "id": "b4c55b7a",
   "metadata": {
    "jupyter": {
     "source_hidden": true
    },
    "tags": []
   },
   "outputs": [],
   "source": [
    "def simulate_non_spatial_monolithic(algorithm, speciation=0.1, seed=42, size=(10, 10, 10), spatial=False):\n",
    "    config = \"\".join(f\"\"\"\n",
    "    (\n",
    "        speciation: {speciation},\n",
    "        sample: 1.0,\n",
    "        seed: {seed},\n",
    "\n",
    "        algorithm: {algorithm},\n",
    "\n",
    "        log: None,\n",
    "\n",
    "        scenario: NonSpatial(\n",
    "            area: ({size[0]}, {size[1]}),\n",
    "            deme: {size[2]},\n",
    "            spatial: {str(spatial).lower()},\n",
    "        ),\n",
    "\n",
    "        reporters: [\n",
    "            Plugin(\n",
    "                library: \"{target_directory}/release/deps/libnecsim_plugins_common.so\",\n",
    "                reporters: [Biodiversity()]\n",
    "            )\n",
    "        ],\n",
    "    )\n",
    "    \"\"\".split()).replace(\",)\", \")\").replace(\",]\", \"]\")\n",
    "\n",
    "    # Run the simulation\n",
    "    result = subprocess.run(shlex.split(\n",
    "        \"cargo run --release --features rustcoalescence-algorithms-monolithic,\"\n",
    "        + \"rustcoalescence-algorithms-independent,necsim-partitioning-mpi \"\n",
    "        + f\"--quiet -- simulate '{config}'\"\n",
    "    ), check=True, capture_output=True, text=True)\n",
    "\n",
    "    match = BIODIVERSITY_PATTERN.search(result.stdout)\n",
    "    if match is None:\n",
    "        print(result.stdout)\n",
    "        print(result.stderr)\n",
    "    biodiversity = int(match.group(1))\n",
    "\n",
    "    match = TIMING_PATTERN.search(result.stdout)\n",
    "    if match is None:\n",
    "        print(result.stdout)\n",
    "        print(result.stderr)\n",
    "    time = float(match.group(1))\n",
    "    steps = int(match.group(2))\n",
    "        \n",
    "    return biodiversity, time, steps"
   ]
  },
  {
   "cell_type": "code",
   "execution_count": null,
   "id": "8f940b1e",
   "metadata": {
    "jupyter": {
     "source_hidden": true
    },
    "tags": []
   },
   "outputs": [],
   "source": [
    "def batch_simulation_many_seeds(simulate, seeds, args=tuple(), kwargs=dict(), silent=False, processes=mp.cpu_count()):\n",
    "    results = []\n",
    "\n",
    "    with tqdm(total=len(seeds), disable=silent) as progress:\n",
    "        def update_progress(result):\n",
    "            results.append(result)\n",
    "\n",
    "            progress.update()\n",
    "        \n",
    "        def update_error(err):\n",
    "            print(err)\n",
    "\n",
    "        with mp.Pool(processes) as pool:\n",
    "            for seed in seeds:\n",
    "                pool.apply_async(simulate, args, {**kwargs, \"seed\": seed}, update_progress, update_error)\n",
    "\n",
    "            pool.close()\n",
    "            pool.join()\n",
    "    \n",
    "    return results"
   ]
  },
  {
   "cell_type": "code",
   "execution_count": null,
   "id": "a2e721b5-0c01-4b79-bb7a-d2bbe8db3eda",
   "metadata": {
    "tags": []
   },
   "outputs": [],
   "source": [
    "results = dict()\n",
    "\n",
    "for algorithm in [\"Classical()\", \"Gillespie()\", \"SkippingGillespie()\", \"Independent()\"]:\n",
    "    seeds = np.random.randint(0, np.iinfo(\"uint64\").max, dtype=\"uint64\", size=10000)\n",
    "\n",
    "    results[algorithm] = batch_simulation_many_seeds(\n",
    "        simulate_non_spatial_monolithic, seeds, args=(algorithm,), kwargs={\n",
    "            \"size\":(100, 100, 100), \"speciation\":0.001\n",
    "        }, silent=False\n",
    "    )"
   ]
  },
  {
   "cell_type": "code",
   "execution_count": null,
   "id": "f8cd8009-7da6-4a37-9562-950c2040869d",
   "metadata": {
    "jupyter": {
     "source_hidden": true
    },
    "tags": []
   },
   "outputs": [],
   "source": [
    "plt.title(\"Convergence of Biodiversity results\")\n",
    "plt.xlabel(\"#simulations\")\n",
    "plt.ylabel(\"species richness\")\n",
    "\n",
    "for algorithm, result in results.items():\n",
    "    biodiversities, times, steps = tuple(zip(*result))\n",
    "    \n",
    "    plt.plot(\n",
    "        range(1, len(biodiversities) + 1),\n",
    "        np.cumsum(biodiversities)[0:] / np.arange(1, len(biodiversities) + 1),\n",
    "        label=algorithm[:algorithm.find('(')]\n",
    "    )\n",
    "\n",
    "plt.axhline(y=s_island(100*100, 100, 0.001), color='black', linestyle='--', label=\"Expected\")\n",
    "\n",
    "plt.legend()\n",
    "plt.show()"
   ]
  },
  {
   "cell_type": "code",
   "execution_count": null,
   "id": "d205b56c-b90f-478d-b276-1ff52b557203",
   "metadata": {
    "jupyter": {
     "source_hidden": true
    },
    "tags": []
   },
   "outputs": [],
   "source": [
    "plt.title(\"Convergence of SEM of Biodiversity results\")\n",
    "plt.xlabel(\"#simulations\")\n",
    "plt.ylabel(\"SEM at 95% level\")\n",
    "\n",
    "for algorithm, result in results.items():\n",
    "    biodiversities, times, steps = tuple(zip(*result))\n",
    "    \n",
    "    plt.plot(\n",
    "        range(100, len(biodiversities) + 1),\n",
    "        [stats.sem(biodiversities[:i]) * stats.t.ppf((1.95) * 0.5, i - 1) for i in range(100, len(biodiversities) + 1)],\n",
    "        label=algorithm[:algorithm.find('(')]\n",
    "    )\n",
    "\n",
    "plt.legend()\n",
    "plt.show()"
   ]
  },
  {
   "cell_type": "code",
   "execution_count": null,
   "id": "afc9117b-736d-4fe8-ac75-d657c434a112",
   "metadata": {},
   "outputs": [],
   "source": []
  }
 ],
 "metadata": {
  "kernelspec": {
   "display_name": "Python 3",
   "language": "python",
   "name": "python3"
  },
  "language_info": {
   "codemirror_mode": {
    "name": "ipython",
    "version": 3
   },
   "file_extension": ".py",
   "mimetype": "text/x-python",
   "name": "python",
   "nbconvert_exporter": "python",
   "pygments_lexer": "ipython3",
   "version": "3.7.5"
  }
 },
 "nbformat": 4,
 "nbformat_minor": 5
}
